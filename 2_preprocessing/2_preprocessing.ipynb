{
 "cells": [
  {
   "cell_type": "markdown",
   "metadata": {},
   "source": [
    "Date: 2024-12-07 \n",
    "\n",
    "Latest change when and what: \n",
    "- 18/12 2024: removed old code\n",
    "\n",
    "Notes:\n",
    "\n",
    "# 2. Preprocessing\n",
    "\n",
    "Cleaning the data, tokenizing it, splitting it into test, train and validation, and finally embedding the data."
   ]
  },
  {
   "cell_type": "code",
   "execution_count": null,
   "metadata": {},
   "outputs": [],
   "source": [
    "# importing packages\n",
    "import pandas as pd\n",
    "import numpy as np\n",
    "from matplotlib import pyplot as plt\n",
    "import kagglehub\n",
    "import shutil\n",
    "import seaborn as sns\n",
    "import re\n",
    "from transformers import AutoTokenizer, AutoModel\n",
    "from sklearn.model_selection import train_test_split\n",
    "import torch"
   ]
  },
  {
   "cell_type": "code",
   "execution_count": 2,
   "metadata": {},
   "outputs": [
    {
     "data": {
      "text/html": [
       "<div>\n",
       "<style scoped>\n",
       "    .dataframe tbody tr th:only-of-type {\n",
       "        vertical-align: middle;\n",
       "    }\n",
       "\n",
       "    .dataframe tbody tr th {\n",
       "        vertical-align: top;\n",
       "    }\n",
       "\n",
       "    .dataframe thead th {\n",
       "        text-align: right;\n",
       "    }\n",
       "</style>\n",
       "<table border=\"1\" class=\"dataframe\">\n",
       "  <thead>\n",
       "    <tr style=\"text-align: right;\">\n",
       "      <th></th>\n",
       "      <th>title</th>\n",
       "      <th>rating</th>\n",
       "      <th>imdbid</th>\n",
       "      <th>year</th>\n",
       "      <th>id</th>\n",
       "      <th>passed_bechdel</th>\n",
       "      <th>script_filename</th>\n",
       "      <th>script</th>\n",
       "    </tr>\n",
       "  </thead>\n",
       "  <tbody>\n",
       "    <tr>\n",
       "      <th>0</th>\n",
       "      <td>Nosferatu, eine Symphonie des Grauens</td>\n",
       "      <td>2</td>\n",
       "      <td>13442</td>\n",
       "      <td>1922</td>\n",
       "      <td>1307</td>\n",
       "      <td>0</td>\n",
       "      <td>Nosferatu_0013442.txt</td>\n",
       "      <td>\\n\\n                              1922\\n\\n\\n\\n...</td>\n",
       "    </tr>\n",
       "    <tr>\n",
       "      <th>1</th>\n",
       "      <td>Phantom of the Opera, The</td>\n",
       "      <td>2</td>\n",
       "      <td>16220</td>\n",
       "      <td>1925</td>\n",
       "      <td>1305</td>\n",
       "      <td>0</td>\n",
       "      <td>The Phantom of the Opera_0016220.txt</td>\n",
       "      <td>The Phantom of the Opera\\n\\nTHE PHANTOM OF THE...</td>\n",
       "    </tr>\n",
       "    <tr>\n",
       "      <th>2</th>\n",
       "      <td>Battleship Potemkin</td>\n",
       "      <td>0</td>\n",
       "      <td>15648</td>\n",
       "      <td>1925</td>\n",
       "      <td>1308</td>\n",
       "      <td>0</td>\n",
       "      <td>Battleship Potemkin_0015648.txt</td>\n",
       "      <td>Battleship Potemkin\\n\\nScenario and script by ...</td>\n",
       "    </tr>\n",
       "    <tr>\n",
       "      <th>3</th>\n",
       "      <td>Lost World, The</td>\n",
       "      <td>2</td>\n",
       "      <td>16039</td>\n",
       "      <td>1925</td>\n",
       "      <td>5514</td>\n",
       "      <td>0</td>\n",
       "      <td>The Lost World_0016039.txt</td>\n",
       "      <td>THE LOST WORLD\\nJURASSIC PARK\\n\\nscreenplay by...</td>\n",
       "    </tr>\n",
       "    <tr>\n",
       "      <th>4</th>\n",
       "      <td>Metropolis</td>\n",
       "      <td>1</td>\n",
       "      <td>17136</td>\n",
       "      <td>1927</td>\n",
       "      <td>1267</td>\n",
       "      <td>0</td>\n",
       "      <td>Metropolis_0017136.txt</td>\n",
       "      <td>\\n\\n\\n\\n\\n\\n\\n\\n\\n\\n\\n\\n\\n\\n\\n\\n\\n\\n\\n\\n\\n\\n  ...</td>\n",
       "    </tr>\n",
       "  </tbody>\n",
       "</table>\n",
       "</div>"
      ],
      "text/plain": [
       "                                   title  rating  imdbid  year    id  \\\n",
       "0  Nosferatu, eine Symphonie des Grauens       2   13442  1922  1307   \n",
       "1              Phantom of the Opera, The       2   16220  1925  1305   \n",
       "2                    Battleship Potemkin       0   15648  1925  1308   \n",
       "3                        Lost World, The       2   16039  1925  5514   \n",
       "4                             Metropolis       1   17136  1927  1267   \n",
       "\n",
       "   passed_bechdel                       script_filename  \\\n",
       "0               0                 Nosferatu_0013442.txt   \n",
       "1               0  The Phantom of the Opera_0016220.txt   \n",
       "2               0       Battleship Potemkin_0015648.txt   \n",
       "3               0            The Lost World_0016039.txt   \n",
       "4               0                Metropolis_0017136.txt   \n",
       "\n",
       "                                              script  \n",
       "0  \\n\\n                              1922\\n\\n\\n\\n...  \n",
       "1  The Phantom of the Opera\\n\\nTHE PHANTOM OF THE...  \n",
       "2  Battleship Potemkin\\n\\nScenario and script by ...  \n",
       "3  THE LOST WORLD\\nJURASSIC PARK\\n\\nscreenplay by...  \n",
       "4  \\n\\n\\n\\n\\n\\n\\n\\n\\n\\n\\n\\n\\n\\n\\n\\n\\n\\n\\n\\n\\n\\n  ...  "
      ]
     },
     "execution_count": 2,
     "metadata": {},
     "output_type": "execute_result"
    }
   ],
   "source": [
    "# load data\n",
    "data = pd.read_csv(\"../1_data_acquisition/data/labels_and_scripts.csv\")\n",
    "data.head()"
   ]
  },
  {
   "cell_type": "markdown",
   "metadata": {},
   "source": [
    "## 2.1 Cleaning the data\n",
    "\n",
    "Removing '/n', lowercasing, removing special characters, etc"
   ]
  },
  {
   "cell_type": "code",
   "execution_count": 8,
   "metadata": {},
   "outputs": [
    {
     "data": {
      "text/html": [
       "<div>\n",
       "<style scoped>\n",
       "    .dataframe tbody tr th:only-of-type {\n",
       "        vertical-align: middle;\n",
       "    }\n",
       "\n",
       "    .dataframe tbody tr th {\n",
       "        vertical-align: top;\n",
       "    }\n",
       "\n",
       "    .dataframe thead th {\n",
       "        text-align: right;\n",
       "    }\n",
       "</style>\n",
       "<table border=\"1\" class=\"dataframe\">\n",
       "  <thead>\n",
       "    <tr style=\"text-align: right;\">\n",
       "      <th></th>\n",
       "      <th>title</th>\n",
       "      <th>rating</th>\n",
       "      <th>imdbid</th>\n",
       "      <th>year</th>\n",
       "      <th>id</th>\n",
       "      <th>passed_bechdel</th>\n",
       "      <th>script_filename</th>\n",
       "      <th>script</th>\n",
       "    </tr>\n",
       "  </thead>\n",
       "  <tbody>\n",
       "    <tr>\n",
       "      <th>0</th>\n",
       "      <td>Nosferatu, eine Symphonie des Grauens</td>\n",
       "      <td>2</td>\n",
       "      <td>13442</td>\n",
       "      <td>1922</td>\n",
       "      <td>1307</td>\n",
       "      <td>0</td>\n",
       "      <td>Nosferatu_0013442.txt</td>\n",
       "      <td>1922 NOSFERATU cast Count Dracula the vampireM...</td>\n",
       "    </tr>\n",
       "    <tr>\n",
       "      <th>1</th>\n",
       "      <td>Phantom of the Opera, The</td>\n",
       "      <td>2</td>\n",
       "      <td>16220</td>\n",
       "      <td>1925</td>\n",
       "      <td>1305</td>\n",
       "      <td>0</td>\n",
       "      <td>The Phantom of the Opera_0016220.txt</td>\n",
       "      <td>The Phantom of the Opera THE PHANTOM OF THE OP...</td>\n",
       "    </tr>\n",
       "    <tr>\n",
       "      <th>2</th>\n",
       "      <td>Battleship Potemkin</td>\n",
       "      <td>0</td>\n",
       "      <td>15648</td>\n",
       "      <td>1925</td>\n",
       "      <td>1308</td>\n",
       "      <td>0</td>\n",
       "      <td>Battleship Potemkin_0015648.txt</td>\n",
       "      <td>Battleship Potemkin Scenario and script by Ser...</td>\n",
       "    </tr>\n",
       "    <tr>\n",
       "      <th>3</th>\n",
       "      <td>Lost World, The</td>\n",
       "      <td>2</td>\n",
       "      <td>16039</td>\n",
       "      <td>1925</td>\n",
       "      <td>5514</td>\n",
       "      <td>0</td>\n",
       "      <td>The Lost World_0016039.txt</td>\n",
       "      <td>THE LOST WORLD JURASSIC PARK screenplay by Dav...</td>\n",
       "    </tr>\n",
       "    <tr>\n",
       "      <th>4</th>\n",
       "      <td>Metropolis</td>\n",
       "      <td>1</td>\n",
       "      <td>17136</td>\n",
       "      <td>1927</td>\n",
       "      <td>1267</td>\n",
       "      <td>0</td>\n",
       "      <td>Metropolis_0017136.txt</td>\n",
       "      <td>METROPOLIS by Corey Mandell FADE IN EXT MANHAT...</td>\n",
       "    </tr>\n",
       "  </tbody>\n",
       "</table>\n",
       "</div>"
      ],
      "text/plain": [
       "                                   title  rating  imdbid  year    id  \\\n",
       "0  Nosferatu, eine Symphonie des Grauens       2   13442  1922  1307   \n",
       "1              Phantom of the Opera, The       2   16220  1925  1305   \n",
       "2                    Battleship Potemkin       0   15648  1925  1308   \n",
       "3                        Lost World, The       2   16039  1925  5514   \n",
       "4                             Metropolis       1   17136  1927  1267   \n",
       "\n",
       "   passed_bechdel                       script_filename  \\\n",
       "0               0                 Nosferatu_0013442.txt   \n",
       "1               0  The Phantom of the Opera_0016220.txt   \n",
       "2               0       Battleship Potemkin_0015648.txt   \n",
       "3               0            The Lost World_0016039.txt   \n",
       "4               0                Metropolis_0017136.txt   \n",
       "\n",
       "                                              script  \n",
       "0  1922 NOSFERATU cast Count Dracula the vampireM...  \n",
       "1  The Phantom of the Opera THE PHANTOM OF THE OP...  \n",
       "2  Battleship Potemkin Scenario and script by Ser...  \n",
       "3  THE LOST WORLD JURASSIC PARK screenplay by Dav...  \n",
       "4  METROPOLIS by Corey Mandell FADE IN EXT MANHAT...  "
      ]
     },
     "execution_count": 8,
     "metadata": {},
     "output_type": "execute_result"
    }
   ],
   "source": [
    "data[\"script\"] = (\n",
    "    data[\"script\"]\n",
    "    .str.replace(r'[^\\w\\s]', '', regex=True)  # Remove special characters\n",
    "    .str.replace('\\n', ' ')                   # Remove newlines\n",
    "    .str.replace(r'\\s+', ' ', regex=True)    # Replace multiple spaces with a single space\n",
    "    .str.strip()                             # Remove leading/trailing spaces\n",
    ")\n",
    "\n",
    "data.head()"
   ]
  },
  {
   "cell_type": "code",
   "execution_count": 9,
   "metadata": {},
   "outputs": [
    {
     "data": {
      "text/html": [
       "<div>\n",
       "<style scoped>\n",
       "    .dataframe tbody tr th:only-of-type {\n",
       "        vertical-align: middle;\n",
       "    }\n",
       "\n",
       "    .dataframe tbody tr th {\n",
       "        vertical-align: top;\n",
       "    }\n",
       "\n",
       "    .dataframe thead th {\n",
       "        text-align: right;\n",
       "    }\n",
       "</style>\n",
       "<table border=\"1\" class=\"dataframe\">\n",
       "  <thead>\n",
       "    <tr style=\"text-align: right;\">\n",
       "      <th></th>\n",
       "      <th>title</th>\n",
       "      <th>rating</th>\n",
       "      <th>imdbid</th>\n",
       "      <th>year</th>\n",
       "      <th>id</th>\n",
       "      <th>passed_bechdel</th>\n",
       "      <th>script_filename</th>\n",
       "      <th>script</th>\n",
       "    </tr>\n",
       "  </thead>\n",
       "  <tbody>\n",
       "    <tr>\n",
       "      <th>0</th>\n",
       "      <td>Nosferatu, eine Symphonie des Grauens</td>\n",
       "      <td>2</td>\n",
       "      <td>13442</td>\n",
       "      <td>1922</td>\n",
       "      <td>1307</td>\n",
       "      <td>0</td>\n",
       "      <td>Nosferatu_0013442.txt</td>\n",
       "      <td>1922 nosferatu cast count dracula the vampirem...</td>\n",
       "    </tr>\n",
       "    <tr>\n",
       "      <th>1</th>\n",
       "      <td>Phantom of the Opera, The</td>\n",
       "      <td>2</td>\n",
       "      <td>16220</td>\n",
       "      <td>1925</td>\n",
       "      <td>1305</td>\n",
       "      <td>0</td>\n",
       "      <td>The Phantom of the Opera_0016220.txt</td>\n",
       "      <td>the phantom of the opera the phantom of the op...</td>\n",
       "    </tr>\n",
       "    <tr>\n",
       "      <th>2</th>\n",
       "      <td>Battleship Potemkin</td>\n",
       "      <td>0</td>\n",
       "      <td>15648</td>\n",
       "      <td>1925</td>\n",
       "      <td>1308</td>\n",
       "      <td>0</td>\n",
       "      <td>Battleship Potemkin_0015648.txt</td>\n",
       "      <td>battleship potemkin scenario and script by ser...</td>\n",
       "    </tr>\n",
       "    <tr>\n",
       "      <th>3</th>\n",
       "      <td>Lost World, The</td>\n",
       "      <td>2</td>\n",
       "      <td>16039</td>\n",
       "      <td>1925</td>\n",
       "      <td>5514</td>\n",
       "      <td>0</td>\n",
       "      <td>The Lost World_0016039.txt</td>\n",
       "      <td>the lost world jurassic park screenplay by dav...</td>\n",
       "    </tr>\n",
       "    <tr>\n",
       "      <th>4</th>\n",
       "      <td>Metropolis</td>\n",
       "      <td>1</td>\n",
       "      <td>17136</td>\n",
       "      <td>1927</td>\n",
       "      <td>1267</td>\n",
       "      <td>0</td>\n",
       "      <td>Metropolis_0017136.txt</td>\n",
       "      <td>metropolis by corey mandell fade in ext manhat...</td>\n",
       "    </tr>\n",
       "  </tbody>\n",
       "</table>\n",
       "</div>"
      ],
      "text/plain": [
       "                                   title  rating  imdbid  year    id  \\\n",
       "0  Nosferatu, eine Symphonie des Grauens       2   13442  1922  1307   \n",
       "1              Phantom of the Opera, The       2   16220  1925  1305   \n",
       "2                    Battleship Potemkin       0   15648  1925  1308   \n",
       "3                        Lost World, The       2   16039  1925  5514   \n",
       "4                             Metropolis       1   17136  1927  1267   \n",
       "\n",
       "   passed_bechdel                       script_filename  \\\n",
       "0               0                 Nosferatu_0013442.txt   \n",
       "1               0  The Phantom of the Opera_0016220.txt   \n",
       "2               0       Battleship Potemkin_0015648.txt   \n",
       "3               0            The Lost World_0016039.txt   \n",
       "4               0                Metropolis_0017136.txt   \n",
       "\n",
       "                                              script  \n",
       "0  1922 nosferatu cast count dracula the vampirem...  \n",
       "1  the phantom of the opera the phantom of the op...  \n",
       "2  battleship potemkin scenario and script by ser...  \n",
       "3  the lost world jurassic park screenplay by dav...  \n",
       "4  metropolis by corey mandell fade in ext manhat...  "
      ]
     },
     "execution_count": 9,
     "metadata": {},
     "output_type": "execute_result"
    }
   ],
   "source": [
    "# for lowercasing \n",
    "data_lowercase = data.copy()\n",
    "data_lowercase[\"script\"] = (data['script'].str.lower())\n",
    "data_lowercase.head()"
   ]
  },
  {
   "cell_type": "markdown",
   "metadata": {},
   "source": [
    "# 2.1 Splitting the data into train, test and validation\n"
   ]
  },
  {
   "cell_type": "markdown",
   "metadata": {},
   "source": [
    "Stratified train, test, validation split. Won't make a huge difference because the data is already very balanced, but it is good practice."
   ]
  },
  {
   "cell_type": "code",
   "execution_count": 10,
   "metadata": {},
   "outputs": [
    {
     "name": "stdout",
     "output_type": "stream",
     "text": [
      "Train size: 1418\n",
      "Validation size: 177\n",
      "Test size: 178\n"
     ]
    }
   ],
   "source": [
    "########## splitting the dataset which is not lower case\n",
    "# Step 1: Split the data into train and temp (validation+test) sets\n",
    "train_data, temp_data = train_test_split(data, stratify = data['passed_bechdel'] , test_size=0.2, random_state=42)  # 20% for validation+test\n",
    "\n",
    "# Step 2: Split temp_data into validation and test sets (10% each)\n",
    "val_data, test_data = train_test_split(temp_data, stratify = temp_data['passed_bechdel'], test_size=0.5, random_state=42)  # 50% of temp (10% of original)\n",
    "\n",
    "# Display the sizes of each set\n",
    "print(f\"Train size: {len(train_data)}\")\n",
    "print(f\"Validation size: {len(val_data)}\")\n",
    "print(f\"Test size: {len(test_data)}\")"
   ]
  },
  {
   "cell_type": "code",
   "execution_count": 11,
   "metadata": {},
   "outputs": [
    {
     "name": "stdout",
     "output_type": "stream",
     "text": [
      "89\n",
      "88\n"
     ]
    }
   ],
   "source": [
    "print(sum(val_data['passed_bechdel'] ==  1)) # checking\n",
    "print(sum(val_data['passed_bechdel'] ==  0)) "
   ]
  },
  {
   "cell_type": "code",
   "execution_count": 14,
   "metadata": {},
   "outputs": [],
   "source": [
    "# saving the test, train and val datasets\n",
    "train_data.to_csv(\"train_case_sensitive.csv\", index= False)\n",
    "test_data.to_csv(\"test_case_sensitive.csv\", index= False)\n",
    "val_data.to_csv(\"validation_case_sensitive.csv\", index= False)"
   ]
  },
  {
   "cell_type": "code",
   "execution_count": 12,
   "metadata": {},
   "outputs": [
    {
     "name": "stdout",
     "output_type": "stream",
     "text": [
      "Train size: 1418\n",
      "Validation size: 177\n",
      "Test size: 178\n"
     ]
    }
   ],
   "source": [
    "########## splitting the dataset which IS lowercase\n",
    "# Step 1: Split the data into train and temp (validation+test) sets\n",
    "train_data, temp_data = train_test_split(data_lowercase, stratify = data['passed_bechdel'] , test_size=0.2, random_state=42)  # 20% for validation+test\n",
    "\n",
    "# Step 2: Split temp_data into validation and test sets (10% each)\n",
    "val_data, test_data = train_test_split(temp_data, stratify = temp_data['passed_bechdel'], test_size=0.5, random_state=42)  # 50% of temp (10% of original)\n",
    "\n",
    "# Display the sizes of each set\n",
    "print(f\"Train size: {len(train_data)}\")\n",
    "print(f\"Validation size: {len(val_data)}\")\n",
    "print(f\"Test size: {len(test_data)}\")"
   ]
  },
  {
   "cell_type": "code",
   "execution_count": 13,
   "metadata": {},
   "outputs": [
    {
     "name": "stdout",
     "output_type": "stream",
     "text": [
      "89\n",
      "88\n"
     ]
    }
   ],
   "source": [
    "print(sum(val_data['passed_bechdel'] ==  1)) # checking\n",
    "print(sum(val_data['passed_bechdel'] ==  0)) "
   ]
  },
  {
   "cell_type": "code",
   "execution_count": 7,
   "metadata": {},
   "outputs": [],
   "source": [
    "# saving the test, train and val datasets\n",
    "train_data.to_csv(\"train_lowercase.csv\", index= False)\n",
    "test_data.to_csv(\"test_lowercase.csv\", index= False)\n",
    "val_data.to_csv(\"validation_lowercase.csv\", index= False)"
   ]
  },
  {
   "cell_type": "code",
   "execution_count": null,
   "metadata": {},
   "outputs": [],
   "source": [
    "### reloading the datasets to check \n",
    "#train_data = pd.read_csv(\"train_lowercase.csv\")\n",
    "#test_data = pd.read_csv(\"test_lowercase.csv\")\n",
    "#val_data = pd.read_csv('validation_lowercase.csv')"
   ]
  }
 ],
 "metadata": {
  "kernelspec": {
   "display_name": "Python 3",
   "language": "python",
   "name": "python3"
  },
  "language_info": {
   "codemirror_mode": {
    "name": "ipython",
    "version": 3
   },
   "file_extension": ".py",
   "mimetype": "text/x-python",
   "name": "python",
   "nbconvert_exporter": "python",
   "pygments_lexer": "ipython3",
   "version": "3.12.3"
  }
 },
 "nbformat": 4,
 "nbformat_minor": 2
}
