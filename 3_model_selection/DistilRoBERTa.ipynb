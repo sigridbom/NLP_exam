{
 "cells": [
  {
   "cell_type": "markdown",
   "metadata": {},
   "source": [
    "## DistilRoBERTa"
   ]
  },
  {
   "cell_type": "code",
   "execution_count": null,
   "metadata": {},
   "outputs": [],
   "source": [
    "!pip install datasets\n",
    "!pip install transformers[torch]\n",
    "!pip install accelerate>={0.26.0}\n",
    "!pip install evaluate\n",
    "!pip install transformers\n",
    "!pip install 'accelerate>=0.26.0'\n"
   ]
  },
  {
   "cell_type": "code",
   "execution_count": null,
   "metadata": {},
   "outputs": [],
   "source": [
    "# check versions\n",
    "!pip show transformers accelerate torch"
   ]
  },
  {
   "cell_type": "code",
   "execution_count": 2,
   "metadata": {},
   "outputs": [],
   "source": [
    "# import packages\n",
    "import torch\n",
    "from transformers import RobertaTokenizer, RobertaForSequenceClassification, Trainer, TrainingArguments\n",
    "from datasets import Dataset, DatasetDict\n",
    "from sklearn.metrics import accuracy_score, precision_recall_fscore_support\n",
    "import pandas as pd\n",
    "import random"
   ]
  },
  {
   "cell_type": "code",
   "execution_count": 5,
   "metadata": {},
   "outputs": [],
   "source": [
    "# Load data \n",
    "train_df = pd.read_csv(\"../2_preprocessing/train_case_sensitive.csv\")\n",
    "val_df = pd.read_csv(\"../2_preprocessing/validation_case_sensitive.csv\")\n",
    "\n",
    "# Convert to Hugging Face Dataset\n",
    "train_dataset = Dataset.from_pandas(train_df)\n",
    "val_dataset = Dataset.from_pandas(val_df)\n",
    "data = DatasetDict({\"train\": train_dataset, \"validation\": val_dataset})"
   ]
  },
  {
   "cell_type": "code",
   "execution_count": 6,
   "metadata": {},
   "outputs": [
    {
     "data": {
      "application/vnd.jupyter.widget-view+json": {
       "model_id": "9cd691813ac14ac2882eb0fdcaa192bc",
       "version_major": 2,
       "version_minor": 0
      },
      "text/plain": [
       "Map:   0%|          | 0/1418 [00:00<?, ? examples/s]"
      ]
     },
     "metadata": {},
     "output_type": "display_data"
    },
    {
     "data": {
      "application/vnd.jupyter.widget-view+json": {
       "model_id": "d3cb09f99ec64caf8915c5b1489deecc",
       "version_major": 2,
       "version_minor": 0
      },
      "text/plain": [
       "Map:   0%|          | 0/177 [00:00<?, ? examples/s]"
      ]
     },
     "metadata": {},
     "output_type": "display_data"
    }
   ],
   "source": [
    "# Load DistilRoBERTa tokenizer\n",
    "tokenizer = RobertaTokenizer.from_pretrained(\"distilroberta-base\")\n",
    "\n",
    "# Tokenize datasets\n",
    "def tokenize_function(examples):\n",
    "    return tokenizer(examples[\"script\"], padding=\"max_length\", truncation=True)\n",
    "\n",
    "tokenized_datasets = data.map(tokenize_function, batched=True)\n",
    "tokenized_datasets = tokenized_datasets.remove_columns([\"script\"])  # Remove raw text after tokenization\n",
    "tokenized_datasets = tokenized_datasets.rename_column(\"passed_bechdel\", \"labels\")  # Rename for Trainer compatibility\n",
    "tokenized_datasets.set_format(\"torch\")  # Use PyTorch tensors\n"
   ]
  },
  {
   "cell_type": "markdown",
   "metadata": {},
   "source": [
    "training_args = TrainingArguments(\n",
    "    output_dir=\"./results\",\n",
    "    evaluation_strategy=\"steps\",       # Evaluate every N steps\n",
    "    eval_steps=500,                   # Frequency of evaluation\n",
    "    save_steps=500,                   # Frequency of saving checkpoints\n",
    "    logging_steps=100,                # Log progress every 100 steps\n",
    "    learning_rate=5e-5,               # Adjust learning rate\n",
    "    num_train_epochs=5,               # Train for 5 epochs\n",
    "    per_device_train_batch_size=16,   # Train batch size\n",
    "    per_device_eval_batch_size=16,    # Eval batch size\n",
    "    gradient_accumulation_steps=2,    # Simulate larger batch size\n",
    "    weight_decay=0.01,                # Apply weight decay\n",
    "    fp16=True,                        # Enable mixed precision training\n",
    "    warmup_steps=500,                 # Learning rate warmup\n",
    "    lr_scheduler_type=\"cosine\",       # Use cosine decay for learning rate\n",
    "    save_total_limit=2,               # Save only the last 2 checkpoints\n",
    "    load_best_model_at_end=True,      # Load best model at the end of training\n",
    "    metric_for_best_model=\"accuracy\", # Use accuracy to determine the best model\n",
    "    report_to=\"none\",                 # Disable reporting (e.g., WandB)\n",
    ")\n"
   ]
  },
  {
   "cell_type": "code",
   "execution_count": 7,
   "metadata": {},
   "outputs": [
    {
     "name": "stderr",
     "output_type": "stream",
     "text": [
      "Some weights of RobertaForSequenceClassification were not initialized from the model checkpoint at distilroberta-base and are newly initialized: ['classifier.dense.bias', 'classifier.dense.weight', 'classifier.out_proj.bias', 'classifier.out_proj.weight']\n",
      "You should probably TRAIN this model on a down-stream task to be able to use it for predictions and inference.\n"
     ]
    }
   ],
   "source": [
    "#random.seed(42)\n",
    "# Load RobertaForSequenceClassification with DistilRoBERTa's pre-trained weights\n",
    "model = RobertaForSequenceClassification.from_pretrained(\"distilroberta-base\", num_labels=2)  \n",
    "\n",
    "# Define evaluation metrics\n",
    "def compute_metrics(eval_pred):\n",
    "    logits, labels = eval_pred\n",
    "    predictions = logits.argmax(axis=-1)\n",
    "    precision, recall, f1, _ = precision_recall_fscore_support(labels, predictions, average=\"weighted\")\n",
    "    acc = accuracy_score(labels, predictions)\n",
    "    return {\"accuracy\": acc, \"f1\": f1, \"precision\": precision, \"recall\": recall}\n",
    "\n",
    "# Set up training arguments\n",
    "training_args = TrainingArguments(\n",
    "    output_dir=\"./results\",\n",
    "    eval_strategy=\"epoch\",       # Evaluate at the end of each epoch\n",
    "    save_strategy=\"epoch\",             # Save checkpoint at each epoch\n",
    "    learning_rate=2e-5,\n",
    "    per_device_train_batch_size=16,\n",
    "    per_device_eval_batch_size=16,\n",
    "    num_train_epochs=3,\n",
    "    weight_decay=0.01,\n",
    "    logging_dir=\"./logs\",\n",
    "    load_best_model_at_end=True,       # Load the best model based on validation accuracy\n",
    "    metric_for_best_model=\"accuracy\",  # Select best model based on validation accuracy\n",
    "    save_total_limit=2,                 # Save at most 2 checkpoints\n",
    "    seed = 42\n",
    ")\n",
    "\n",
    "# Set up the Trainer\n",
    "trainer = Trainer(\n",
    "    model=model,\n",
    "    args=training_args,\n",
    "    train_dataset=tokenized_datasets[\"train\"],\n",
    "    eval_dataset=tokenized_datasets[\"validation\"],  # Validation dataset for evaluation\n",
    "    processing_class=tokenizer,\n",
    "    compute_metrics=compute_metrics\n",
    ")\n"
   ]
  },
  {
   "cell_type": "markdown",
   "metadata": {},
   "source": [
    "If code gives a weird error - restart kernel"
   ]
  },
  {
   "cell_type": "code",
   "execution_count": null,
   "metadata": {},
   "outputs": [
    {
     "data": {
      "text/html": [
       "\n",
       "    <div>\n",
       "      \n",
       "      <progress value='267' max='267' style='width:300px; height:20px; vertical-align: middle;'></progress>\n",
       "      [267/267 01:39, Epoch 3/3]\n",
       "    </div>\n",
       "    <table border=\"1\" class=\"dataframe\">\n",
       "  <thead>\n",
       " <tr style=\"text-align: left;\">\n",
       "      <th>Epoch</th>\n",
       "      <th>Training Loss</th>\n",
       "      <th>Validation Loss</th>\n",
       "      <th>Accuracy</th>\n",
       "      <th>F1</th>\n",
       "      <th>Precision</th>\n",
       "      <th>Recall</th>\n",
       "    </tr>\n",
       "  </thead>\n",
       "  <tbody>\n",
       "    <tr>\n",
       "      <td>1</td>\n",
       "      <td>No log</td>\n",
       "      <td>0.577126</td>\n",
       "      <td>0.728814</td>\n",
       "      <td>0.722114</td>\n",
       "      <td>0.754702</td>\n",
       "      <td>0.728814</td>\n",
       "    </tr>\n",
       "    <tr>\n",
       "      <td>2</td>\n",
       "      <td>No log</td>\n",
       "      <td>0.576338</td>\n",
       "      <td>0.706215</td>\n",
       "      <td>0.700474</td>\n",
       "      <td>0.722151</td>\n",
       "      <td>0.706215</td>\n",
       "    </tr>\n",
       "    <tr>\n",
       "      <td>3</td>\n",
       "      <td>No log</td>\n",
       "      <td>0.532090</td>\n",
       "      <td>0.762712</td>\n",
       "      <td>0.762712</td>\n",
       "      <td>0.762712</td>\n",
       "      <td>0.762712</td>\n",
       "    </tr>\n",
       "  </tbody>\n",
       "</table><p>"
      ],
      "text/plain": [
       "<IPython.core.display.HTML object>"
      ]
     },
     "metadata": {},
     "output_type": "display_data"
    },
    {
     "data": {
      "text/html": [
       "\n",
       "    <div>\n",
       "      \n",
       "      <progress value='12' max='12' style='width:300px; height:20px; vertical-align: middle;'></progress>\n",
       "      [12/12 00:01]\n",
       "    </div>\n",
       "    "
      ],
      "text/plain": [
       "<IPython.core.display.HTML object>"
      ]
     },
     "metadata": {},
     "output_type": "display_data"
    },
    {
     "name": "stdout",
     "output_type": "stream",
     "text": [
      "\n",
      "Validation Results After Training:\n"
     ]
    },
    {
     "data": {
      "text/plain": [
       "{'eval_loss': 0.5320897698402405,\n",
       " 'eval_accuracy': 0.7627118644067796,\n",
       " 'eval_f1': 0.7627118644067796,\n",
       " 'eval_precision': 0.7627118644067796,\n",
       " 'eval_recall': 0.7627118644067796,\n",
       " 'eval_runtime': 1.2661,\n",
       " 'eval_samples_per_second': 139.801,\n",
       " 'eval_steps_per_second': 9.478,\n",
       " 'epoch': 3.0}"
      ]
     },
     "execution_count": 8,
     "metadata": {},
     "output_type": "execute_result"
    }
   ],
   "source": [
    "# Train the model\n",
    "trainer.train()\n",
    "\n",
    "# Explicitly evaluate the model on the validation dataset after training\n",
    "validation_results = trainer.evaluate(eval_dataset=tokenized_datasets[\"validation\"])\n",
    "print(\"\\nValidation Results After Training:\")\n",
    "validation_results\n"
   ]
  },
  {
   "cell_type": "code",
   "execution_count": 1,
   "metadata": {},
   "outputs": [
    {
     "ename": "NameError",
     "evalue": "name 'validation_results' is not defined",
     "output_type": "error",
     "traceback": [
      "\u001b[0;31m---------------------------------------------------------------------------\u001b[0m",
      "\u001b[0;31mNameError\u001b[0m                                 Traceback (most recent call last)",
      "Cell \u001b[0;32mIn[1], line 1\u001b[0m\n\u001b[0;32m----> 1\u001b[0m \u001b[43mvalidation_results\u001b[49m\n",
      "\u001b[0;31mNameError\u001b[0m: name 'validation_results' is not defined"
     ]
    }
   ],
   "source": [
    "validation_results"
   ]
  },
  {
   "cell_type": "code",
   "execution_count": 12,
   "metadata": {},
   "outputs": [
    {
     "name": "stdout",
     "output_type": "stream",
     "text": [
      "[{'model': 'BoW_log_reg'\n",
      " 'split': 'train'\n",
      " 'mean_acc_score': 0.9972\n",
      " 'f1_score': 0.9972}\n",
      " {'model': 'BoW_log_reg'\n",
      " 'split': 'val'\n",
      " 'mean_acc_score': 0.6742\n",
      " 'f1_score': 0.6778}\n",
      " {'model': 'BoW_rf'\n",
      " 'split': 'train'.1\n",
      " 'mean_acc_score': 0.9979\n",
      " 'f1_score': 0.9979}\n",
      " {'model': 'BoW_rf'.1\n",
      " 'split': 'val'.1\n",
      " 'mean_acc_score': 0.6798\n",
      " 'f1_score': 0.6851}\n",
      " {'model': 'BoW_svm'\n",
      " 'split': 'train'.2\n",
      " 'mean_acc_score': 0.8399\n",
      " 'f1_score': 0.8364}\n",
      " {'model': 'BoW_svm'.1\n",
      " 'split': 'val'.2\n",
      " 'mean_acc_score': 0.736\n",
      " 'f1_score': 0.7283}\n",
      " {'model': 'tf_idf_log_reg'\n",
      " 'split': 'train'.3\n",
      " 'mean_acc_score': 0.9094\n",
      " 'f1_score': 0.907}\n",
      " {'model': 'tf_idf_log_reg'.1\n",
      " 'split': 'val'.3\n",
      " 'mean_acc_score': 0.7247\n",
      " 'f1_score': 0.7168}\n",
      " {'model': 'tf_idf_rf'\n",
      " 'split': 'train'.4\n",
      " 'mean_acc_score': 0.9979.1\n",
      " 'f1_score': 0.9979}.1\n",
      " {'model': 'tf_idf_rf'.1\n",
      " 'split': 'val'.4\n",
      " 'mean_acc_score': 0.6348\n",
      " 'f1_score': 0.6243}\n",
      " {'model': 'tf_idf_svm'\n",
      " 'split': 'train'.5\n",
      " 'mean_acc_score': 0.9874\n",
      " 'f1_score': 0.9874}\n",
      " {'model': 'tf_idf_svm'.1\n",
      " 'split': 'val'.5\n",
      " 'mean_acc_score': 0.6517\n",
      " 'f1_score': 0.6353}]\n"
     ]
    }
   ],
   "source": [
    "# adding to the performance df for plotting \n",
    "performances = pd.read_csv(\"model_performances.txt\", sep=\",\")  # Change sep=\"\\t\" for tab-separated\n",
    "print(*performances, sep = '\\n')"
   ]
  },
  {
   "cell_type": "code",
   "execution_count": 16,
   "metadata": {},
   "outputs": [],
   "source": [
    "import matplotlib as plt\n",
    "import seaborn as sns"
   ]
  },
  {
   "cell_type": "code",
   "execution_count": 18,
   "metadata": {},
   "outputs": [
    {
     "data": {
      "text/html": [
       "<div>\n",
       "<style scoped>\n",
       "    .dataframe tbody tr th:only-of-type {\n",
       "        vertical-align: middle;\n",
       "    }\n",
       "\n",
       "    .dataframe tbody tr th {\n",
       "        vertical-align: top;\n",
       "    }\n",
       "\n",
       "    .dataframe thead th {\n",
       "        text-align: right;\n",
       "    }\n",
       "</style>\n",
       "<table border=\"1\" class=\"dataframe\">\n",
       "  <thead>\n",
       "    <tr style=\"text-align: right;\">\n",
       "      <th></th>\n",
       "      <th>[{'model': 'BoW_log_reg'</th>\n",
       "      <th>'split': 'train'</th>\n",
       "      <th>'mean_acc_score': 0.9972</th>\n",
       "      <th>'f1_score': 0.9972}</th>\n",
       "      <th>{'model': 'BoW_log_reg'</th>\n",
       "      <th>'split': 'val'</th>\n",
       "      <th>'mean_acc_score': 0.6742</th>\n",
       "      <th>'f1_score': 0.6778}</th>\n",
       "      <th>{'model': 'BoW_rf'</th>\n",
       "      <th>'split': 'train'.1</th>\n",
       "      <th>...</th>\n",
       "      <th>'mean_acc_score': 0.6348</th>\n",
       "      <th>'f1_score': 0.6243}</th>\n",
       "      <th>{'model': 'tf_idf_svm'</th>\n",
       "      <th>'split': 'train'.5</th>\n",
       "      <th>'mean_acc_score': 0.9874</th>\n",
       "      <th>'f1_score': 0.9874}</th>\n",
       "      <th>{'model': 'tf_idf_svm'.1</th>\n",
       "      <th>'split': 'val'.5</th>\n",
       "      <th>'mean_acc_score': 0.6517</th>\n",
       "      <th>'f1_score': 0.6353}]</th>\n",
       "    </tr>\n",
       "  </thead>\n",
       "  <tbody>\n",
       "  </tbody>\n",
       "</table>\n",
       "<p>0 rows × 48 columns</p>\n",
       "</div>"
      ],
      "text/plain": [
       "Empty DataFrame\n",
       "Columns: [[{'model': 'BoW_log_reg',  'split': 'train',  'mean_acc_score': 0.9972,  'f1_score': 0.9972},  {'model': 'BoW_log_reg',  'split': 'val',  'mean_acc_score': 0.6742,  'f1_score': 0.6778},  {'model': 'BoW_rf',  'split': 'train'.1,  'mean_acc_score': 0.9979,  'f1_score': 0.9979},  {'model': 'BoW_rf'.1,  'split': 'val'.1,  'mean_acc_score': 0.6798,  'f1_score': 0.6851},  {'model': 'BoW_svm',  'split': 'train'.2,  'mean_acc_score': 0.8399,  'f1_score': 0.8364},  {'model': 'BoW_svm'.1,  'split': 'val'.2,  'mean_acc_score': 0.736,  'f1_score': 0.7283},  {'model': 'tf_idf_log_reg',  'split': 'train'.3,  'mean_acc_score': 0.9094,  'f1_score': 0.907},  {'model': 'tf_idf_log_reg'.1,  'split': 'val'.3,  'mean_acc_score': 0.7247,  'f1_score': 0.7168},  {'model': 'tf_idf_rf',  'split': 'train'.4,  'mean_acc_score': 0.9979.1,  'f1_score': 0.9979}.1,  {'model': 'tf_idf_rf'.1,  'split': 'val'.4,  'mean_acc_score': 0.6348,  'f1_score': 0.6243},  {'model': 'tf_idf_svm',  'split': 'train'.5,  'mean_acc_score': 0.9874,  'f1_score': 0.9874},  {'model': 'tf_idf_svm'.1,  'split': 'val'.5,  'mean_acc_score': 0.6517,  'f1_score': 0.6353}]]\n",
       "Index: []\n",
       "\n",
       "[0 rows x 48 columns]"
      ]
     },
     "execution_count": 18,
     "metadata": {},
     "output_type": "execute_result"
    }
   ],
   "source": [
    "perf_df"
   ]
  },
  {
   "cell_type": "code",
   "execution_count": 17,
   "metadata": {},
   "outputs": [
    {
     "ename": "AttributeError",
     "evalue": "module 'matplotlib' has no attribute 'subplots'",
     "output_type": "error",
     "traceback": [
      "\u001b[0;31m---------------------------------------------------------------------------\u001b[0m",
      "\u001b[0;31mAttributeError\u001b[0m                            Traceback (most recent call last)",
      "Cell \u001b[0;32mIn[17], line 9\u001b[0m\n\u001b[1;32m      6\u001b[0m markers \u001b[38;5;241m=\u001b[39m {\u001b[38;5;124m'\u001b[39m\u001b[38;5;124mtest\u001b[39m\u001b[38;5;124m'\u001b[39m: \u001b[38;5;124m'\u001b[39m\u001b[38;5;124ms\u001b[39m\u001b[38;5;124m'\u001b[39m, \u001b[38;5;124m'\u001b[39m\u001b[38;5;124mvalidation\u001b[39m\u001b[38;5;124m'\u001b[39m: \u001b[38;5;124m'\u001b[39m\u001b[38;5;124mX\u001b[39m\u001b[38;5;124m'\u001b[39m, \u001b[38;5;124m'\u001b[39m\u001b[38;5;124mtrain\u001b[39m\u001b[38;5;124m'\u001b[39m: \u001b[38;5;124m'\u001b[39m\u001b[38;5;124mo\u001b[39m\u001b[38;5;124m'\u001b[39m}\n\u001b[1;32m      8\u001b[0m \u001b[38;5;66;03m#plot\u001b[39;00m\n\u001b[0;32m----> 9\u001b[0m fig, ax \u001b[38;5;241m=\u001b[39m \u001b[43mplt\u001b[49m\u001b[38;5;241;43m.\u001b[39;49m\u001b[43msubplots\u001b[49m(figsize\u001b[38;5;241m=\u001b[39m(\u001b[38;5;241m12\u001b[39m, \u001b[38;5;241m6\u001b[39m)) \u001b[38;5;66;03m# make wider to show the points which are ontop of each other\u001b[39;00m\n\u001b[1;32m     10\u001b[0m sns\u001b[38;5;241m.\u001b[39mscatterplot(data\u001b[38;5;241m=\u001b[39mperf_df\u001b[38;5;241m.\u001b[39msort_values(by\u001b[38;5;241m=\u001b[39m\u001b[38;5;124m'\u001b[39m\u001b[38;5;124mrmse\u001b[39m\u001b[38;5;124m'\u001b[39m, ascending\u001b[38;5;241m=\u001b[39m\u001b[38;5;28;01mFalse\u001b[39;00m), \n\u001b[1;32m     11\u001b[0m                 y\u001b[38;5;241m=\u001b[39m\u001b[38;5;124m'\u001b[39m\u001b[38;5;124mmodel\u001b[39m\u001b[38;5;124m'\u001b[39m, \n\u001b[1;32m     12\u001b[0m                 x\u001b[38;5;241m=\u001b[39m\u001b[38;5;124m'\u001b[39m\u001b[38;5;124mrmse\u001b[39m\u001b[38;5;124m'\u001b[39m, \n\u001b[0;32m   (...)\u001b[0m\n\u001b[1;32m     19\u001b[0m                 s \u001b[38;5;241m=\u001b[39m \u001b[38;5;241m70\u001b[39m,\n\u001b[1;32m     20\u001b[0m                 alpha \u001b[38;5;241m=\u001b[39m \u001b[38;5;241m0.8\u001b[39m)\n\u001b[1;32m     21\u001b[0m plt\u001b[38;5;241m.\u001b[39mtitle(\u001b[38;5;124m\"\u001b[39m\u001b[38;5;124mPerformance of models\u001b[39m\u001b[38;5;124m\"\u001b[39m)\n",
      "File \u001b[0;32m~/.local/lib/python3.12/site-packages/matplotlib/_api/__init__.py:218\u001b[0m, in \u001b[0;36mcaching_module_getattr.<locals>.__getattr__\u001b[0;34m(name)\u001b[0m\n\u001b[1;32m    216\u001b[0m \u001b[38;5;28;01mif\u001b[39;00m name \u001b[38;5;129;01min\u001b[39;00m props:\n\u001b[1;32m    217\u001b[0m     \u001b[38;5;28;01mreturn\u001b[39;00m props[name]\u001b[38;5;241m.\u001b[39m\u001b[38;5;21m__get__\u001b[39m(instance)\n\u001b[0;32m--> 218\u001b[0m \u001b[38;5;28;01mraise\u001b[39;00m \u001b[38;5;167;01mAttributeError\u001b[39;00m(\n\u001b[1;32m    219\u001b[0m     \u001b[38;5;124mf\u001b[39m\u001b[38;5;124m\"\u001b[39m\u001b[38;5;124mmodule \u001b[39m\u001b[38;5;132;01m{\u001b[39;00m\u001b[38;5;28mcls\u001b[39m\u001b[38;5;241m.\u001b[39m\u001b[38;5;18m__module__\u001b[39m\u001b[38;5;132;01m!r}\u001b[39;00m\u001b[38;5;124m has no attribute \u001b[39m\u001b[38;5;132;01m{\u001b[39;00mname\u001b[38;5;132;01m!r}\u001b[39;00m\u001b[38;5;124m\"\u001b[39m)\n",
      "\u001b[0;31mAttributeError\u001b[0m: module 'matplotlib' has no attribute 'subplots'"
     ]
    }
   ],
   "source": [
    "# plotting performances\n",
    "perf_df = pd.DataFrame(performances)\n",
    "\n",
    "# specifying the order in splits to make the points more visible\n",
    "order = ['test','validation', 'train']\n",
    "markers = {'test': 's', 'validation': 'X', 'train': 'o'}\n",
    "\n",
    "#plot\n",
    "fig, ax = plt.subplots(figsize=(12, 6)) # make wider to show the points which are ontop of each other\n",
    "sns.scatterplot(data=perf_df.sort_values(by='rmse', ascending=False), \n",
    "                y='model', \n",
    "                x='rmse', \n",
    "                style = 'split',\n",
    "                hue='split', \n",
    "                markers = markers,\n",
    "                palette=['darkred', 'darkorange','grey'],\n",
    "                hue_order=order, \n",
    "                style_order=order, \n",
    "                s = 70,\n",
    "                alpha = 0.8)\n",
    "plt.title(\"Performance of models\")\n",
    "plt.xlabel(\"root mean square error (RMSE)\")\n",
    "fig = plt.gcf() # get current figure\n",
    "plt.show()"
   ]
  },
  {
   "cell_type": "code",
   "execution_count": 10,
   "metadata": {},
   "outputs": [
    {
     "name": "stdout",
     "output_type": "stream",
     "text": [
      "\n"
     ]
    }
   ],
   "source": [
    "# how to read df into a dictionary\n",
    "df = pd.read_csv('model_performances.txt', sep=\",\")# index_col = 0)\n",
    "\n",
    "# make into list format\n",
    "performances = []\n",
    "\n",
    "for index, row in df.iterrows():\n",
    "    row_dict = {}\n",
    "    for col in df.columns:\n",
    "        row_dict[col] = row[col]\n",
    "    performances.append(row_dict)\n",
    "\n",
    "print(*performances, sep = '\\n') # for pretty printing"
   ]
  },
  {
   "cell_type": "code",
   "execution_count": 11,
   "metadata": {},
   "outputs": [
    {
     "name": "stdout",
     "output_type": "stream",
     "text": [
      "\n"
     ]
    }
   ],
   "source": [
    "print(*performances, sep = '\\n') # for pretty printing"
   ]
  }
 ],
 "metadata": {
  "kernelspec": {
   "display_name": "Python 3",
   "language": "python",
   "name": "python3"
  },
  "language_info": {
   "codemirror_mode": {
    "name": "ipython",
    "version": 3
   },
   "file_extension": ".py",
   "mimetype": "text/x-python",
   "name": "python",
   "nbconvert_exporter": "python",
   "pygments_lexer": "ipython3",
   "version": "3.12.3"
  }
 },
 "nbformat": 4,
 "nbformat_minor": 2
}
