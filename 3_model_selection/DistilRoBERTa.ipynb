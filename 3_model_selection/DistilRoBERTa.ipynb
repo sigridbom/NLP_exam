{
 "cells": [
  {
   "cell_type": "markdown",
   "metadata": {},
   "source": [
    "## DistilRoBERTa"
   ]
  },
  {
   "cell_type": "code",
   "execution_count": null,
   "metadata": {},
   "outputs": [],
   "source": [
    "!pip install datasets\n",
    "!pip install transformers[torch]\n",
    "!pip install evaluate\n",
    "!pip install transformers\n",
    "!pip install 'accelerate>=0.26.0'\n"
   ]
  },
  {
   "cell_type": "code",
   "execution_count": 14,
   "metadata": {},
   "outputs": [],
   "source": [
    "# import packages\n",
    "import torch\n",
    "from transformers import RobertaTokenizer, RobertaForSequenceClassification, Trainer, TrainingArguments\n",
    "from datasets import Dataset, DatasetDict\n",
    "from sklearn.metrics import accuracy_score, precision_recall_fscore_support\n",
    "import pandas as pd\n",
    "import random\n",
    "import numpy as np"
   ]
  },
  {
   "cell_type": "code",
   "execution_count": 3,
   "metadata": {},
   "outputs": [],
   "source": [
    "# Load data \n",
    "train_df = pd.read_csv(\"../2_preprocessing/train_case_sensitive.csv\")\n",
    "val_df = pd.read_csv(\"../2_preprocessing/validation_case_sensitive.csv\")\n",
    "test_df = pd.read_csv(\"../2_preprocessing/test_case_sensitive.csv\")\n",
    "\n",
    "# Convert to Hugging Face Dataset\n",
    "train_dataset = Dataset.from_pandas(train_df)\n",
    "val_dataset = Dataset.from_pandas(val_df)\n",
    "test_dataset = Dataset.from_pandas(test_df)\n",
    "data = DatasetDict({\"train\": train_dataset, \"validation\": val_dataset, \"test\": test_dataset})"
   ]
  },
  {
   "cell_type": "code",
   "execution_count": 4,
   "metadata": {},
   "outputs": [
    {
     "data": {
      "application/vnd.jupyter.widget-view+json": {
       "model_id": "a147749fbbc0404e836b2c8304f8c586",
       "version_major": 2,
       "version_minor": 0
      },
      "text/plain": [
       "tokenizer_config.json:   0%|          | 0.00/25.0 [00:00<?, ?B/s]"
      ]
     },
     "metadata": {},
     "output_type": "display_data"
    },
    {
     "data": {
      "application/vnd.jupyter.widget-view+json": {
       "model_id": "07c912d63ca143eb8086a7a3fdaf6e9c",
       "version_major": 2,
       "version_minor": 0
      },
      "text/plain": [
       "vocab.json:   0%|          | 0.00/899k [00:00<?, ?B/s]"
      ]
     },
     "metadata": {},
     "output_type": "display_data"
    },
    {
     "data": {
      "application/vnd.jupyter.widget-view+json": {
       "model_id": "5491ebc5008d43f88198abe88453d1d4",
       "version_major": 2,
       "version_minor": 0
      },
      "text/plain": [
       "merges.txt:   0%|          | 0.00/456k [00:00<?, ?B/s]"
      ]
     },
     "metadata": {},
     "output_type": "display_data"
    },
    {
     "data": {
      "application/vnd.jupyter.widget-view+json": {
       "model_id": "087537f4f475449fae97888d8b0b26c0",
       "version_major": 2,
       "version_minor": 0
      },
      "text/plain": [
       "tokenizer.json:   0%|          | 0.00/1.36M [00:00<?, ?B/s]"
      ]
     },
     "metadata": {},
     "output_type": "display_data"
    },
    {
     "data": {
      "application/vnd.jupyter.widget-view+json": {
       "model_id": "1d320eaf5d3145efa7da1b54ee951a94",
       "version_major": 2,
       "version_minor": 0
      },
      "text/plain": [
       "config.json:   0%|          | 0.00/480 [00:00<?, ?B/s]"
      ]
     },
     "metadata": {},
     "output_type": "display_data"
    },
    {
     "data": {
      "application/vnd.jupyter.widget-view+json": {
       "model_id": "7cdc82a8404741f3aefbddd4be21b6b3",
       "version_major": 2,
       "version_minor": 0
      },
      "text/plain": [
       "Map:   0%|          | 0/1418 [00:00<?, ? examples/s]"
      ]
     },
     "metadata": {},
     "output_type": "display_data"
    },
    {
     "data": {
      "application/vnd.jupyter.widget-view+json": {
       "model_id": "7467a251e1094fc3a464eb10ca107c64",
       "version_major": 2,
       "version_minor": 0
      },
      "text/plain": [
       "Map:   0%|          | 0/177 [00:00<?, ? examples/s]"
      ]
     },
     "metadata": {},
     "output_type": "display_data"
    },
    {
     "data": {
      "application/vnd.jupyter.widget-view+json": {
       "model_id": "45b30cff412f4efb97c04c841ebbc5b4",
       "version_major": 2,
       "version_minor": 0
      },
      "text/plain": [
       "Map:   0%|          | 0/178 [00:00<?, ? examples/s]"
      ]
     },
     "metadata": {},
     "output_type": "display_data"
    }
   ],
   "source": [
    "# Load DistilRoBERTa tokenizer\n",
    "tokenizer = RobertaTokenizer.from_pretrained(\"distilroberta-base\")\n",
    "\n",
    "# Tokenize datasets\n",
    "def tokenize_function(examples):\n",
    "    return tokenizer(examples[\"script\"], padding=\"max_length\", truncation=True)\n",
    "\n",
    "tokenized_datasets = data.map(tokenize_function, batched=True)\n",
    "tokenized_datasets = tokenized_datasets.remove_columns([\"script\"])  # Remove raw text after tokenization\n",
    "tokenized_datasets = tokenized_datasets.rename_column(\"passed_bechdel\", \"labels\")  # Rename for Trainer compatibility\n",
    "tokenized_datasets.set_format(\"torch\")  # Use PyTorch tensors\n"
   ]
  },
  {
   "cell_type": "code",
   "execution_count": null,
   "metadata": {},
   "outputs": [],
   "source": [
    "#### Overview of possible parameters\n",
    "# training_args = TrainingArguments(\n",
    "#     output_dir=\"./results\",\n",
    "#     evaluation_strategy=\"steps\",       # Evaluate every N steps\n",
    "#     eval_steps=500,                   # Frequency of evaluation\n",
    "#     save_steps=500,                   # Frequency of saving checkpoints\n",
    "#     logging_steps=100,                # Log progress every 100 steps\n",
    "#     learning_rate=5e-5,               # Adjust learning rate\n",
    "#     num_train_epochs=5,               # Train for 5 epochs\n",
    "#     per_device_train_batch_size=16,   # Train batch size\n",
    "#     per_device_eval_batch_size=16,    # Eval batch size\n",
    "#     gradient_accumulation_steps=2,    # Simulate larger batch size\n",
    "#     weight_decay=0.01,                # Apply weight decay\n",
    "#     fp16=True,                        # Enable mixed precision training\n",
    "#     warmup_steps=500,                 # Learning rate warmup\n",
    "#     lr_scheduler_type=\"cosine\",       # Use cosine decay for learning rate\n",
    "#     save_total_limit=2,               # Save only the last 2 checkpoints\n",
    "#     load_best_model_at_end=True,      # Load best model at the end of training\n",
    "#     metric_for_best_model=\"accuracy\", # Use accuracy to determine the best model\n",
    "#     report_to=\"none\",                 # Disable reporting (e.g., WandB)\n",
    "# )\n"
   ]
  },
  {
   "cell_type": "code",
   "execution_count": 5,
   "metadata": {},
   "outputs": [
    {
     "data": {
      "application/vnd.jupyter.widget-view+json": {
       "model_id": "0b9985f6dbdb4a879656caf10c683a90",
       "version_major": 2,
       "version_minor": 0
      },
      "text/plain": [
       "model.safetensors:   0%|          | 0.00/331M [00:00<?, ?B/s]"
      ]
     },
     "metadata": {},
     "output_type": "display_data"
    },
    {
     "name": "stderr",
     "output_type": "stream",
     "text": [
      "Some weights of RobertaForSequenceClassification were not initialized from the model checkpoint at distilroberta-base and are newly initialized: ['classifier.dense.bias', 'classifier.dense.weight', 'classifier.out_proj.bias', 'classifier.out_proj.weight']\n",
      "You should probably TRAIN this model on a down-stream task to be able to use it for predictions and inference.\n"
     ]
    }
   ],
   "source": [
    "#random.seed(42)\n",
    "# Load RobertaForSequenceClassification with DistilRoBERTa's pre-trained weights\n",
    "model = RobertaForSequenceClassification.from_pretrained(\"distilroberta-base\", num_labels=2)  \n",
    "\n",
    "# Define evaluation metrics\n",
    "def compute_metrics(eval_pred):\n",
    "    logits, labels = eval_pred\n",
    "    predictions = logits.argmax(axis=-1)\n",
    "    precision, recall, f1, _ = precision_recall_fscore_support(labels, predictions, average=\"weighted\")\n",
    "    acc = accuracy_score(labels, predictions)\n",
    "    return {\"accuracy\": acc, \"f1\": f1, \"precision\": precision, \"recall\": recall}\n",
    "\n",
    "# Set up training arguments\n",
    "training_args = TrainingArguments(\n",
    "    output_dir=\"./results\",\n",
    "    eval_strategy=\"epoch\",       # Evaluate at the end of each epoch\n",
    "    save_strategy=\"epoch\",             # Save checkpoint at each epoch\n",
    "    learning_rate=2e-5,\n",
    "    per_device_train_batch_size=16,\n",
    "    per_device_eval_batch_size=16,\n",
    "    num_train_epochs=3,\n",
    "    weight_decay=0.01,\n",
    "    logging_dir=\"./logs\",\n",
    "    load_best_model_at_end=True,       # Load the best model based on validation accuracy\n",
    "    metric_for_best_model=\"accuracy\",  # Select best model based on validation accuracy\n",
    "    save_total_limit=2,                 # Save at most 2 checkpoints\n",
    "    seed = 42\n",
    ")\n",
    "\n",
    "# Set up the Trainer\n",
    "trainer = Trainer(\n",
    "    model=model,\n",
    "    args=training_args,\n",
    "    train_dataset=tokenized_datasets[\"train\"],\n",
    "    eval_dataset=tokenized_datasets[\"validation\"],  # Validation dataset for evaluation\n",
    "    processing_class=tokenizer,\n",
    "    compute_metrics=compute_metrics\n",
    ")\n"
   ]
  },
  {
   "cell_type": "markdown",
   "metadata": {},
   "source": [
    "If code gives a weird error - restart kernel"
   ]
  },
  {
   "cell_type": "code",
   "execution_count": 6,
   "metadata": {},
   "outputs": [
    {
     "name": "stderr",
     "output_type": "stream",
     "text": [
      "/home/ucloud/.local/lib/python3.12/site-packages/torch/nn/parallel/_functions.py:71: UserWarning: Was asked to gather along dimension 0, but all input tensors were scalars; will instead unsqueeze and return a vector.\n",
      "  warnings.warn(\n"
     ]
    },
    {
     "data": {
      "text/html": [
       "\n",
       "    <div>\n",
       "      \n",
       "      <progress value='135' max='135' style='width:300px; height:20px; vertical-align: middle;'></progress>\n",
       "      [135/135 00:58, Epoch 3/3]\n",
       "    </div>\n",
       "    <table border=\"1\" class=\"dataframe\">\n",
       "  <thead>\n",
       " <tr style=\"text-align: left;\">\n",
       "      <th>Epoch</th>\n",
       "      <th>Training Loss</th>\n",
       "      <th>Validation Loss</th>\n",
       "      <th>Accuracy</th>\n",
       "      <th>F1</th>\n",
       "      <th>Precision</th>\n",
       "      <th>Recall</th>\n",
       "    </tr>\n",
       "  </thead>\n",
       "  <tbody>\n",
       "    <tr>\n",
       "      <td>1</td>\n",
       "      <td>No log</td>\n",
       "      <td>0.550846</td>\n",
       "      <td>0.768362</td>\n",
       "      <td>0.765216</td>\n",
       "      <td>0.784657</td>\n",
       "      <td>0.768362</td>\n",
       "    </tr>\n",
       "    <tr>\n",
       "      <td>2</td>\n",
       "      <td>No log</td>\n",
       "      <td>0.528529</td>\n",
       "      <td>0.762712</td>\n",
       "      <td>0.762287</td>\n",
       "      <td>0.764996</td>\n",
       "      <td>0.762712</td>\n",
       "    </tr>\n",
       "    <tr>\n",
       "      <td>3</td>\n",
       "      <td>No log</td>\n",
       "      <td>0.525395</td>\n",
       "      <td>0.757062</td>\n",
       "      <td>0.757016</td>\n",
       "      <td>0.757404</td>\n",
       "      <td>0.757062</td>\n",
       "    </tr>\n",
       "  </tbody>\n",
       "</table><p>"
      ],
      "text/plain": [
       "<IPython.core.display.HTML object>"
      ]
     },
     "metadata": {},
     "output_type": "display_data"
    },
    {
     "name": "stderr",
     "output_type": "stream",
     "text": [
      "/home/ucloud/.local/lib/python3.12/site-packages/torch/nn/parallel/_functions.py:71: UserWarning: Was asked to gather along dimension 0, but all input tensors were scalars; will instead unsqueeze and return a vector.\n",
      "  warnings.warn(\n",
      "/home/ucloud/.local/lib/python3.12/site-packages/torch/nn/parallel/_functions.py:71: UserWarning: Was asked to gather along dimension 0, but all input tensors were scalars; will instead unsqueeze and return a vector.\n",
      "  warnings.warn(\n",
      "/home/ucloud/.local/lib/python3.12/site-packages/torch/nn/parallel/_functions.py:71: UserWarning: Was asked to gather along dimension 0, but all input tensors were scalars; will instead unsqueeze and return a vector.\n",
      "  warnings.warn(\n"
     ]
    },
    {
     "data": {
      "text/plain": [
       "TrainOutput(global_step=135, training_loss=0.6129492865668402, metrics={'train_runtime': 60.3423, 'train_samples_per_second': 70.498, 'train_steps_per_second': 2.237, 'total_flos': 563516313882624.0, 'train_loss': 0.6129492865668402, 'epoch': 3.0})"
      ]
     },
     "execution_count": 6,
     "metadata": {},
     "output_type": "execute_result"
    }
   ],
   "source": [
    "# Train the model\n",
    "trainer.train()"
   ]
  },
  {
   "cell_type": "code",
   "execution_count": 19,
   "metadata": {},
   "outputs": [],
   "source": [
    "train_acc_mean = (0.768362 + 0.762712+ 0.757062)/3\n",
    "train_F1_mean = (0.765216 + 0.762287 + 0.757016)/3\n",
    "train_precision_mean = (0.784657 + 0.764996 + 0.757404)/3\n",
    "train_recall_mean = (0.768362 +0.762712 + 0.757062)"
   ]
  },
  {
   "cell_type": "code",
   "execution_count": 7,
   "metadata": {},
   "outputs": [
    {
     "data": {
      "text/plain": [
       "('./fine_tuned_distilroberta/tokenizer_config.json',\n",
       " './fine_tuned_distilroberta/special_tokens_map.json',\n",
       " './fine_tuned_distilroberta/vocab.json',\n",
       " './fine_tuned_distilroberta/merges.txt',\n",
       " './fine_tuned_distilroberta/added_tokens.json')"
      ]
     },
     "execution_count": 7,
     "metadata": {},
     "output_type": "execute_result"
    }
   ],
   "source": [
    "# Save the model and tokenizer\n",
    "model.save_pretrained(\"./fine_tuned_distilroberta\")\n",
    "tokenizer.save_pretrained(\"./fine_tuned_distilroberta\")\n",
    "\n",
    "# Load the model and tokenizer later\n",
    "#from transformers import DistilBertTokenizer, DistilBertForSequenceClassification\n",
    "#model = DistilBertForSequenceClassification.from_pretrained(\"./fine_tuned_distilroberta\")\n",
    "#tokenizer = DistilBertTokenizer.from_pretrained(\"./fine_tuned_distilroberta\")\n"
   ]
  },
  {
   "cell_type": "code",
   "execution_count": 8,
   "metadata": {},
   "outputs": [
    {
     "name": "stderr",
     "output_type": "stream",
     "text": [
      "/home/ucloud/.local/lib/python3.12/site-packages/torch/nn/parallel/_functions.py:71: UserWarning: Was asked to gather along dimension 0, but all input tensors were scalars; will instead unsqueeze and return a vector.\n",
      "  warnings.warn(\n"
     ]
    },
    {
     "data": {
      "text/html": [
       "\n",
       "    <div>\n",
       "      \n",
       "      <progress value='12' max='6' style='width:300px; height:20px; vertical-align: middle;'></progress>\n",
       "      [6/6 00:17]\n",
       "    </div>\n",
       "    "
      ],
      "text/plain": [
       "<IPython.core.display.HTML object>"
      ]
     },
     "metadata": {},
     "output_type": "display_data"
    },
    {
     "name": "stdout",
     "output_type": "stream",
     "text": [
      "\n",
      "Validation Results After Training:\n"
     ]
    },
    {
     "data": {
      "text/plain": [
       "{'eval_loss': 0.5508459210395813,\n",
       " 'eval_accuracy': 0.768361581920904,\n",
       " 'eval_f1': 0.7652160506850663,\n",
       " 'eval_precision': 0.7846567331644211,\n",
       " 'eval_recall': 0.768361581920904,\n",
       " 'eval_runtime': 0.7795,\n",
       " 'eval_samples_per_second': 227.059,\n",
       " 'eval_steps_per_second': 7.697,\n",
       " 'epoch': 3.0}"
      ]
     },
     "execution_count": 8,
     "metadata": {},
     "output_type": "execute_result"
    }
   ],
   "source": [
    "# Explicitly evaluate the model on the validation dataset after training\n",
    "validation_results = trainer.evaluate(eval_dataset=tokenized_datasets[\"validation\"])\n",
    "print(\"\\nValidation Results After Training:\")\n",
    "validation_results\n"
   ]
  },
  {
   "cell_type": "code",
   "execution_count": 9,
   "metadata": {},
   "outputs": [
    {
     "name": "stderr",
     "output_type": "stream",
     "text": [
      "/home/ucloud/.local/lib/python3.12/site-packages/torch/nn/parallel/_functions.py:71: UserWarning: Was asked to gather along dimension 0, but all input tensors were scalars; will instead unsqueeze and return a vector.\n",
      "  warnings.warn(\n"
     ]
    },
    {
     "name": "stdout",
     "output_type": "stream",
     "text": [
      "\n",
      "Test Results After Training:\n"
     ]
    },
    {
     "data": {
      "text/plain": [
       "{'eval_loss': 0.6314682960510254,\n",
       " 'eval_accuracy': 0.6685393258426966,\n",
       " 'eval_f1': 0.6601551001000001,\n",
       " 'eval_precision': 0.6897462660955017,\n",
       " 'eval_recall': 0.6685393258426966,\n",
       " 'eval_runtime': 0.7759,\n",
       " 'eval_samples_per_second': 229.413,\n",
       " 'eval_steps_per_second': 7.733,\n",
       " 'epoch': 3.0}"
      ]
     },
     "execution_count": 9,
     "metadata": {},
     "output_type": "execute_result"
    }
   ],
   "source": [
    "# Explicitly evaluate the model on the test dataset after training\n",
    "test_results = trainer.evaluate(eval_dataset=tokenized_datasets[\"test\"])\n",
    "print(\"\\nTest Results After Training:\")\n",
    "test_results"
   ]
  },
  {
   "cell_type": "code",
   "execution_count": 20,
   "metadata": {},
   "outputs": [
    {
     "data": {
      "text/plain": [
       "Index(['model', 'split', 'mean_acc_score', 'f1_score', 'cr_label0_precision',\n",
       "       'cr_label0_recall', 'cr_label0_f1_score', 'cr_label0_support',\n",
       "       'cr_label1_precision', 'cr_label1_recall', 'cr_label1_f1_score',\n",
       "       'cr_label1_support', 'roc_auc'],\n",
       "      dtype='object')"
      ]
     },
     "execution_count": 20,
     "metadata": {},
     "output_type": "execute_result"
    }
   ],
   "source": [
    "# adding to the performance df for plotting \n",
    "performance_df = pd.read_csv('/work/classes/NLP_exam/3_model_selection/output/performances_df.csv')\n",
    "performance_df.columns"
   ]
  },
  {
   "cell_type": "code",
   "execution_count": null,
   "metadata": {},
   "outputs": [
    {
     "ename": "NameError",
     "evalue": "name 'NaN' is not defined",
     "output_type": "error",
     "traceback": [
      "\u001b[0;31m---------------------------------------------------------------------------\u001b[0m",
      "\u001b[0;31mNameError\u001b[0m                                 Traceback (most recent call last)",
      "Cell \u001b[0;32mIn[23], line 10\u001b[0m\n\u001b[1;32m      1\u001b[0m \u001b[38;5;66;03m#adding dilstilroberta\u001b[39;00m\n\u001b[1;32m      2\u001b[0m \n\u001b[1;32m      3\u001b[0m \n\u001b[1;32m      4\u001b[0m \u001b[38;5;66;03m# Create a single-row DataFrame\u001b[39;00m\n\u001b[1;32m      5\u001b[0m distilroberta_train \u001b[38;5;241m=\u001b[39m pd\u001b[38;5;241m.\u001b[39mDataFrame([{\n\u001b[1;32m      6\u001b[0m     \u001b[38;5;124m'\u001b[39m\u001b[38;5;124mmodel\u001b[39m\u001b[38;5;124m'\u001b[39m: \u001b[38;5;124m'\u001b[39m\u001b[38;5;124mdistilRoBERTa\u001b[39m\u001b[38;5;124m'\u001b[39m, \n\u001b[1;32m      7\u001b[0m     \u001b[38;5;124m'\u001b[39m\u001b[38;5;124msplit\u001b[39m\u001b[38;5;124m'\u001b[39m: \u001b[38;5;124m'\u001b[39m\u001b[38;5;124mtrain\u001b[39m\u001b[38;5;124m'\u001b[39m, \n\u001b[1;32m      8\u001b[0m     \u001b[38;5;124m'\u001b[39m\u001b[38;5;124mmean_acc_score\u001b[39m\u001b[38;5;124m'\u001b[39m: train_acc_mean, \n\u001b[1;32m      9\u001b[0m     \u001b[38;5;124m'\u001b[39m\u001b[38;5;124mf1_score\u001b[39m\u001b[38;5;124m'\u001b[39m: train_F1_mean, \n\u001b[0;32m---> 10\u001b[0m     \u001b[38;5;124m'\u001b[39m\u001b[38;5;124mcr_label0_precision\u001b[39m\u001b[38;5;124m'\u001b[39m: \u001b[43mNaN\u001b[49m,\n\u001b[1;32m     11\u001b[0m     \u001b[38;5;124m'\u001b[39m\u001b[38;5;124mcr_label0_recall\u001b[39m\u001b[38;5;124m'\u001b[39m: NaN, \n\u001b[1;32m     12\u001b[0m     \u001b[38;5;124m'\u001b[39m\u001b[38;5;124mcr_label0_f1_score\u001b[39m\u001b[38;5;124m'\u001b[39m: NaN, \n\u001b[1;32m     13\u001b[0m     \u001b[38;5;124m'\u001b[39m\u001b[38;5;124mcr_label0_support\u001b[39m\u001b[38;5;124m'\u001b[39m: NaN,\n\u001b[1;32m     14\u001b[0m     \u001b[38;5;124m'\u001b[39m\u001b[38;5;124mcr_label1_precision\u001b[39m\u001b[38;5;124m'\u001b[39m: NaN, \n\u001b[1;32m     15\u001b[0m     \u001b[38;5;124m'\u001b[39m\u001b[38;5;124mcr_label1_recall\u001b[39m\u001b[38;5;124m'\u001b[39m: NaN, \n\u001b[1;32m     16\u001b[0m     \u001b[38;5;124m'\u001b[39m\u001b[38;5;124mcr_label1_f1_score\u001b[39m\u001b[38;5;124m'\u001b[39m: NaN,\n\u001b[1;32m     17\u001b[0m     \u001b[38;5;124m'\u001b[39m\u001b[38;5;124mcr_label1_support\u001b[39m\u001b[38;5;124m'\u001b[39m: NaN, \n\u001b[1;32m     18\u001b[0m     \u001b[38;5;124m'\u001b[39m\u001b[38;5;124mroc_auc\u001b[39m\u001b[38;5;124m'\u001b[39m: NaN}])\n\u001b[1;32m     21\u001b[0m \u001b[38;5;66;03m# Concatenate the new row with the existing DataFrame\u001b[39;00m\n\u001b[1;32m     22\u001b[0m performance_df \u001b[38;5;241m=\u001b[39m pd\u001b[38;5;241m.\u001b[39mconcat([performance_df, distilroberta_train], ignore_index\u001b[38;5;241m=\u001b[39m\u001b[38;5;28;01mTrue\u001b[39;00m)\n",
      "\u001b[0;31mNameError\u001b[0m: name 'NaN' is not defined"
     ]
    }
   ],
   "source": [
    "#adding dilstilroberta\n",
    "\n",
    "\n",
    "# Create a single-row DataFrame\n",
    "distilroberta_train = pd.DataFrame([{\n",
    "    'model': 'distilRoBERTa', \n",
    "    'split': 'train', \n",
    "    'mean_acc_score': train_acc_mean, \n",
    "    'f1_score': train_F1_mean, \n",
    "    'cr_label0_precision': 'NaN',\n",
    "    'cr_label0_recall': 'NaN', \n",
    "    'cr_label0_f1_score': NaN, \n",
    "    'cr_label0_support': NaN,\n",
    "    'cr_label1_precision': NaN, \n",
    "    'cr_label1_recall': NaN, \n",
    "    'cr_label1_f1_score': NaN,\n",
    "    'cr_label1_support': NaN, \n",
    "    'roc_auc': NaN}])\n",
    "\n",
    "\n",
    "# Concatenate the new row with the existing DataFrame\n",
    "performance_df = pd.concat([performance_df, distilroberta_train], ignore_index=True)\n",
    "performance_df"
   ]
  }
 ],
 "metadata": {
  "kernelspec": {
   "display_name": "Python 3",
   "language": "python",
   "name": "python3"
  },
  "language_info": {
   "codemirror_mode": {
    "name": "ipython",
    "version": 3
   },
   "file_extension": ".py",
   "mimetype": "text/x-python",
   "name": "python",
   "nbconvert_exporter": "python",
   "pygments_lexer": "ipython3",
   "version": "3.12.3"
  }
 },
 "nbformat": 4,
 "nbformat_minor": 2
}
