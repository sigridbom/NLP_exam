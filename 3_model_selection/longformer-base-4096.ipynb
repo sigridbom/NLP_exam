{
 "cells": [
  {
   "cell_type": "markdown",
   "metadata": {},
   "source": [
    "# Longformer\n",
    "## With text prompt explaining Bechdel test"
   ]
  },
  {
   "cell_type": "markdown",
   "metadata": {},
   "source": [
    "### Imports and Initialization"
   ]
  },
  {
   "cell_type": "code",
   "execution_count": null,
   "metadata": {},
   "outputs": [
    {
     "name": "stderr",
     "output_type": "stream",
     "text": [
      "Some weights of LongformerForSequenceClassification were not initialized from the model checkpoint at allenai/longformer-base-4096 and are newly initialized: ['classifier.dense.bias', 'classifier.dense.weight', 'classifier.out_proj.bias', 'classifier.out_proj.weight']\n",
      "You should probably TRAIN this model on a down-stream task to be able to use it for predictions and inference.\n"
     ]
    }
   ],
   "source": [
    "import os\n",
    "import torch\n",
    "from torch.utils.data import DataLoader, Dataset\n",
    "from torch.amp import GradScaler, autocast\n",
    "from transformers import LongformerTokenizer, LongformerForSequenceClassification\n",
    "from sklearn.metrics import accuracy_score, f1_score, roc_auc_score, confusion_matrix, ConfusionMatrixDisplay\n",
    "import matplotlib.pyplot as plt\n",
    "import seaborn as sns\n",
    "import pandas as pd\n",
    "import numpy as np\n",
    "\n",
    "# Environment variable for memory allocation\n",
    "os.environ[\"PYTORCH_CUDA_ALLOC_CONF\"] = \"expandable_segments:True\"\n",
    "\n",
    "# Tokenizer and Model Initialization\n",
    "tokenizer = LongformerTokenizer.from_pretrained(\"allenai/longformer-base-4096\")\n",
    "model = LongformerForSequenceClassification.from_pretrained(\"allenai/longformer-base-4096\", num_labels=2)\n",
    "model.gradient_checkpointing_enable()\n",
    "model.config.attention_window = [256] * len(model.config.attention_window)\n",
    "model_name = 'longformer_prompt'\n",
    "\n",
    "# Initialize results DataFrame\n",
    "results_df = pd.DataFrame(columns=[\n",
    "    \"model\", \"split\", \"accuracy\", \"f1_score\", \"roc_auc\", \n",
    "    \"true_negatives\", \"true_positives\", \"false_positives\", \"false_negatives\", \"precision\", \"recall\", \n",
    "    \"true_negative_rate\", \"false_negative_rate\", \"false_positive_rate\"])\n"
   ]
  },
  {
   "cell_type": "markdown",
   "metadata": {},
   "source": [
    "### Dataset and DataLoader setup"
   ]
  },
  {
   "cell_type": "code",
   "execution_count": null,
   "metadata": {},
   "outputs": [],
   "source": [
    "# Dataset with optional text prompt\n",
    "class ScriptDataset(Dataset):\n",
    "    def __init__(self, scripts, labels, tokenizer, max_length=3072, use_prompt=True):\n",
    "        self.scripts = scripts\n",
    "        self.labels = labels\n",
    "        self.tokenizer = tokenizer\n",
    "        self.max_length = max_length\n",
    "        self.use_prompt = use_prompt\n",
    "        self.prompt = (\n",
    "            \"Does the following manuscript pass the Bechdel test or not? \"\n",
    "            \"A movie passes the Bechdel test if it fulfills three requirements: \"\n",
    "            \"1) There are at least two named female characters, 2) They have a conversation, \"\n",
    "            \"3) About something other than a man. Manuscript: \"\n",
    "        )\n",
    "\n",
    "    def __len__(self):\n",
    "        return len(self.scripts)\n",
    "\n",
    "    def __getitem__(self, idx):\n",
    "        text = self.prompt + self.scripts[idx] if self.use_prompt else self.scripts[idx]\n",
    "        label = self.labels[idx]\n",
    "        inputs = self.tokenizer(\n",
    "            text,\n",
    "            max_length=self.max_length,\n",
    "            padding=\"max_length\",\n",
    "            truncation=True,\n",
    "            return_tensors=\"pt\"\n",
    "        )\n",
    "        return {\n",
    "            \"input_ids\": inputs[\"input_ids\"].squeeze(0),\n",
    "            \"attention_mask\": inputs[\"attention_mask\"].squeeze(0),\n",
    "            \"label\": torch.tensor(label, dtype=torch.long)\n",
    "        }\n",
    "\n",
    "# DataLoader Preparation\n",
    "def prepare_dataloader(data, tokenizer, max_length, batch_size, use_prompt=True):\n",
    "    dataset = ScriptDataset(\n",
    "        scripts=data[\"script\"].tolist(),\n",
    "        labels=data[\"passed_bechdel\"].tolist(),\n",
    "        tokenizer=tokenizer,\n",
    "        max_length=max_length,\n",
    "        use_prompt=use_prompt\n",
    "    )\n",
    "    return DataLoader(dataset, batch_size=batch_size, shuffle=True)\n",
    "\n",
    "# Load datasets\n",
    "train_data = pd.read_csv(\"../2_preprocessing/train_case_sensitive.csv\")\n",
    "val_data = pd.read_csv(\"../2_preprocessing/validation_case_sensitive.csv\")\n",
    "test_data = pd.read_csv(\"../2_preprocessing/test_case_sensitive.csv\")\n",
    "\n",
    "# Create DataLoaders\n",
    "train_loader = prepare_dataloader(train_data, tokenizer, max_length=3072, batch_size=1, use_prompt=True)\n",
    "val_loader = prepare_dataloader(val_data, tokenizer, max_length=3072, batch_size=1, use_prompt=True)\n",
    "test_loader = prepare_dataloader(test_data, tokenizer, max_length=3072, batch_size=1, use_prompt=True)\n"
   ]
  },
  {
   "cell_type": "markdown",
   "metadata": {},
   "source": [
    "### Training Loop"
   ]
  },
  {
   "cell_type": "code",
   "execution_count": null,
   "metadata": {},
   "outputs": [
    {
     "name": "stdout",
     "output_type": "stream",
     "text": [
      "Epoch 1/1\n",
      "Train Loss: 0.6655, Train Accuracy: 0.5867\n"
     ]
    }
   ],
   "source": [
    "# Optimizer, Loss, and Scaler\n",
    "optimizer = torch.optim.AdamW(model.parameters(), lr=1e-5, weight_decay=0.001)\n",
    "criterion = torch.nn.CrossEntropyLoss()\n",
    "scaler = GradScaler()\n",
    "gradient_accumulation_steps = 4\n",
    "\n",
    "# Training Loop\n",
    "def train(model, dataloader):\n",
    "    model.train()\n",
    "    total_loss, total_correct = 0, 0\n",
    "    optimizer.zero_grad()\n",
    "\n",
    "    for step, batch in enumerate(dataloader):\n",
    "        input_ids = batch[\"input_ids\"].to(\"cuda\")\n",
    "        attention_mask = batch[\"attention_mask\"].to(\"cuda\")\n",
    "        labels = batch[\"label\"].to(\"cuda\")\n",
    "\n",
    "        with autocast(\"cuda\"):\n",
    "            outputs = model(input_ids, attention_mask=attention_mask)\n",
    "            loss = criterion(outputs.logits, labels)\n",
    "            loss = loss / gradient_accumulation_steps\n",
    "\n",
    "        scaler.scale(loss).backward()\n",
    "\n",
    "        if (step + 1) % gradient_accumulation_steps == 0:\n",
    "            scaler.step(optimizer)\n",
    "            scaler.update()\n",
    "            optimizer.zero_grad()\n",
    "\n",
    "        total_loss += loss.item() * gradient_accumulation_steps\n",
    "        total_correct += (outputs.logits.argmax(1) == labels).sum().item()\n",
    "\n",
    "        if step % 50 == 0:\n",
    "            torch.cuda.empty_cache()\n",
    "\n",
    "    return total_loss / len(dataloader), total_correct / len(dataloader.dataset)\n",
    "\n",
    "# Training\n",
    "epochs = 3\n",
    "for epoch in range(epochs):\n",
    "    print(f\"Epoch {epoch + 1}/{epochs}\")\n",
    "    train_loss, train_accuracy = train(model, train_loader)\n",
    "    print(f\"Train Loss: {train_loss:.4f}, Train Accuracy: {train_accuracy:.4f}\")\n"
   ]
  },
  {
   "cell_type": "markdown",
   "metadata": {},
   "source": [
    "### Evaluation Loop"
   ]
  },
  {
   "cell_type": "code",
   "execution_count": null,
   "metadata": {},
   "outputs": [
    {
     "name": "stdout",
     "output_type": "stream",
     "text": [
      "\n",
      "Validation Metrics:\n",
      "Accuracy: 0.7232\n",
      "F1 Score: 0.6621\n",
      "ROC-AUC: 0.8072\n",
      "Confusion Matrix:\n",
      "[[80  8]\n",
      " [41 48]]\n"
     ]
    },
    {
     "data": {
      "image/png": "[encoded data removed]",
      "text/plain": [
       "<Figure size 640x480 with 2 Axes>"
      ]
     },
     "metadata": {},
     "output_type": "display_data"
    },
    {
     "name": "stdout",
     "output_type": "stream",
     "text": [
      "Validation Loss: 0.5586, Validation Accuracy: 0.7232, Validation F1: 0.6621, Validation ROC-AUC: 0.8072\n",
      "\n",
      "Test Metrics:\n",
      "Accuracy: 0.6517\n",
      "F1 Score: 0.5571\n",
      "ROC-AUC: 0.7030\n",
      "Confusion Matrix:\n",
      "[[77 11]\n",
      " [51 39]]\n"
     ]
    },
    {
     "data": {
      "image/png": "[encoded data removed]",
      "text/plain": [
       "<Figure size 640x480 with 2 Axes>"
      ]
     },
     "metadata": {},
     "output_type": "display_data"
    },
    {
     "name": "stdout",
     "output_type": "stream",
     "text": [
      "Test Loss: 0.6372, Test Accuracy: 0.6517, Test F1: 0.5571, Test ROC-AUC: 0.7030\n"
     ]
    }
   ],
   "source": [
    "# Ensure output directory exists\n",
    "os.makedirs('./output/figures', exist_ok=True)\n",
    "\n",
    "# Evaluation Loop\n",
    "def evaluate(model, dataloader, dataset_name):\n",
    "    global results_df\n",
    "    model.eval()\n",
    "    total_loss, total_correct = 0, 0\n",
    "    all_preds, all_labels, all_probs = [], [], []\n",
    "\n",
    "    with torch.no_grad():\n",
    "        for batch in dataloader:\n",
    "            input_ids = batch[\"input_ids\"].to(\"cuda\")\n",
    "            attention_mask = batch[\"attention_mask\"].to(\"cuda\")\n",
    "            labels = batch[\"label\"].to(\"cuda\")\n",
    "\n",
    "            with autocast(\"cuda\"):\n",
    "                outputs = model(input_ids, attention_mask=attention_mask)\n",
    "                loss = criterion(outputs.logits, labels)\n",
    "\n",
    "            total_loss += loss.item()\n",
    "            total_correct += (outputs.logits.argmax(1) == labels).sum().item()\n",
    "            all_preds.extend(outputs.logits.argmax(1).cpu().numpy())\n",
    "            all_labels.extend(labels.cpu().numpy())\n",
    "            all_probs.extend(torch.softmax(outputs.logits, dim=1)[:, 1].cpu().numpy())\n",
    "\n",
    "    accuracy = total_correct / len(dataloader.dataset)\n",
    "    f1 = f1_score(all_labels, all_preds)\n",
    "    roc_auc = roc_auc_score(all_labels, all_probs)\n",
    "    conf_matrix = confusion_matrix(all_labels, all_preds)\n",
    "\n",
    "    print(f\"\\n{dataset_name.capitalize()} Metrics:\")\n",
    "    print(f\"Accuracy: {accuracy:.4f}\")\n",
    "    print(f\"F1 Score: {f1:.4f}\")\n",
    "    print(f\"ROC-AUC: {roc_auc:.4f}\")\n",
    "    print(f\"Confusion Matrix:\\n{conf_matrix}\")\n",
    "\n",
    "    # Save metrics\n",
    "    tn, fp, fn, tp = conf_matrix.ravel()\n",
    "    results_df.loc[len(results_df)] = {\n",
    "        \"model\": model_name, \n",
    "        \"split\": dataset_name, \n",
    "        \"accuracy\": accuracy,\n",
    "        \"f1_score\": f1, \n",
    "        \"roc_auc\": roc_auc,\n",
    "        \"true_negatives\": tn, \n",
    "        \"true_positives\": tp,\n",
    "        \"false_positives\": fp,\n",
    "        \"false_negatives\": fn, \n",
    "        \"precision\": tp / (tp + fp), \n",
    "        \"recall\": tp / (tp + fn), \n",
    "        \"true_negative_rate\": tn / (tn + fp), \n",
    "        \"false_negative_rate\": fn / (fn + tp), \n",
    "        \"false_positive_rate\": fp / (fp + tn)\n",
    "    }\n",
    "\n",
    "    # Save confusion matrix\n",
    "    disp = ConfusionMatrixDisplay(confusion_matrix=conf_matrix, display_labels=[\"Failed\", \"Passed\"])\n",
    "    disp.plot(cmap=plt.cm.Blues)\n",
    "    disp.ax_.set_title(f\"{model_name}, Data Split: {dataset_name.capitalize()}\")\n",
    "    plt.savefig(f'./output/figures/{model_name}_{dataset_name}_confusion_matrix.jpeg')\n",
    "    plt.show()\n",
    "\n",
    "    return total_loss / len(dataloader), accuracy, f1, roc_auc\n",
    "\n",
    "# Evaluate on Validation Data\n",
    "val_loss, val_accuracy, val_f1, val_roc_auc = evaluate(model, val_loader, \"validation\")\n",
    "print(f\"Validation Loss: {val_loss:.4f}, Validation Accuracy: {val_accuracy:.4f}, Validation F1: {val_f1:.4f}, Validation ROC-AUC: {val_roc_auc:.4f}\")\n",
    "\n",
    "# Evaluate on Test Data\n",
    "test_loss, test_accuracy, test_f1, test_roc_auc = evaluate(model, test_loader, \"test\")\n",
    "print(f\"Test Loss: {test_loss:.4f}, Test Accuracy: {test_accuracy:.4f}, Test F1: {test_f1:.4f}, Test ROC-AUC: {test_roc_auc:.4f}\")\n",
    "\n",
    "# Save Results to CSV\n",
    "results_df.to_csv(\"./output/longformer_prompt_evaluation.csv\", index=False)\n"
   ]
  },
  {
   "cell_type": "markdown",
   "metadata": {},
   "source": [
    "## -------------------------------------"
   ]
  },
  {
   "cell_type": "markdown",
   "metadata": {},
   "source": [
    "# Longformer\n",
    "## Without text prompt"
   ]
  },
  {
   "cell_type": "markdown",
   "metadata": {},
   "source": [
    "### Imports and Initialization"
   ]
  },
  {
   "cell_type": "code",
   "execution_count": null,
   "metadata": {},
   "outputs": [],
   "source": [
    "import os\n",
    "import torch\n",
    "from torch.utils.data import DataLoader, Dataset\n",
    "from torch.amp import GradScaler, autocast\n",
    "from transformers import LongformerTokenizer, LongformerForSequenceClassification\n",
    "from sklearn.metrics import accuracy_score, f1_score, roc_auc_score, confusion_matrix, ConfusionMatrixDisplay\n",
    "import matplotlib.pyplot as plt\n",
    "import seaborn as sns\n",
    "import pandas as pd\n",
    "import numpy as np\n",
    "\n",
    "# Environment variable for memory allocation\n",
    "os.environ[\"PYTORCH_CUDA_ALLOC_CONF\"] = \"expandable_segments:True\"\n",
    "\n",
    "# Tokenizer and Model Initialization\n",
    "tokenizer = LongformerTokenizer.from_pretrained(\"allenai/longformer-base-4096\")\n",
    "model = LongformerForSequenceClassification.from_pretrained(\"allenai/longformer-base-4096\", num_labels=2)\n",
    "model.gradient_checkpointing_enable()\n",
    "model.config.attention_window = [256] * len(model.config.attention_window)\n",
    "model_name = 'longformer_noprompt'\n",
    "\n",
    "# Initialize results DataFrame\n",
    "results2_df_ = pd.DataFrame(columns=[\n",
    "    \"model\", \"split\", \"accuracy\", \"f1_score\", \"roc_auc\", \n",
    "    \"true_negatives\", \"true_positives\", \"false_positives\", \"false_negatives\", \"precision\", \"recall\", \n",
    "    \"true_negative_rate\", \"false_negative_rate\", \"false_positive_rate\"])\n"
   ]
  },
  {
   "cell_type": "markdown",
   "metadata": {},
   "source": [
    "### Dataset and DataLoader setup"
   ]
  },
  {
   "cell_type": "code",
   "execution_count": null,
   "metadata": {},
   "outputs": [],
   "source": [
    "# Dataset with optional text prompt\n",
    "class ScriptDataset(Dataset):\n",
    "    def __init__(self, scripts, labels, tokenizer, max_length=3072, use_prompt=False):\n",
    "        self.scripts = scripts\n",
    "        self.labels = labels\n",
    "        self.tokenizer = tokenizer\n",
    "        self.max_length = max_length\n",
    "        self.use_prompt = use_prompt\n",
    "        self.prompt = (\n",
    "            \"Does the following manuscript pass the Bechdel test or not? \"\n",
    "            \"A movie passes the Bechdel test if it fulfills three requirements: \"\n",
    "            \"1) There are at least two named female characters, 2) They have a conversation, \"\n",
    "            \"3) About something other than a man. Manuscript: \"\n",
    "        )\n",
    "\n",
    "    def __len__(self):\n",
    "        return len(self.scripts)\n",
    "\n",
    "    def __getitem__(self, idx):\n",
    "        text = self.prompt + self.scripts[idx] if self.use_prompt else self.scripts[idx]\n",
    "        label = self.labels[idx]\n",
    "        inputs = self.tokenizer(\n",
    "            text,\n",
    "            max_length=self.max_length,\n",
    "            padding=\"max_length\",\n",
    "            truncation=True,\n",
    "            return_tensors=\"pt\"\n",
    "        )\n",
    "        return {\n",
    "            \"input_ids\": inputs[\"input_ids\"].squeeze(0),\n",
    "            \"attention_mask\": inputs[\"attention_mask\"].squeeze(0),\n",
    "            \"label\": torch.tensor(label, dtype=torch.long)\n",
    "        }\n",
    "\n",
    "# DataLoader Preparation\n",
    "def prepare_dataloader(data, tokenizer, max_length, batch_size, use_prompt=False):\n",
    "    dataset = ScriptDataset(\n",
    "        scripts=data[\"script\"].tolist(),\n",
    "        labels=data[\"passed_bechdel\"].tolist(),\n",
    "        tokenizer=tokenizer,\n",
    "        max_length=max_length,\n",
    "        use_prompt=use_prompt\n",
    "    )\n",
    "    return DataLoader(dataset, batch_size=batch_size, shuffle=True)\n",
    "\n",
    "# Load datasets\n",
    "train_data = pd.read_csv(\"../2_preprocessing/train_case_sensitive.csv\")\n",
    "val_data = pd.read_csv(\"../2_preprocessing/validation_case_sensitive.csv\")\n",
    "test_data = pd.read_csv(\"../2_preprocessing/test_case_sensitive.csv\")\n",
    "\n",
    "# Create DataLoaders\n",
    "train_loader = prepare_dataloader(train_data, tokenizer, max_length=3072, batch_size=1, use_prompt=False)\n",
    "val_loader = prepare_dataloader(val_data, tokenizer, max_length=3072, batch_size=1, use_prompt=False)\n",
    "test_loader = prepare_dataloader(test_data, tokenizer, max_length=3072, batch_size=1, use_prompt=False)"
   ]
  },
  {
   "cell_type": "markdown",
   "metadata": {},
   "source": [
    "### Training Loop"
   ]
  },
  {
   "cell_type": "code",
   "execution_count": null,
   "metadata": {},
   "outputs": [],
   "source": [
    "# Optimizer, Loss, and Scaler\n",
    "optimizer = torch.optim.AdamW(model.parameters(), lr=1e-5, weight_decay=0.001)\n",
    "criterion = torch.nn.CrossEntropyLoss()\n",
    "scaler = GradScaler()\n",
    "gradient_accumulation_steps = 4\n",
    "\n",
    "# Training Loop\n",
    "def train(model, dataloader):\n",
    "    model.train()\n",
    "    total_loss, total_correct = 0, 0\n",
    "    optimizer.zero_grad()\n",
    "\n",
    "    for step, batch in enumerate(dataloader):\n",
    "        input_ids = batch[\"input_ids\"].to(\"cuda\")\n",
    "        attention_mask = batch[\"attention_mask\"].to(\"cuda\")\n",
    "        labels = batch[\"label\"].to(\"cuda\")\n",
    "\n",
    "        with autocast(\"cuda\"):\n",
    "            outputs = model(input_ids, attention_mask=attention_mask)\n",
    "            loss = criterion(outputs.logits, labels)\n",
    "            loss = loss / gradient_accumulation_steps\n",
    "\n",
    "        scaler.scale(loss).backward()\n",
    "\n",
    "        if (step + 1) % gradient_accumulation_steps == 0:\n",
    "            scaler.step(optimizer)\n",
    "            scaler.update()\n",
    "            optimizer.zero_grad()\n",
    "\n",
    "        total_loss += loss.item() * gradient_accumulation_steps\n",
    "        total_correct += (outputs.logits.argmax(1) == labels).sum().item()\n",
    "\n",
    "        if step % 50 == 0:\n",
    "            torch.cuda.empty_cache()\n",
    "\n",
    "    return total_loss / len(dataloader), total_correct / len(dataloader.dataset)\n",
    "\n",
    "# Training\n",
    "epochs = 3\n",
    "for epoch in range(epochs):\n",
    "    print(f\"Epoch {epoch + 1}/{epochs}\")\n",
    "    train_loss, train_accuracy = train(model, train_loader)\n",
    "    print(f\"Train Loss: {train_loss:.4f}, Train Accuracy: {train_accuracy:.4f}\")\n"
   ]
  },
  {
   "cell_type": "markdown",
   "metadata": {},
   "source": [
    "### Evaluation Loop"
   ]
  },
  {
   "cell_type": "code",
   "execution_count": null,
   "metadata": {},
   "outputs": [],
   "source": [
    "# Ensure output directory exists\n",
    "os.makedirs('./output/figures', exist_ok=True)\n",
    "\n",
    "# Evaluation Loop\n",
    "def evaluate(model, dataloader, dataset_name):\n",
    "    global results2_df\n",
    "    model.eval()\n",
    "    total_loss, total_correct = 0, 0\n",
    "    all_preds, all_labels, all_probs = [], [], []\n",
    "\n",
    "    with torch.no_grad():\n",
    "        for batch in dataloader:\n",
    "            input_ids = batch[\"input_ids\"].to(\"cuda\")\n",
    "            attention_mask = batch[\"attention_mask\"].to(\"cuda\")\n",
    "            labels = batch[\"label\"].to(\"cuda\")\n",
    "\n",
    "            with autocast(\"cuda\"):\n",
    "                outputs = model(input_ids, attention_mask=attention_mask)\n",
    "                loss = criterion(outputs.logits, labels)\n",
    "\n",
    "            total_loss += loss.item()\n",
    "            total_correct += (outputs.logits.argmax(1) == labels).sum().item()\n",
    "            all_preds.extend(outputs.logits.argmax(1).cpu().numpy())\n",
    "            all_labels.extend(labels.cpu().numpy())\n",
    "            all_probs.extend(torch.softmax(outputs.logits, dim=1)[:, 1].cpu().numpy())\n",
    "\n",
    "    accuracy = total_correct / len(dataloader.dataset)\n",
    "    f1 = f1_score(all_labels, all_preds)\n",
    "    roc_auc = roc_auc_score(all_labels, all_probs)\n",
    "    conf_matrix = confusion_matrix(all_labels, all_preds)\n",
    "\n",
    "    print(f\"\\n{dataset_name.capitalize()} Metrics:\")\n",
    "    print(f\"Accuracy: {accuracy:.4f}\")\n",
    "    print(f\"F1 Score: {f1:.4f}\")\n",
    "    print(f\"ROC-AUC: {roc_auc:.4f}\")\n",
    "    print(f\"Confusion Matrix:\\n{conf_matrix}\")\n",
    "\n",
    "    # Save metrics\n",
    "    tn, fp, fn, tp = conf_matrix.ravel()\n",
    "    results2_df.loc[len(results2_df)] = {\n",
    "        \"model\": model_name, \n",
    "        \"split\": dataset_name, \n",
    "        \"accuracy\": accuracy,\n",
    "        \"f1_score\": f1, \n",
    "        \"roc_auc\": roc_auc,\n",
    "        \"true_negatives\": tn, \n",
    "        \"true_positives\": tp,\n",
    "        \"false_positives\": fp,\n",
    "        \"false_negatives\": fn, \n",
    "        \"precision\": tp / (tp + fp), \n",
    "        \"recall\": tp / (tp + fn), \n",
    "        \"true_negative_rate\": tn / (tn + fp), \n",
    "        \"false_negative_rate\": fn / (fn + tp), \n",
    "        \"false_positive_rate\": fp / (fp + tn)\n",
    "    }\n",
    "\n",
    "    # Save confusion matrix\n",
    "    disp = ConfusionMatrixDisplay(confusion_matrix=conf_matrix, display_labels=[\"Failed\", \"Passed\"])\n",
    "    disp.plot(cmap=plt.cm.Blues)\n",
    "    disp.ax_.set_title(f\"{model_name}, Data Split: {dataset_name.capitalize()}\")\n",
    "    plt.savefig(f'./output/figures/{model_name}_{dataset_name}_confusion_matrix.jpeg')\n",
    "    plt.show()\n",
    "\n",
    "    return total_loss / len(dataloader), accuracy, f1, roc_auc\n",
    "\n",
    "# Evaluate on Validation Data\n",
    "val_loss, val_accuracy, val_f1, val_roc_auc = evaluate(model, val_loader, \"validation\")\n",
    "print(f\"Validation Loss: {val_loss:.4f}, Validation Accuracy: {val_accuracy:.4f}, Validation F1: {val_f1:.4f}, Validation ROC-AUC: {val_roc_auc:.4f}\")\n",
    "\n",
    "# Evaluate on Test Data\n",
    "test_loss, test_accuracy, test_f1, test_roc_auc = evaluate(model, test_loader, \"test\")\n",
    "print(f\"Test Loss: {test_loss:.4f}, Test Accuracy: {test_accuracy:.4f}, Test F1: {test_f1:.4f}, Test ROC-AUC: {test_roc_auc:.4f}\")\n",
    "\n",
    "# Save Results to CSV\n",
    "results2_df.to_csv(\"./output/longformer_noprompt_evaluation.csv\", index=False)\n"
   ]
  }
 ],
 "metadata": {
  "kernelspec": {
   "display_name": "Python 3",
   "language": "python",
   "name": "python3"
  },
  "language_info": {
   "codemirror_mode": {
    "name": "ipython",
    "version": 3
   },
   "file_extension": ".py",
   "mimetype": "text/x-python",
   "name": "python",
   "nbconvert_exporter": "python",
   "pygments_lexer": "ipython3",
   "version": "3.12.3"
  }
 },
 "nbformat": 4,
 "nbformat_minor": 2
}
