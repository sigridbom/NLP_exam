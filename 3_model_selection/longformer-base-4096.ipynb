{
 "cells": [
  {
   "cell_type": "markdown",
   "metadata": {},
   "source": [
<<<<<<< HEAD
    "## Running the model with 2048 tokens, no text prompt"
   ]
  },
  {
   "cell_type": "code",
   "execution_count": null,
   "metadata": {},
<<<<<<< HEAD
   "outputs": [],
   "source": [
    "## Running the model with 3072 tokens and a text prompt explaining the Bechdel test\n",
    "# run time ≈ 80 min"
=======
   "outputs": [
    {
     "name": "stderr",
     "output_type": "stream",
     "text": [
      "Some weights of LongformerForSequenceClassification were not initialized from the model checkpoint at allenai/longformer-base-4096 and are newly initialized: ['classifier.dense.bias', 'classifier.dense.weight', 'classifier.out_proj.bias', 'classifier.out_proj.weight']\n",
      "You should probably TRAIN this model on a down-stream task to be able to use it for predictions and inference.\n",
      "/tmp/ipykernel_5705/3782884818.py:69: FutureWarning: `torch.cuda.amp.GradScaler(args...)` is deprecated. Please use `torch.amp.GradScaler('cuda', args...)` instead.\n",
      "  scaler = GradScaler()  # Mixed precision scaler\n"
     ]
    },
    {
     "name": "stdout",
     "output_type": "stream",
     "text": [
      "Epoch 1/3\n"
     ]
    },
    {
     "name": "stderr",
     "output_type": "stream",
     "text": [
      "/tmp/ipykernel_5705/3782884818.py:83: FutureWarning: `torch.cuda.amp.autocast(args...)` is deprecated. Please use `torch.amp.autocast('cuda', args...)` instead.\n",
      "  with autocast():  # Enable mixed precision\n",
      "Initializing global attention on CLS token...\n",
      "/tmp/ipykernel_5705/3782884818.py:116: FutureWarning: `torch.cuda.amp.autocast(args...)` is deprecated. Please use `torch.amp.autocast('cuda', args...)` instead.\n",
      "  with autocast():  # Mixed precision during evaluation\n"
     ]
    },
    {
     "name": "stdout",
     "output_type": "stream",
     "text": [
      "Train Loss: 0.7058, Train Accuracy: 0.4979\n",
      "Validation Loss: 0.6932, Validation Accuracy: 0.5028, Validation F1: 0.6692\n",
      "Epoch 2/3\n"
     ]
    },
    {
     "name": "stderr",
     "output_type": "stream",
     "text": [
      "/tmp/ipykernel_5705/3782884818.py:83: FutureWarning: `torch.cuda.amp.autocast(args...)` is deprecated. Please use `torch.amp.autocast('cuda', args...)` instead.\n",
      "  with autocast():  # Enable mixed precision\n",
      "/tmp/ipykernel_5705/3782884818.py:116: FutureWarning: `torch.cuda.amp.autocast(args...)` is deprecated. Please use `torch.amp.autocast('cuda', args...)` instead.\n",
      "  with autocast():  # Mixed precision during evaluation\n"
     ]
    },
    {
     "name": "stdout",
     "output_type": "stream",
     "text": [
      "Train Loss: 0.6989, Train Accuracy: 0.4993\n",
      "Validation Loss: 0.7021, Validation Accuracy: 0.5028, Validation F1: 0.6692\n",
      "Epoch 3/3\n"
     ]
    },
    {
     "name": "stderr",
     "output_type": "stream",
     "text": [
      "/tmp/ipykernel_5705/3782884818.py:83: FutureWarning: `torch.cuda.amp.autocast(args...)` is deprecated. Please use `torch.amp.autocast('cuda', args...)` instead.\n",
      "  with autocast():  # Enable mixed precision\n",
      "/tmp/ipykernel_5705/3782884818.py:116: FutureWarning: `torch.cuda.amp.autocast(args...)` is deprecated. Please use `torch.amp.autocast('cuda', args...)` instead.\n",
      "  with autocast():  # Mixed precision during evaluation\n"
     ]
    },
    {
     "name": "stdout",
     "output_type": "stream",
     "text": [
      "Train Loss: 0.6980, Train Accuracy: 0.5021\n",
      "Validation Loss: 0.6941, Validation Accuracy: 0.4972, Validation F1: 0.0000\n"
     ]
    },
    {
     "name": "stderr",
     "output_type": "stream",
     "text": [
      "/tmp/ipykernel_5705/3782884818.py:116: FutureWarning: `torch.cuda.amp.autocast(args...)` is deprecated. Please use `torch.amp.autocast('cuda', args...)` instead.\n",
      "  with autocast():  # Mixed precision during evaluation\n"
     ]
    },
    {
     "name": "stdout",
     "output_type": "stream",
     "text": [
      "Test Loss: 0.6943, Test Accuracy: 0.4944, Test F1: 0.0000\n"
     ]
    }
   ],
   "source": [
    "import os\n",
    "import torch\n",
    "from torch.utils.data import DataLoader, Dataset\n",
    "from torch.cuda.amp import GradScaler, autocast\n",
    "from transformers import LongformerTokenizer, LongformerForSequenceClassification\n",
    "from sklearn.metrics import accuracy_score, f1_score\n",
    "import pandas as pd\n",
    "\n",
    "# Environment variable to improve memory allocation\n",
    "os.environ[\"PYTORCH_CUDA_ALLOC_CONF\"] = \"expandable_segments:True\"\n",
    "\n",
    "# Tokenizer and Model Initialization\n",
    "tokenizer = LongformerTokenizer.from_pretrained(\"allenai/longformer-base-4096\")\n",
    "model = LongformerForSequenceClassification.from_pretrained(\"allenai/longformer-base-4096\", num_labels=2)\n",
    "model.gradient_checkpointing_enable()  # Enable gradient checkpointing\n",
    "model.config.attention_window = [256] * len(model.config.attention_window)  # Reduce attention window to address outofmemory issues\n",
    "model = model.to(\"cuda\")  # Make sure model runs on GPU\n",
    "\n",
    "# Custom Dataset Class\n",
    "class ScriptDataset(Dataset):\n",
    "    def __init__(self, scripts, labels, tokenizer, max_length=2048): #reduced to 2048 to address outofmemory issues\n",
    "        self.scripts = scripts\n",
    "        self.labels = labels\n",
    "        self.tokenizer = tokenizer\n",
    "        self.max_length = max_length\n",
    "\n",
    "    def __len__(self):\n",
    "        return len(self.scripts)\n",
    "\n",
    "    def __getitem__(self, idx):\n",
    "        text = self.scripts[idx]\n",
    "        label = self.labels[idx]\n",
    "        inputs = self.tokenizer(\n",
    "            text,\n",
    "            max_length=self.max_length,\n",
    "            padding=\"max_length\",\n",
    "            truncation=True,\n",
    "            return_tensors=\"pt\"\n",
    "        )\n",
    "        return {\n",
    "            \"input_ids\": inputs[\"input_ids\"].squeeze(0),\n",
    "            \"attention_mask\": inputs[\"attention_mask\"].squeeze(0),\n",
    "            \"label\": torch.tensor(label, dtype=torch.long)\n",
    "        }\n",
    "\n",
    "# DataLoader Preparation Function\n",
    "def prepare_dataloader(data, tokenizer, max_length, batch_size):\n",
    "    dataset = ScriptDataset(\n",
    "        scripts=data[\"script\"].tolist(),\n",
    "        labels=data[\"passed_bechdel\"].tolist(),\n",
    "        tokenizer=tokenizer,\n",
    "        max_length=max_length\n",
    "    )\n",
    "    return DataLoader(dataset, batch_size=batch_size, shuffle=True)\n",
    "\n",
    "# Load Datasets\n",
    "train_data = pd.read_csv(\"../2_preprocessing/train_case_sensitive.csv\")\n",
    "val_data = pd.read_csv(\"../2_preprocessing/validation_case_sensitive.csv\")\n",
    "test_data = pd.read_csv(\"../2_preprocessing/test_case_sensitive.csv\")\n",
    "\n",
    "# Create DataLoaders\n",
    "train_loader = prepare_dataloader(train_data, tokenizer, max_length=2048, batch_size=1)\n",
    "val_loader = prepare_dataloader(val_data, tokenizer, max_length=2048, batch_size=1)\n",
    "test_loader = prepare_dataloader(test_data, tokenizer, max_length=2048, batch_size=1)\n",
    "\n",
    "# Optimizer, Loss, and Scaler\n",
    "optimizer = torch.optim.AdamW(model.parameters(), lr=5e-5)\n",
    "criterion = torch.nn.CrossEntropyLoss()\n",
    "scaler = GradScaler()  # Mixed precision scaler\n",
    "gradient_accumulation_steps = 4  # Accumulate gradients over 4 steps\n",
    "\n",
    "# Training Loop\n",
    "def train(model, dataloader):\n",
    "    model.train()\n",
    "    total_loss, total_correct = 0, 0\n",
    "    optimizer.zero_grad()\n",
    "\n",
    "    for step, batch in enumerate(dataloader):\n",
    "        input_ids = batch[\"input_ids\"].to(\"cuda\")\n",
    "        attention_mask = batch[\"attention_mask\"].to(\"cuda\")\n",
    "        labels = batch[\"label\"].to(\"cuda\")\n",
    "\n",
    "        with autocast():  # Enable mixed precision\n",
    "            outputs = model(input_ids, attention_mask=attention_mask)\n",
    "            loss = criterion(outputs.logits, labels)\n",
    "            loss = loss / gradient_accumulation_steps  # Scale loss for accumulation\n",
    "\n",
    "        scaler.scale(loss).backward()\n",
    "\n",
    "        if (step + 1) % gradient_accumulation_steps == 0:\n",
    "            scaler.step(optimizer)\n",
    "            scaler.update()\n",
    "            optimizer.zero_grad()\n",
    "\n",
    "        total_loss += loss.item() * gradient_accumulation_steps\n",
    "        total_correct += (outputs.logits.argmax(1) == labels).sum().item()\n",
    "\n",
    "        # Periodically clear CUDA cache to manage memory\n",
    "        if step % 50 == 0:\n",
    "            torch.cuda.empty_cache()\n",
    "\n",
    "    return total_loss / len(dataloader), total_correct / len(dataloader.dataset)\n",
    "\n",
    "# Evaluation Loop\n",
    "def evaluate(model, dataloader):\n",
    "    model.eval()\n",
    "    total_loss, total_correct = 0, 0\n",
    "    all_preds, all_labels = [], []\n",
    "\n",
    "    with torch.no_grad():\n",
    "        for batch in dataloader:\n",
    "            input_ids = batch[\"input_ids\"].to(\"cuda\")\n",
    "            attention_mask = batch[\"attention_mask\"].to(\"cuda\")\n",
    "            labels = batch[\"label\"].to(\"cuda\")\n",
    "\n",
    "            with autocast():  # Mixed precision during evaluation\n",
    "                outputs = model(input_ids, attention_mask=attention_mask)\n",
    "                loss = criterion(outputs.logits, labels)\n",
    "\n",
    "            total_loss += loss.item()\n",
    "            total_correct += (outputs.logits.argmax(1) == labels).sum().item()\n",
    "            all_preds.extend(outputs.logits.argmax(1).cpu().numpy())\n",
    "            all_labels.extend(labels.cpu().numpy())\n",
    "\n",
    "    accuracy = total_correct / len(dataloader.dataset)\n",
    "    f1 = f1_score(all_labels, all_preds)\n",
    "    return total_loss / len(dataloader), accuracy, f1\n",
    "\n",
    "# Main Training Loop\n",
    "epochs = 3\n",
    "for epoch in range(epochs):\n",
    "    print(f\"Epoch {epoch + 1}/{epochs}\")\n",
    "    train_loss, train_accuracy = train(model, train_loader)\n",
    "    val_loss, val_accuracy, val_f1 = evaluate(model, val_loader)\n",
    "\n",
    "    print(f\"Train Loss: {train_loss:.4f}, Train Accuracy: {train_accuracy:.4f}\")\n",
    "    print(f\"Validation Loss: {val_loss:.4f}, Validation Accuracy: {val_accuracy:.4f}, Validation F1: {val_f1:.4f}\")\n",
    "\n",
    "# Evaluate on Test Data\n",
    "test_loss, test_accuracy, test_f1 = evaluate(model, test_loader)\n",
    "print(f\"Test Loss: {test_loss:.4f}, Test Accuracy: {test_accuracy:.4f}, Test F1: {test_f1:.4f}\")"
=======
    "# Longformer\n",
    "## With text prompt explaining Bechdel test"
>>>>>>> linus
   ]
  },
  {
   "cell_type": "markdown",
   "metadata": {},
   "source": [
<<<<<<< HEAD
    "## Running the model with 3072 tokens and a text prompt explaining the Bechdel test\n",
    "### run time ≈ 80 min"
>>>>>>> linus
=======
    "### Imports and Initialization"
>>>>>>> linus
   ]
  },
  {
   "cell_type": "code",
   "execution_count": null,
   "metadata": {},
   "outputs": [
    {
     "name": "stderr",
     "output_type": "stream",
     "text": [
      "Some weights of LongformerForSequenceClassification were not initialized from the model checkpoint at allenai/longformer-base-4096 and are newly initialized: ['classifier.dense.bias', 'classifier.dense.weight', 'classifier.out_proj.bias', 'classifier.out_proj.weight']\n",
      "You should probably TRAIN this model on a down-stream task to be able to use it for predictions and inference.\n"
     ]
    }
   ],
   "source": [
    "import os\n",
    "import torch\n",
    "from torch.utils.data import DataLoader, Dataset\n",
    "from torch.amp import GradScaler, autocast\n",
    "from transformers import LongformerTokenizer, LongformerForSequenceClassification\n",
    "from sklearn.metrics import accuracy_score, f1_score, roc_auc_score, confusion_matrix, ConfusionMatrixDisplay\n",
    "import matplotlib.pyplot as plt\n",
    "import seaborn as sns\n",
    "import pandas as pd\n",
    "import numpy as np\n",
    "\n",
    "# Environment variable for memory allocation\n",
    "os.environ[\"PYTORCH_CUDA_ALLOC_CONF\"] = \"expandable_segments:True\"\n",
    "\n",
    "# Tokenizer and Model Initialization\n",
    "tokenizer = LongformerTokenizer.from_pretrained(\"allenai/longformer-base-4096\")\n",
    "model = LongformerForSequenceClassification.from_pretrained(\"allenai/longformer-base-4096\", num_labels=2)\n",
    "model.gradient_checkpointing_enable()\n",
    "model.config.attention_window = [256] * len(model.config.attention_window)\n",
    "model = torch.nn.DataParallel(model).to(\"cuda\")\n",
    "model_name = 'longformer_prompt'\n"
   ]
  },
  {
   "cell_type": "markdown",
   "metadata": {},
   "source": [
    "### Dataset and DataLoader setup"
   ]
  },
  {
   "cell_type": "code",
   "execution_count": 5,
   "metadata": {},
   "outputs": [],
   "source": [
    "# Dataset with optional text prompt\n",
    "class ScriptDataset(Dataset):\n",
    "    def __init__(self, scripts, labels, tokenizer, max_length=3072, use_prompt=True):\n",
    "        self.scripts = scripts\n",
    "        self.labels = labels\n",
    "        self.tokenizer = tokenizer\n",
    "        self.max_length = max_length\n",
    "        self.use_prompt = use_prompt\n",
    "        self.prompt = (\n",
    "            \"Does the following manuscript pass the Bechdel test or not? \"\n",
    "            \"A movie passes the Bechdel test if it fulfills three requirements: \"\n",
    "            \"1) There are at least two named female characters, 2) They have a conversation, \"\n",
    "            \"3) About something other than a man. Manuscript: \"\n",
    "        )\n",
    "\n",
    "    def __len__(self):\n",
    "        return len(self.scripts)\n",
    "\n",
    "    def __getitem__(self, idx):\n",
    "        text = self.prompt + self.scripts[idx] if self.use_prompt else self.scripts[idx]\n",
    "        label = self.labels[idx]\n",
    "        inputs = self.tokenizer(\n",
    "            text,\n",
    "            max_length=self.max_length,\n",
    "            padding=\"max_length\",\n",
    "            truncation=True,\n",
    "            return_tensors=\"pt\"\n",
    "        )\n",
    "        return {\n",
    "            \"input_ids\": inputs[\"input_ids\"].squeeze(0),\n",
    "            \"attention_mask\": inputs[\"attention_mask\"].squeeze(0),\n",
    "            \"label\": torch.tensor(label, dtype=torch.long)\n",
    "        }\n",
    "\n",
    "# DataLoader Preparation\n",
    "def prepare_dataloader(data, tokenizer, max_length, batch_size, use_prompt=True):\n",
    "    dataset = ScriptDataset(\n",
    "        scripts=data[\"script\"].tolist(),\n",
    "        labels=data[\"passed_bechdel\"].tolist(),\n",
    "        tokenizer=tokenizer,\n",
    "        max_length=max_length,\n",
    "        use_prompt=use_prompt\n",
    "    )\n",
    "    return DataLoader(dataset, batch_size=batch_size, shuffle=True)\n",
    "\n",
    "# Load datasets\n",
    "train_data = pd.read_csv(\"../2_preprocessing/train_case_sensitive.csv\")\n",
    "val_data = pd.read_csv(\"../2_preprocessing/validation_case_sensitive.csv\")\n",
    "test_data = pd.read_csv(\"../2_preprocessing/test_case_sensitive.csv\")\n",
    "\n",
    "# Create DataLoaders\n",
    "train_loader = prepare_dataloader(train_data, tokenizer, max_length=3072, batch_size=1, use_prompt=True)\n",
    "val_loader = prepare_dataloader(val_data, tokenizer, max_length=3072, batch_size=1, use_prompt=True)\n",
    "test_loader = prepare_dataloader(test_data, tokenizer, max_length=3072, batch_size=1, use_prompt=True)\n"
   ]
  },
  {
   "cell_type": "markdown",
   "metadata": {},
   "source": [
    "### Training Loop"
   ]
  },
  {
   "cell_type": "code",
   "execution_count": 6,
   "metadata": {},
   "outputs": [
    {
     "name": "stdout",
     "output_type": "stream",
     "text": [
      "Epoch 1/3\n",
      "Train Loss: 0.6479, Train Accuracy: 0.6213\n",
      "Epoch 2/3\n",
      "Train Loss: 0.5649, Train Accuracy: 0.7102\n",
      "Epoch 3/3\n",
      "Train Loss: 0.4942, Train Accuracy: 0.7722\n"
     ]
    }
   ],
   "source": [
    "# Optimizer, Loss, and Scaler\n",
    "optimizer = torch.optim.AdamW(model.parameters(), lr=1e-5, weight_decay=0.001)\n",
    "criterion = torch.nn.CrossEntropyLoss()\n",
    "scaler = GradScaler()\n",
    "gradient_accumulation_steps = 4\n",
    "\n",
    "# Training Loop\n",
    "def train(model, dataloader):\n",
    "    model.train()\n",
    "    total_loss, total_correct = 0, 0\n",
    "    optimizer.zero_grad()\n",
    "\n",
    "    for step, batch in enumerate(dataloader):\n",
    "        input_ids = batch[\"input_ids\"].to(\"cuda\")\n",
    "        attention_mask = batch[\"attention_mask\"].to(\"cuda\")\n",
    "        labels = batch[\"label\"].to(\"cuda\")\n",
    "\n",
    "        with autocast(\"cuda\"):\n",
    "            outputs = model(input_ids, attention_mask=attention_mask)\n",
    "            loss = criterion(outputs.logits, labels)\n",
    "            loss = loss / gradient_accumulation_steps\n",
    "\n",
    "        scaler.scale(loss).backward()\n",
    "\n",
    "        if (step + 1) % gradient_accumulation_steps == 0:\n",
    "            scaler.step(optimizer)\n",
    "            scaler.update()\n",
    "            optimizer.zero_grad()\n",
    "\n",
    "        total_loss += loss.item() * gradient_accumulation_steps\n",
    "        total_correct += (outputs.logits.argmax(1) == labels).sum().item()\n",
    "\n",
    "        if step % 50 == 0:\n",
    "            torch.cuda.empty_cache()\n",
    "\n",
    "    return total_loss / len(dataloader), total_correct / len(dataloader.dataset)\n",
    "\n",
    "# Training\n",
    "epochs = 3\n",
    "for epoch in range(epochs):\n",
    "    print(f\"Epoch {epoch + 1}/{epochs}\")\n",
    "    train_loss, train_accuracy = train(model, train_loader)\n",
    "    print(f\"Train Loss: {train_loss:.4f}, Train Accuracy: {train_accuracy:.4f}\")\n"
   ]
  },
  {
   "cell_type": "markdown",
   "metadata": {},
   "source": [
    "### Evaluation Loop"
   ]
  },
  {
   "cell_type": "code",
   "execution_count": 6,
   "metadata": {},
   "outputs": [
    {
     "name": "stdout",
     "output_type": "stream",
     "text": [
      "\n",
      "Training Metrics:\n",
      "Accuracy: 0.8378\n",
      "F1 Score: 0.8231\n",
      "ROC-AUC: 0.9245\n",
      "Confusion Matrix:\n",
      "[[653  52]\n",
      " [178 535]]\n"
     ]
    },
    {
     "data": {
      "image/png": "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",
      "text/plain": [
       "<Figure size 640x480 with 2 Axes>"
      ]
     },
     "metadata": {},
     "output_type": "display_data"
    },
    {
     "name": "stdout",
     "output_type": "stream",
     "text": [
      "Training Loss: 0.3846, Training Accuracy: 0.8378, Training F1: 0.8231, Training ROC-AUC: 0.9245\n",
      "\n",
      "Validation Metrics:\n",
      "Accuracy: 0.7740\n",
      "F1 Score: 0.7468\n",
      "ROC-AUC: 0.8531\n",
      "Confusion Matrix:\n",
      "[[78 10]\n",
      " [30 59]]\n"
     ]
    },
    {
     "data": {
      "image/png": "iVBORw0KGgoAAAANSUhEUgAAAhkAAAHHCAYAAAASxkpJAAAAOnRFWHRTb2Z0d2FyZQBNYXRwbG90bGliIHZlcnNpb24zLjEwLjAsIGh0dHBzOi8vbWF0cGxvdGxpYi5vcmcvlHJYcgAAAAlwSFlzAAAPYQAAD2EBqD+naQAAU51JREFUeJzt3XlcVFX/B/DPsM2wDoqsgoiiAipqWIrljqK5JmW5JLiVSi6omVSumaTlhiGaGu6PZi6pWabmltujqGUuuOEWoJYCgrLO+f3hw/01gjrjMFwcPu9e9/U8c+72vZdh+Po959xRCCEEiIiIiEqZmdwBEBERkWlikkFERERGwSSDiIiIjIJJBhERERkFkwwiIiIyCiYZREREZBRMMoiIiMgomGQQERGRUTDJICIiIqNgklFGli1bBoVCgatXr8odimTlypXw8/ODpaUlHB0d5Q6HyOS1atUKrVq1kl5fvXoVCoUCy5Ytky0mXRkSe0REBKpXr16q8ZTHz1QqjklGBXX+/HlERESgZs2aWLx4Mb755hu5Q6JyasGCBQb/EYyIiIBCoZAWOzs71KhRA2+++SY2bNgAjUbz3Mdes2YN5s6da1B8JdFoNFixYgWaNGmCypUrw97eHrVr10a/fv1w5MiRUj9fke3bt2Py5MnPvf/GjRuhUCiwZMmSJ26zc+dOKBQKxMbGPvd5ysr06dOxefNmucOg52QhdwAkj71790Kj0WDevHnw9fWVOxwqxxYsWIAqVaogIiLCoOMolUrpD9/Dhw9x7do1bN26FW+++SZatWqFH374AQ4ODnofd82aNfjzzz8xatQog+J73IgRIxAXF4du3bqhT58+sLCwQFJSEn766SfUqFEDTZs2Nfgc3t7eePjwISwtLaW27du3Iy4u7rkTjU6dOkGtVmPNmjUYNGhQidusWbMG5ubmeOedd57rHEDJsRvD9OnT8eabb6J79+5a7e+++y7eeecdKJVKo56fDMMko4K6ffs2AJRqN8mDBw9gY2NTasd7HtnZ2bC1tZU1hueRk5MDKysrmJmZbnHRwsICffv21WqbNm0avvjiC0RHR2Pw4MFYt26dTNFpu3XrFhYsWIDBgwcXq/LNnTsXd+7cKZXzKBQKqFSqUjlWEaVSiTfffBMJCQlISUmBh4eH1vqcnBxs2rQJ7dq1g4uLy3Ofxxix68Pc3Bzm5uaynZ90Y7qfaC+IBQsWoG7dulAqlfDw8EBkZCTS09O1tmnVqhXq1auHs2fPonXr1rCxsUHVqlUxc+bMYse7du0aunbtCltbW7i4uCAqKgo7duyAQqHA3r17AQDVq1fHpEmTAADOzs5QKBRa/2rSJ6bExES0aNECNjY2+Pjjj6V+2q+++gpxcXGoUaMGbGxs0L59e9y4cQNCCHz22Wfw9PSEtbU1unXrhrt37xa7jp9++gnNmzeHra0t7O3t0alTJ5w5c0Zrm4iICNjZ2eHy5ct4/fXXYW9vjz59+uh034v6cw8ePIjRo0fD2dkZtra2eOONN0r8A6LvPWnWrBmsra3h4+ODhQsXam23d+9eKBQKrF27Fp9++imqVq0KGxsbZGZmAgDWr1+PoKAgWFtbo0qVKujbty/++uuvEq/9+vXr6Ny5M+zs7FC1alXExcUBAE6fPo02bdrA1tYW3t7eWLNmTYnXv3//frz//vtwcnKCg4MD+vXrh3v37knbVa9eHWfOnMG+ffukro5/98uXhvHjx6N9+/ZYv349Lly4ILX/8MMP6NSpEzw8PKBUKlGzZk189tlnKCwslLZp1aoVfvzxR1y7dk2Kr6jvPy8vDxMnTkRQUBDUajVsbW3RvHlz7Nmz55kxJScnQwiBV199tdg6hUKh9cdZ13tZksfHNUREREg/w393LxVJTU3F+fPnkZ+f/9Tj9u3bFxqNBmvXri227scff0RGRob0u5KQkIA2bdrAxcUFSqUSAQEBiI+Pf+rxS4q9yObNm1GvXj2oVCrUq1cPmzZtKnH/r776Cs2aNYOTkxOsra0RFBSE77//XmsbhUKB7OxsLF++XLoXRRW1J43JKO3PVDKQoDKRkJAgAIjk5GSpbdKkSQKACAkJEfPnzxcffPCBMDc3Fy+//LLIy8uTtmvZsqXw8PAQXl5eYuTIkWLBggWiTZs2AoDYvn27tF1WVpaoUaOGsLa2FuPHjxdz584Vr7zyimjQoIEAIPbs2SOEEGLTpk3ijTfeEABEfHy8WLlypfj999/1jsnNzU04OzuL4cOHi0WLFonNmzeL5ORkAUA0bNhQBAQEiNmzZ4tPP/1UWFlZiaZNm4qPP/5YNGvWTMTGxooRI0YIhUIh+vfvr3WvVqxYIRQKhejQoYOYP3++mDFjhqhevbpwdHTUun/h4eFCqVSKmjVrivDwcLFw4UKxYsUKvX4ejRo1Em3atBHz588XY8aMEebm5qJnz55a2+r7c3JxcREffPCBiI2NFa+99poAIJYuXSptt2fPHgFABAQEiIYNG4rZs2eLmJgYkZ2dLcX18ssvizlz5ojx48cLa2trUb16dXHv3j2ta1epVCIgIEAMGTJExMXFiWbNmgkAIiEhQXh4eIgPP/xQzJ8/X9StW1eYm5uLK1euFLv++vXri+bNm4vY2FgRGRkpzMzMRIsWLYRGo5HeK56ensLPz0+sXLlSrFy5Uvzyyy863eN/Cw8PF7a2tk9cv3LlSgFAfP3111Jb9+7dRc+ePcWXX34p4uPjxVtvvSUAiLFjx0rb/PLLL6Jhw4aiSpUqUnybNm0SQghx584d4e7uLkaPHi3i4+PFzJkzRZ06dYSlpaU4efLkU+NNSUkRAESnTp1Ednb2U7fV9V4K8eg90rJlS+l10e9LQkKCEEKIQ4cOiXbt2gkA0vWsXLlS6z4+/jlSksLCQuHp6SmCgoKKrevRo4ewsbER9+/fF0II8fLLL4uIiAgxZ84cMX/+fNG+fftiPwtdYhdCiB07dggzMzNRr149MXv2bPHJJ58ItVot6tatK7y9vbWO5+npKYYNGya+/vprMXv2bPHKK68IAGLbtm3SNitXrhRKpVI0b95cuheHDh3Suu/G/EwlwzHJKCOP/0Lcvn1bWFlZifbt24vCwkJpu6+//loAEN9++63U1rJlSwFA6w9obm6ucHNzE2FhYVLbrFmzBACxefNmqe3hw4fCz89PK8kQ4v9/Ge/cuSO1PU9MCxcu1LrOog8eZ2dnkZ6eLrVHR0cLAKJBgwYiPz9fau/Vq5ewsrISOTk5Qggh7t+/LxwdHcXgwYO1jpuWlibUarVWe9EH7vjx4x+/3c9U9PMICQnR+iMQFRUlzM3Npdif557MmjVLasvNzRUNGzYULi4u0odcUZJRo0YN8eDBA2nbvLw84eLiIurVqycePnwotW/btk0AEBMnTix27dOnT5fa7t27J6ytrYVCoRBr166V2s+fPy8AiEmTJhW7/qCgIK0P35kzZwoA4ocffpDa6tatq/XH5Xk8K8k4efKkACCioqKktn/fmyLvv/++sLGxkd4vQgjRqVOnYn/AhBCioKBA5ObmarXdu3dPuLq6igEDBjwz5n79+gkAolKlSuKNN94QX331lTh37lyx7fS5l7r8oY6MjBRP+vefrkmGEEJ8+OGHAoBISkqS2jIyMoRKpRK9evWS2kq6z6GhoaJGjRpabbrE3rBhQ+Hu7q71u//LL78IAMV+Ro+fNy8vT9SrV0+0adNGq93W1laEh4cXi7EsPlPJcOwukcmuXbuQl5eHUaNGafXDDx48GA4ODvjxxx+1trezs9Pqz7ayssIrr7yCK1euSG0///wzqlatiq5du0ptKpUKgwcPNkpMSqUS/fv3L/FYb731FtRqtfS6SZMmAB6VcS0sLLTa8/LypO6AnTt3Ij09Hb169cLff/8tLebm5mjSpEmJpe6hQ4fqdH0lee+997TK0c2bN0dhYSGuXbsGQP97YmFhgffff196bWVlhffffx+3b99GYmKi1rbh4eGwtraWXh8/fhy3b9/GsGHDtPq6O3XqBD8/v2LnAqA1sM/R0RF16tSBra0tevbsKbXXqVMHjo6OWu+Vf1//vwfuDR06FBYWFti+fXsJd8t47OzsAAD379+X2v59b+7fv4+///4bzZs3x4MHD3D+/PlnHtPc3BxWVlYAHs0UuXv3LgoKCtC4cWOcOHHimfsnJCTg66+/ho+PDzZt2oSxY8fC398fbdu2LdZ9BZTNvVy2bBmEEDpNBy36vPh3V9mGDRuQk5Oj1a347/uckZGBv//+Gy1btsSVK1eQkZGhc2ypqak4deoUwsPDtX7327Vrh4CAgGLb//u89+7dQ0ZGBpo3b67Tz6YkxvhMJcMxyZBJ0R+xOnXqaLVbWVmhRo0a0voinp6eWn8MAaBSpUpafb7Xrl1DzZo1i22n6+wRfWOqWrWq9CH+uGrVqmm9LvrQ8fLyKrG96DouXrwIAGjTpg2cnZ21ll9++UUasFrEwsICnp6eOl2fLnFWqlRJKx5974mHh0exgae1a9cGgGJ9xz4+Plqvn3QuAPDz8yt2LpVKBWdnZ602tVpd4ntFrVaXOD6gVq1aWq/t7Ozg7u5e5s8eyMrKAgDY29tLbWfOnMEbb7wBtVoNBwcHODs7S38UdP3jt3z5cgQGBkKlUsHJyQnOzs7SmIRnMTMzQ2RkJBITE/H333/jhx9+QMeOHfHrr7+WOCujvNzLIoGBgahXrx7+85//SG1r1qxBlSpVEBoaKrUdPHgQISEhsLW1haOjI5ydnfHxxx8D0P0+A////n38PgAlv6e3bduGpk2bQqVSoXLlynB2dkZ8fLxe5yzp/KX5mUqG4+ySF8STRlELIco4kv/373+JPO5J8T7rOoqel7By5Uq4ubkV2+7fVRDgUTXFkBkZct7Xp90/XTzvPS6P/vzzTwD/nxCnp6ejZcuWcHBwwNSpU1GzZk2oVCqcOHECH330kU7P1Vi1ahUiIiLQvXt3fPjhh3BxcYG5uTliYmJw+fJlveJzcnJC165d0bVrV7Rq1Qr79u3DtWvX4O3trf/FlqG+ffti/PjxOH78ODw9PbFnzx68//770u/R5cuX0bZtW/j5+WH27Nnw8vKClZUVtm/fjjlz5hj0/JKnOXDgALp27YoWLVpgwYIFcHd3h6WlJRISEooNUjaWF/H35EXEJEMmRR9OSUlJqFGjhtSel5eH5ORkhISEPNcxz549CyGEVoZ+6dIl2WLSV82aNQEALi4uZXK+Z9H3nqSkpBSbRls0Y+JZJe5/n6tNmzZa65KSkozyB+3ixYto3bq19DorKwupqal4/fXXpbbH/7VnDCtXroRCoUC7du0APJqB888//2Djxo1o0aKFtF1ycnKxfZ8U3/fff48aNWpID6cqUjSz6nk1btwY+/btQ2pqqtbPRJd7qYvSvN+9evVCdHQ01qxZA29vbxQWFmp1lWzduhW5ubnYsmWLVlVPlxk4jyu6F0XVyH9LSkrSer1hwwaoVCrs2LFD6zkXCQkJxfbV9X6Uh88vKo7dJTIJCQmBlZUVYmNjtTLnpUuXIiMjA506ddL7mKGhofjrr7+wZcsWqS0nJweLFy+WLSZ9hYaGwsHBAdOnTy9xml5pPZ9AV/rek4KCAixatEh6nZeXh0WLFsHZ2RlBQUFPPVfjxo3h4uKChQsXIjc3V2r/6aefcO7cOaPc/2+++UbrPsfHx6OgoAAdO3aU2mxtbYtNASxNX3zxBX755Re8/fbbUqm96F+Z/77neXl5WLBgQbH9bW1tSyyxl3SMo0eP4vDhw8+MKS0tDWfPni3WnpeXh927d8PMzKxYN6Qu91IXRQlqSfdc1ymsRapVq4bmzZtj3bp1WLVqFXx8fNCsWTNpfUn3KCMjo8Q/9s/i7u6Ohg0bYvny5Vo/j507dxa7l+bm5lAoFFrTka9evVrikz11ff+Vh88vKo6VDJk4OzsjOjoaU6ZMQYcOHdC1a1ckJSVhwYIFePnll4s9tEgX77//Pr7++mv06tULI0eOhLu7O1avXi0NInzWvwiMEZO+HBwcEB8fj3fffRcvvfQS3nnnHTg7O+P69ev48ccf8eqrr+Lrr782ehxF9L0nHh4emDFjBq5evYratWtj3bp1OHXqFL755ptnPhnR0tISM2bMQP/+/dGyZUv06tULt27dwrx581C9enVERUWV+vXl5eWhbdu26Nmzp3Rdr732mtbg4aCgIMTHx2PatGnw9fWFi4uLVGkpqs7oMu6goKAAq1atAvAo+b127Rq2bNmCP/74A61bt9Z66FWzZs1QqVIlhIeHY8SIEVAoFFi5cmWJpeygoCCsW7cOo0ePxssvvww7Ozt06dIFnTt3xsaNG/HGG2+gU6dOSE5OxsKFCxEQECCNAXmSmzdv4pVXXkGbNm3Qtm1buLm54fbt2/jPf/6D33//HaNGjUKVKlX0vpe6KEpGR4wYgdDQUK0nc0ZHR2P58uVITk7W+btA+vbti/feew8pKSn45JNPtNa1b98eVlZW6NKlC95//31kZWVh8eLFcHFxQWpqql5xA0BMTAw6deqE1157DQMGDMDdu3cxf/581K1bV+ued+rUCbNnz0aHDh3Qu3dv3L59G3FxcfD19cUff/xR7H7s2rULs2fPhoeHB3x8fKSB5P9WHj6/qAQyzGipkEqa0y3Eo+lVfn5+wtLSUri6uoqhQ4dqPQ9BiEfTrerWrVvsmOHh4cWmhV25ckV06tRJWFtbC2dnZzFmzBixYcMGAUAcOXJE2q6kKaylEVPRtLYvv/xSq71o2ub69etLvC/Hjh0rtn1oaKhQq9VCpVKJmjVrioiICHH8+HGt63/atMinedp58dh0XyH0uyfHjx8XwcHBQqVSCW9v72LPG3jSvSiybt060ahRI6FUKkXlypVFnz59xM2bN7W2edK1P+nn4u3tLTp16lTs+vft2yfee+89UalSJWFnZyf69Okj/vnnH61909LSRKdOnYS9vb0AoDWNsUqVKqJp06YlXsfj8QKQFhsbG1G9enURFhYmvv/+e60ph0UOHjwomjZtKqytrYWHh4cYN26c2LFjR7GfT1ZWlujdu7dwdHTUmiqp0WjE9OnThbe3t1AqlaJRo0Zi27ZtJf7ePC4zM1PMmzdPhIaGCk9PT2FpaSns7e1FcHCwWLx4sda0Z33upS7TQAsKCsTw4cOFs7OzUCgUWtNZ9ZnCWuTu3btCqVQKAOLs2bPF1m/ZskUEBgYKlUolqlevLmbMmCG+/fbbYufRJXYhhNiwYYPw9/cXSqVSBAQEiI0bN5Z4z5cuXSpq1aollEql8PPzEwkJCdLn0r+dP39etGjRQlhbWwsA0nTWsvpMJcMohOAoF1M3d+5cREVF4ebNm6hatarc4ZisVq1a4e+//5YGMZZny5YtQ//+/XHs2DE0btz4uY5x9uxZ1K1bF9u2bavQpejSuJdEpopjMkzMw4cPtV7n5ORg0aJFqFWrFhMMKlV79uxBcHBwhU4wiOjpOCbDxPTo0QPVqlVDw4YNkZGRgVWrVuH8+fNYvXq13KGViYcPHz5znn3lypWf+HwP0l1kZCQiIyPlDoOIyjEmGSYmNDQUS5YswerVq1FYWIiAgACsXbsWb7/9ttyhlYl169Y98SmkRfbs2VPqX/JFRETFcUwGmZTU1NRi39b6uKCgIOnJnkREZDxMMoiIiMgoOPCTiIiIjIJjMoxEo9EgJSUF9vb2ZfJYZiIiKl1CCNy/fx8eHh4GfUfSs+Tk5CAvL8/g41hZWWl9g3N5wCTDSFJSUop94ygREb14bty4YdC3PT9NTk4OrO2dgIIHBh/Lzc0NycnJ5SrRYJJhJEVfWW0VEA6FOadLkmm6vvcruUMgMpr7mZnw9fGSPs+NIS8vDyh4AGVAOGDI34rCPKSdXY68vDwmGRVBUReJwtyKSQaZLAcHB7lDIDK6MunytlAZ9LdCKMrnEEsmGURERHJTADAkmSmnQ/+YZBAREclNYfZoMWT/cqh8RkVEREQvPFYyiIiI5KZQGNhdUj77S5hkEBERyY3dJURERES6YyWDiIhIbuwuISIiIuMwsLuknHZMlM+oiIiI6IXHSgYREZHc2F1CRERERsHZJURERES6YyWDiIhIbuwuISIiIqMw0e4SJhlERERyM9FKRvlMfYiIiOiFx0oGERGR3NhdQkREREahUBiYZLC7hIiIiCoQVjKIiIjkZqZ4tBiyfznEJIOIiEhuJjomo3xGRURERC88VjKIiIjkZqLPyWCSQUREJDd2lxARERHpjpUMIiIiubG7hIiIiIzCRLtLmGQQERHJzUQrGeUz9SEiIqIXHisZREREcmN3CRERERkFu0uIiIiIdMdKBhERkewM7C4ppzUDJhlERERyY3cJERERke5YySAiIpKbQmHg7BJWMoiIiKgkRVNYDVn0UL16dSgUimJLZGQkACAnJweRkZFwcnKCnZ0dwsLCcOvWLb0vi0kGERFRBXPs2DGkpqZKy86dOwEAb731FgAgKioKW7duxfr167Fv3z6kpKSgR48eep+H3SVERERyK+OBn87Ozlqvv/jiC9SsWRMtW7ZERkYGli5dijVr1qBNmzYAgISEBPj7++PIkSNo2rSpzudhJYOIiEhuZdxd8m95eXlYtWoVBgwYAIVCgcTEROTn5yMkJETaxs/PD9WqVcPhw4f1OjYrGURERHIrpUpGZmamVrNSqYRSqXzqrps3b0Z6ejoiIiIAAGlpabCysoKjo6PWdq6urkhLS9MrLFYyiIiITISXlxfUarW0xMTEPHOfpUuXomPHjvDw8Cj1eFjJICIiklspfUHajRs34ODgIDU/q4px7do17Nq1Cxs3bpTa3NzckJeXh/T0dK1qxq1bt+Dm5qZXWKxkEBERya2ou8SQBYCDg4PW8qwkIyEhAS4uLujUqZPUFhQUBEtLS+zevVtqS0pKwvXr1xEcHKzXZbGSQUREVAFpNBokJCQgPDwcFhb/nw6o1WoMHDgQo0ePRuXKleHg4IDhw4cjODhYr5klAJMMIiIi2RU9DMuAA+i9y65du3D9+nUMGDCg2Lo5c+bAzMwMYWFhyM3NRWhoKBYsWKD3OZhkEBERyUyOJKN9+/YQQpS4TqVSIS4uDnFxcc8fEzgmg4iIiIyElQwiIiK5Kf63GLJ/OcQkg4iISGZydJeUBXaXEBERkVGwkkFERCQzU61kMMkgIiKSGZMMIiIiMgpTTTI4JoOIiIiMgpUMIiIiuXEKKxERERkDu0uIiIiI9MBKBhERkcwefVu7IZWM0oulNDHJICIikpkCBnaXlNMsg90lREREZBSsZBAREcnMVAd+MskgIiKSm4lOYWV3CRERERkFKxlERERyM7C7RLC7hIiIiEpi6JgMw2amGA+TDCIiIpmZapLBMRlERERkFKxkEBERyc1EZ5cwySAiIpIZu0uIiIiI9MBKBhERkcxMtZLBJIOIiEhmpppksLuEiIiIjIKVDCIiIpmZaiWDSQYREZHcTHQKK7tLiIiIyChYySAiIpIZu0uIiIjIKJhkEBERkVGYapLBMRlERERkFKxkEBERyc1EZ5cwySAiIpIZu0uIiIiI9GByScayZcvg6OgovZ48eTIaNmxo0DGvXr0KhUKBU6dOGXQcMtzvP0zBvWNfF1u+HNcTAODiZI+FU/rh/M/TcXP/LOxd+RG6tG4ob9BEejh44hLeiVoI/44fo9LLH+DHvb9rrRdCYPrCbfDr8DHcX4tC92Hzcfn6bZmipdJSVMkwZCmPym2SERERUeJNvHTp0lP3e/vtt3HhwoUyipLKWpvwL1GnQ7S0dI+cDwDYvOskACB+cj/4erug9+hFeLXXdGzdcwoJMQNQv7annGET6ezBw1zUq10VX457u8T181bswqJ1+zA7+h3sTBgLG2srhA2PQ05ufhlHSqVJAQOTjHI6KKPcJhkA0KFDB6SmpmotPj4+T93H2toaLi4uZRQhlbV/0rNw+5/70hL6Wj1cuXEHB09cBAC8ElgDi9ftw4mz13Dtr38w69sdyLj/EA39vWSOnEg37V6ti0+HdkHn1g2KrRNCYOF/9mDsgFC83jIQ9WpVRfyUfkj7OwM/7vu9hKMRyatcJxlKpRJubm5ay7x581C/fn3Y2trCy8sLw4YNQ1ZWlrTP490lJVmyZAn8/f2hUqng5+eHBQsWaK3/73//i0aNGkGlUqFx48Y4efKkMS6PDGRpYY6eHV/G6i2Hpbb//nEFb7QLgqODDRQKBXq0C4JSaYHfEi/KGClR6bj21z+49U8mWr3iJ7Wp7awRVLc6jv1xVb7AyGCm2l3yws0uMTMzQ2xsLHx8fHDlyhUMGzYM48aNK5YoPMnq1asxceJEfP3112jUqBFOnjyJwYMHw9bWFuHh4cjKykLnzp3Rrl07rFq1CsnJyRg5cqSRr4qeR6dWgVDbWWPNtqNSW//ob/Ht9AFI3j0T+QWFeJiTh3c/XIzkm3/LGClR6bj1TyYAwNnJXqvdxcket/+3jl5QnMJa9rZt2wY7OzvpdceOHbF+/XrpdfXq1TFt2jQMGTJE5yRj0qRJmDVrFnr06AEA8PHxwdmzZ7Fo0SKEh4djzZo10Gg0WLp0KVQqFerWrYubN29i6NChTz1ubm4ucnNzpdeZmfyFN7a+XZth1+GzSPs7Q2r7ZEhnqO2t0W1YLO6mZ+P1loFIiBmA1wfPxdnLKTJGS0RU8ZTrJKN169aIj4+XXtva2mLXrl2IiYnB+fPnkZmZiYKCAuTk5ODBgwewsbF56vGys7Nx+fJlDBw4EIMHD5baCwoKoFarAQDnzp1DYGAgVCqVtD44OPiZscbExGDKlCn6XiI9Jy+3Smj1Sh28O26x1Fa9ahW893ZLBL89DeevpAEA/rz4F4Ib1cSgt1pg9Bdr5QqXqFS4OjkAAO78cx9uVdRS++1/7nNw8wuOz8mQga2tLXx9faUlNzcXnTt3RmBgIDZs2IDExETExcUBAPLy8p55vKKxG4sXL8apU6ek5c8//8SRI0cMijU6OhoZGRnScuPGDYOOR0/Xu0sw7ty7j18OnpHabFRWAACNRmhtW1gooDArn7+ARPrwruoEVycH7DuWJLVlZj1E4pmreDmwunyBkcHkGJPx119/oW/fvnBycoK1tTXq16+P48ePS+uFEJg4cSLc3d1hbW2NkJAQXLyo3/i2cl3JeFxiYiI0Gg1mzZoFM7NH+dF3332n8/6urq7w8PDAlStX0KdPnxK38ff3x8qVK5GTkyNVM3RJQJRKJZRKpc6x0PNTKBTo06Up1v54FIWFGqn9wtU0XL5+G3Oie2HCvE24m5GNTq0C0bpJHbwTtVDGiIl0l/UgF8k37kivr6X8g9NJN+GotoGXW2UM6dUaX337M2p4OcO7qhOmL/wRblXU6NSy+GwUenEoFI8WQ/bXx7179/Dqq6+idevW+Omnn+Ds7IyLFy+iUqVK0jYzZ85EbGwsli9fDh8fH0yYMAGhoaE4e/asVrX/aV6oJMPX1xf5+fmYP38+unTpgoMHD2LhQv3+eEyZMgUjRoyAWq1Ghw4dkJubi+PHj+PevXsYPXo0evfujU8++QSDBw9GdHQ0rl69iq+++spIV0TPo9UrdeDlXhmrtmgnfwWFGvQcFY9JH3TDf2a/D1sbJZJv3MGwySux89BZmaIl0s+pc9fQZUis9PqTORsBAL06NcGCye9iZL8QPHiYi6jp/0FG1kM0bVAT38cOg0ppKVfI9AKaMWMGvLy8kJCQILX9+xERQgjMnTsXn376Kbp16wYAWLFiBVxdXbF582a88847Op3nhUoyGjRogNmzZ2PGjBmIjo5GixYtEBMTg379+ul8jEGDBsHGxgZffvklPvzwQ9ja2qJ+/foYNWoUAMDOzg5bt27FkCFD0KhRIwQEBGDGjBkICwsz0lWRvvYcPY9KL39Q4rorN+4g/KMlZRwRUel5Lag27h37+onrFQoFPh7SGR8P6VyGUZGxPapkGDIm49H/Pj7p4ElV9i1btiA0NBRvvfUW9u3bh6pVq2LYsGHSeMXk5GSkpaUhJCRE2ketVqNJkyY4fPiwzkmGQgghnr0Z6SszMxNqtRrK+oOhMLeSOxwio3jaH0OiF11mZiZcndTIyMiAg4OD0c6hVqtRY8T3MFfaPvdxCnOzcSX2zWLtkyZNwuTJk4u1F3V3jB49Gm+99RaOHTuGkSNHYuHChQgPD8ehQ4fw6quvIiUlBe7u7tJ+PXv2hEKhwLp163SK64WqZBAREdGT3bhxQyshetJYQY1Gg8aNG2P69OkAgEaNGuHPP/+UkozSUq5nlxAREVUEpTW7xMHBQWt5UpLh7u6OgIAArTZ/f39cv34dAODm5gYAuHXrltY2t27dktbpgkkGERGRzIpmlxiy6OPVV19FUlKSVtuFCxfg7e0N4NEgUDc3N+zevVtan5mZiaNHj+r07Kgi7C4hIiKqYKKiotCsWTNMnz4dPXv2xH//+1988803+OabbwA8qqyMGjUK06ZNQ61ataQprB4eHujevbvO52GSQUREJDMzMwXMDHhooNBz35dffhmbNm1CdHQ0pk6dCh8fH8ydO1frGVLjxo1DdnY23nvvPaSnp+O1117Dzz//rPMzMgAmGURERLIr64dxAUDnzp3RufOTp0IrFApMnToVU6dOfe64OCaDiIiIjIKVDCIiIpmZ6hekMckgIiKSmRzdJWWBSQYREZHMTLWSwTEZREREZBSsZBAREcnMVCsZTDKIiIhkZqpjMthdQkREREbBSgYREZHMFDCwuwTls5TBJIOIiEhm7C4hIiIi0gMrGURERDLj7BIiIiIyCnaXEBEREemBlQwiIiKZsbuEiIiIjMJUu0uYZBAREcnMVCsZHJNBRERERsFKBhERkdwM7C4ppw/8ZJJBREQkN3aXEBEREemBlQwiIiKZcXYJERERGQW7S4iIiIj0wEoGERGRzNhdQkREREbB7hIiIiIiPbCSQUREJDNTrWQwySAiIpIZx2QQERGRUZhqJYNjMoiIiMgoWMkgIiKSGbtLiIiIyCjYXUJERESkB1YyiIiIZKaAgd0lpRZJ6WKSQUREJDMzhQJmBmQZhuxrTOwuISIiIqNgJYOIiEhmnF1CRERERmGqs0uYZBAREcnMTPFoMWT/8ohjMoiIiMgoWMkgIiKSm8LALo9yWslgkkFERCQzUx34ye4SIiKiCmby5MnSYNOixc/PT1qfk5ODyMhIODk5wc7ODmFhYbh165be52GSQUREJDNFKfynr7p16yI1NVVafvvtN2ldVFQUtm7divXr12Pfvn1ISUlBjx499D4Hu0uIiIhkJsfsEgsLC7i5uRVrz8jIwNKlS7FmzRq0adMGAJCQkAB/f38cOXIETZs21T0u/cMiIiKi8igzM1Nryc3NfeK2Fy9ehIeHB2rUqIE+ffrg+vXrAIDExETk5+cjJCRE2tbPzw/VqlXD4cOH9YqHSQYREZHMHh8f8TwLAHh5eUGtVktLTExMiedr0qQJli1bhp9//hnx8fFITk5G8+bNcf/+faSlpcHKygqOjo5a+7i6uiItLU2v69Kpu2TLli06H7Br1656BUBERFTRldbskhs3bsDBwUFqVyqVJW7fsWNH6f8HBgaiSZMm8Pb2xnfffQdra+vnD+QxOiUZ3bt31+lgCoUChYWFhsRDREREz8nBwUErydCVo6MjateujUuXLqFdu3bIy8tDenq6VjXj1q1bJY7heBqduks0Go1OCxMMIiIi/RV91bshiyGysrJw+fJluLu7IygoCJaWlti9e7e0PikpCdevX0dwcLBexzVodklOTg5UKpUhhyAiIqrwyvphXGPHjkWXLl3g7e2NlJQUTJo0Cebm5ujVqxfUajUGDhyI0aNHo3LlynBwcMDw4cMRHBys18wS4DkGfhYWFuKzzz5D1apVYWdnhytXrgAAJkyYgKVLl+p7OCIiogqvtAZ+6urmzZvo1asX6tSpg549e8LJyQlHjhyBs7MzAGDOnDno3LkzwsLC0KJFC7i5uWHjxo16X5felYzPP/8cy5cvx8yZMzF48GCpvV69epg7dy4GDhyodxBERERUdtauXfvU9SqVCnFxcYiLizPoPHpXMlasWIFvvvkGffr0gbm5udTeoEEDnD9/3qBgiIiIKqKi7hJDlvJI70rGX3/9BV9f32LtGo0G+fn5pRIUERFRRWLo4E1DB34ai96VjICAABw4cKBY+/fff49GjRqVSlBERET04tO7kjFx4kSEh4fjr7/+gkajwcaNG5GUlIQVK1Zg27ZtxoiRiIjIpCn+txiyf3mkdyWjW7du2Lp1K3bt2gVbW1tMnDgR586dw9atW9GuXTtjxEhERGTSynp2SVl5rudkNG/eHDt37iztWIiIiMiEPPfDuI4fP45z584BeDROIygoqNSCIiIiqkjk+Kr3sqB3klH0AI+DBw9KzzRPT09Hs2bNsHbtWnh6epZ2jERERCbN0C6P8tpdoveYjEGDBiE/Px/nzp3D3bt3cffuXZw7dw4ajQaDBg0yRoxERET0AtK7krFv3z4cOnQIderUkdrq1KmD+fPno3nz5qUaHBERUUVRTosRBtE7yfDy8irxoVuFhYXw8PAolaCIiIgqEnaX/M+XX36J4cOH4/jx41Lb8ePHMXLkSHz11VelGhwREVFFUDTw05ClPNKpklGpUiWtLCk7OxtNmjSBhcWj3QsKCmBhYYEBAwage/fuRgmUiIiIXiw6JRlz5841chhEREQVl6l2l+iUZISHhxs7DiIiogrLVB8r/twP4wKAnJwc5OXlabU5ODgYFBARERGZBr2TjOzsbHz00Uf47rvv8M8//xRbX1hYWCqBERERVRT8qvf/GTduHH799VfEx8dDqVRiyZIlmDJlCjw8PLBixQpjxEhERGTSFArDl/JI70rG1q1bsWLFCrRq1Qr9+/dH8+bN4evrC29vb6xevRp9+vQxRpxERET0gtG7knH37l3UqFEDwKPxF3fv3gUAvPbaa9i/f3/pRkdERFQBmOpXveudZNSoUQPJyckAAD8/P3z33XcAHlU4ir4wjYiIiHRnqt0leicZ/fv3x++//w4AGD9+POLi4qBSqRAVFYUPP/yw1AMkIiKiF5PeYzKioqKk/x8SEoLz588jMTERvr6+CAwMLNXgiIiIKgJTnV1i0HMyAMDb2xve3t6lEQsREVGFZGiXRznNMXRLMmJjY3U+4IgRI547GCIiooqoQj9WfM6cOTodTKFQMMkgIiIiADomGUWzSUh/qxePh62dvdxhEBlFowk75A6ByGgKc7PL7FxmeI6ZGI/tXx4ZPCaDiIiIDGOq3SXlNfkhIiKiFxwrGURERDJTKACzijq7hIiIiIzHzMAkw5B9jYndJURERGQUz5VkHDhwAH379kVwcDD++usvAMDKlSvx22+/lWpwREREFQG/IO1/NmzYgNDQUFhbW+PkyZPIzc0FAGRkZGD69OmlHiAREZGpK+ouMWQpj/ROMqZNm4aFCxdi8eLFsLS0lNpfffVVnDhxolSDIyIioheX3gM/k5KS0KJFi2LtarUa6enppRETERFRhWKq312idyXDzc0Nly5dKtb+22+/oUaNGqUSFBERUUVS9C2shizlkd5JxuDBgzFy5EgcPXoUCoUCKSkpWL16NcaOHYuhQ4caI0YiIiKTZlYKS3mkd3fJ+PHjodFo0LZtWzx48AAtWrSAUqnE2LFjMXz4cGPESERERC8gvZMMhUKBTz75BB9++CEuXbqErKwsBAQEwM7OzhjxERERmTxTHZPx3E/8tLKyQkBAQGnGQkREVCGZwbBxFWYon1mG3klG69atn/rQj19//dWggIiIiMg06J1kNGzYUOt1fn4+Tp06hT///BPh4eGlFRcREVGFwe6S/5kzZ06J7ZMnT0ZWVpbBAREREVU0cn9B2hdffIHo6GiMHDkSc+fOBQDk5ORgzJgxWLt2LXJzcxEaGooFCxbA1dVV97gMC+v/9e3bF99++21pHY6IiIjKwLFjx7Bo0SIEBgZqtUdFRWHr1q1Yv3499u3bh5SUFPTo0UOvY5daknH48GGoVKrSOhwREVGFoVAY9kCu5+0uycrKQp8+fbB48WJUqlRJas/IyMDSpUsxe/ZstGnTBkFBQUhISMChQ4dw5MgRnY+vd3fJ41mMEAKpqak4fvw4JkyYoO/hiIiIKjy5xmRERkaiU6dOCAkJwbRp06T2xMRE5OfnIyQkRGrz8/NDtWrVcPjwYTRt2lSn4+udZKjVaq3XZmZmqFOnDqZOnYr27dvrezgiIiIqJZmZmVqvlUollEpliduuXbsWJ06cwLFjx4qtS0tLg5WVFRwdHbXaXV1dkZaWpnM8eiUZhYWF6N+/P+rXr69VViEiIqLnV1oDP728vLTaJ02ahMmTJxfb/saNGxg5ciR27txp1KEOeiUZ5ubmaN++Pc6dO8ckg4iIqJQo/vefIfsDj5IHBwcHqf1JVYzExETcvn0bL730ktRWWFiI/fv34+uvv8aOHTuQl5eH9PR0rWrGrVu34ObmpnNceneX1KtXD1euXIGPj4++uxIREVEJSquS4eDgoJVkPEnbtm1x+vRprbb+/fvDz88PH330Eby8vGBpaYndu3cjLCwMAJCUlITr168jODhY57j0TjKmTZuGsWPH4rPPPkNQUBBsbW211utycURERCQfe3t71KtXT6vN1tYWTk5OUvvAgQMxevRoVK5cGQ4ODhg+fDiCg4N1HvQJ6JFkTJ06FWPGjMHrr78OAOjatavW48WFEFAoFCgsLNT55ERERCT/w7hKMmfOHJiZmSEsLEzrYVz60DnJmDJlCoYMGYI9e/boHSgRERE9mUKheOr3gumyv6H27t2r9VqlUiEuLg5xcXHPfUydkwwhBACgZcuWz30yIiIiqjj0GpNRGpkSERERaSuP3SWlQa8ko3bt2s9MNO7evWtQQERERBUNv4UVj8ZlPP7ETyIiIqKS6JVkvPPOO3BxcTFWLERERBVS0RedGbJ/eaRzksHxGERERMZhqmMydP6q96LZJURERES60LmSodFojBkHERFRxWXgwE8DvvbEqPR+rDgRERGVLjMoYGZApmDIvsbEJIOIiEhmpjqFVecxGURERET6YCWDiIhIZqY6u4RJBhERkcxM9TkZ7C4hIiIio2Alg4iISGamOvCTSQYREZHMzGBgd0k5ncLK7hIiIiIyClYyiIiIZMbuEiIiIjIKMxjWtVBeuyXKa1xERET0gmMlg4iISGYKhQIKA/o8DNnXmJhkEBERyUwBw75ItXymGEwyiIiIZMcnfhIRERHpgZUMIiKicqB81iIMwySDiIhIZqb6nAx2lxAREZFRsJJBREQkM05hJSIiIqPgEz+JiIiI9MBKBhERkczYXUJERERGYapP/GR3CRERERkFKxlEREQyY3cJERERGYWpzi5hkkFERCQzU61klNfkh4iIiF5wrGQQERHJzFRnlzDJICIikhm/II2IiIhID6xkEBERycwMCpgZ0OlhyL7GxCSDiIhIZuwuISIiItIDKxlEREQyU/zvP0P2L49YySAiIpJZUXeJIYs+4uPjERgYCAcHBzg4OCA4OBg//fSTtD4nJweRkZFwcnKCnZ0dwsLCcOvWLb2vi0kGERFRBePp6YkvvvgCiYmJOH78ONq0aYNu3brhzJkzAICoqChs3boV69evx759+5CSkoIePXrofR52lxAREclMYeDsEn27S7p06aL1+vPPP0d8fDyOHDkCT09PLF26FGvWrEGbNm0AAAkJCfD398eRI0fQtGlTnc/DSgYREZHMSqu7JDMzU2vJzc195rkLCwuxdu1aZGdnIzg4GImJicjPz0dISIi0jZ+fH6pVq4bDhw/rdV1MMoiIiGRWWkmGl5cX1Gq1tMTExDzxnKdPn4adnR2USiWGDBmCTZs2ISAgAGlpabCysoKjo6PW9q6urkhLS9PruthdQkREZCJu3LgBBwcH6bVSqXzitnXq1MGpU6eQkZGB77//HuHh4di3b1+pxsMkg4iISGalNYW1aLaILqysrODr6wsACAoKwrFjxzBv3jy8/fbbyMvLQ3p6ulY149atW3Bzc9MrLnaXEBERycxMYfhiKI1Gg9zcXAQFBcHS0hK7d++W1iUlJeH69esIDg7W65isZBAREVUw0dHR6NixI6pVq4b79+9jzZo12Lt3L3bs2AG1Wo2BAwdi9OjRqFy5MhwcHDB8+HAEBwfrNbMEYJJBREQku7J+4uft27fRr18/pKamQq1WIzAwEDt27EC7du0AAHPmzIGZmRnCwsKQm5uL0NBQLFiwQO+4mGQQERHJrKy/IG3p0qVPXa9SqRAXF4e4uLjnDwock0FERERGwkoGERGRzBQw7EvOyufXozHJICIikp2hM0RKY3aJMbC7hIiIiIyClQwdRUREID09HZs3b5Y7lArt513H8PPu47h9Jx0A4OXpgp5vtEBQg1oAgLy8AiSs2YHfjpxBQX4BGgb64v2I1+GotpMxaiLdvd+6Joa08dVqS76ThR6xBwEAnpWsEdWhDhp5V4KluRkOXfobM7adw93sPDnCpVJS1rNLyoqslYyIiAgoFAooFArpyWNTp05FQUGBnGFROeZU2QHvvh2Cr6a9hy8/ew/1A6rji9lrcf3mbQDAt6t/xvGTF/Dh8Lcw7dMI3L13HzPmfidz1ET6uXTrPkJm7JGWAUv+CwBQWZpjQURjCADvJRxD/yVHYWmuwLy+Lxk0M4HkV1rfXVLeyN5d0qFDB6SmpuLixYsYM2YMJk+ejC+//FLusKicevmlOghqWAsebk6o6u6Evj3bQqWywoVLN5H9IAe7955E/z6hCKzrg5o+Hhj+Xjecv3gDSZduyh06kc4KNQL/ZOVJS/qDfABAw2qO8HC0xqSNp3HpVhYu3crCxA1/IsDDAa/4VJY5ajKEohSW8kj2JEOpVMLNzQ3e3t4YOnQoQkJCsGXLFsyePRv169eHra0tvLy8MGzYMGRlZUn7Xbt2DV26dEGlSpVga2uLunXrYvv27QCAe/fuoU+fPnB2doa1tTVq1aqFhIQEad8bN26gZ8+ecHR0ROXKldGtWzdcvXpVWl9YWIjRo0fD0dERTk5OGDduHIQQZXZPSDeFGg0OHP4TObn5qFPLC5eTU1FQqEGDujWkbTw9qsDZSY2kizdkjJRIP9WcbPDLhy2xNao5Pn+zPtzUKgCAlYUZhBDIK9BI2+YWFEIjBBp6V5IrXKInkj3JeJy1tTXy8vJgZmaG2NhYnDlzBsuXL8evv/6KcePGSdtFRkYiNzcX+/fvx+nTpzFjxgzY2T3qd58wYQLOnj2Ln376CefOnUN8fDyqVKkCAMjPz0doaCjs7e1x4MABHDx4EHZ2dujQoQPy8h71ac6aNQvLli3Dt99+i99++w13797Fpk2bnhp3bm4uMjMztRYyjms3bqHXwOnoGTENCxO2Yfyot+FV1RnpGVmwsDCHra1Ka3u12hbpGVlPOBpR+fLnzQxM3PgnIlckYvrWs6hayRrfDnoFNlbmOH0jHQ/zCzGyfR2oLM2gsjTH6A51YGFuhir2T/62TSr/zKCAmcKApZzWMsrNwE8hBHbv3o0dO3Zg+PDhGDVqlLSuevXqmDZtGoYMGSI91vT69esICwtD/fr1AQA1avz/v16vX7+ORo0aoXHjxtL+RdatWweNRoMlS5ZA8b9OrISEBDg6OmLv3r1o37495s6di+joaPTo0QMAsHDhQuzYseOp8cfExGDKlCkG3wd6Ng/3Kpj9+RA8eJiDQ/89i9hFmzHt0wi5wyIqFQcv/i39/4u3snD6Zga2j2mB9vXcsPnEXxi39nd83DUAvZpWg0YI/Hw6DWf/ymC19QVnaJdH+UwxykGSsW3bNtjZ2SE/Px8ajQa9e/fG5MmTsWvXLsTExOD8+fPIzMxEQUEBcnJy8ODBA9jY2GDEiBEYOnQofvnlF4SEhCAsLAyBgYEAgKFDhyIsLAwnTpxA+/bt0b17dzRr1gwA8Pvvv+PSpUuwt7fXiiMnJweXL19GRkYGUlNT0aRJE2mdhYUFGjdu/NRf4ujoaIwePVp6nZmZCS8vr9K8VfQ/lhbmcHd71P9c08cDl66kYNvPR/Bq03ooKChEdnaOVjUjIyObs0vohZWVU4Drfz+Al5MNAODI5X/Qdc4BONpYokAjkJVTgJ3jWmHH6TSZIyUqTvbuktatW+PUqVO4ePEiHj58iOXLl+POnTvo3LkzAgMDsWHDBiQmJkrPTy/q0hg0aBCuXLmCd999F6dPn0bjxo0xf/58AEDHjh1x7do1REVFISUlBW3btsXYsWMBAFlZWQgKCsKpU6e0lgsXLqB3797PfR1KpRIODg5aC5UNjRDILyhETR93WJib4Y8zV6R1f6X8jTv/ZKBOLSZ89GKytjKHZ2Ub/H0/V6s9/UE+snIK8LJPZVS2tcK+pNsyRUilwkRHfsqeZNja2sLX1xfVqlWDhcWjwkpiYiI0Gg1mzZqFpk2bonbt2khJSSm2r5eXF4YMGYKNGzdizJgxWLx4sbTO2dkZ4eHhWLVqFebOnYtvvvkGAPDSSy/h4sWLcHFxga+vr9aiVquhVqvh7u6Oo0ePSscqKChAYmKike8E6WLlul04c/4abt9Jx7Ubtx69PncVLZrVh62NCm1bNULC6l9w+mwyLienYP7iH1Cnlifq+HrKHTqRTqJCayOoeiW4O6rQwMsRs3s1fNQt8kcqAKBrIw/U91TDs5I1Xm/gjpnvNMDqw9dw7e8HMkdOhlCUwn/lkezdJSXx9fVFfn4+5s+fjy5duuDgwYNYuHCh1jajRo1Cx44dUbt2bdy7dw979uyBv78/AGDixIkICgpC3bp1kZubi23btknr+vTpgy+//BLdunXD1KlT4enpiWvXrmHjxo0YN24cPD09MXLkSHzxxReoVasW/Pz8MHv2bKSnp5f1baASZGRmY97CTbiXngUbGyWqe7li4ri+aFi/JgBgQJ8OUCh2YOa875BfUIiG9Wvi/YhOMkdNpDtXtQoxbwVCbWOFe9l5OHX9HvotOoJ7/5vGWr2KLYa3qw21tSVS0h9i6b4rWHXomsxRE5WsXCYZDRo0wOzZszFjxgxER0ejRYsWiImJQb9+/aRtCgsLERkZiZs3b8LBwQEdOnTAnDlzAABWVlaIjo7G1atXYW1tjebNm2Pt2rUAABsbG+zfvx8fffQRevTogfv376Nq1apo27at1MUxZswYpKamIjw8HGZmZhgwYADeeOMNZGRklP3NIC0fDO721PVWVhZ4P6ITEwt6YY3/7o+nro/deRGxOy+WUTRUZgx9oFb5LGRAITgk2SgyMzOhVqvx/ZHLsLWzf/YORC+gqFUn5A6ByGgKc7NxcU4YMjIyjDbOruhvxa+nrsPO/vnPkXU/E20aVjNqrM9D9jEZREREZJrKZXcJERFRhWKiD8pgkkFERCQzU/0WViYZREREMjP0m1T5LaxERERUobCSQUREJDMTHZLBJIOIiEh2JpplsLuEiIiIjIKVDCIiIplxdgkREREZBWeXEBEREemBlQwiIiKZmei4TyYZREREsjPRLIPdJURERGQUrGQQERHJjLNLiIiIyChMdXYJkwwiIiKZmeiQDI7JICIiIuNgJYOIiEhuJlrKYJJBREQkM1Md+MnuEiIiIjIKVjKIiIhkxtklREREZBQmOiSD3SVERERkHKxkEBERyc1ESxlMMoiIiGTG2SVEREREemCSQUREJLOi2SWGLPqIiYnByy+/DHt7e7i4uKB79+5ISkrS2iYnJweRkZFwcnKCnZ0dwsLCcOvWLb3OwySDiIhIZopSWPSxb98+REZG4siRI9i5cyfy8/PRvn17ZGdnS9tERUVh69atWL9+Pfbt24eUlBT06NFDr/NwTAYREZHcynjg588//6z1etmyZXBxcUFiYiJatGiBjIwMLF26FGvWrEGbNm0AAAkJCfD398eRI0fQtGlTnc7DSgYREZGJyMzM1Fpyc3N12i8jIwMAULlyZQBAYmIi8vPzERISIm3j5+eHatWq4fDhwzrHwySDiIhIZopS+A8AvLy8oFarpSUmJuaZ59ZoNBg1ahReffVV1KtXDwCQlpYGKysrODo6am3r6uqKtLQ0na+L3SVERERyM/Cx4kXdJTdu3ICDg4PUrFQqn7lrZGQk/vzzT/z2228GBFAyJhlEREQmwsHBQSvJeJYPPvgA27Ztw/79++Hp6Sm1u7m5IS8vD+np6VrVjFu3bsHNzU3n47O7hIiISGZlPbtECIEPPvgAmzZtwq+//gofHx+t9UFBQbC0tMTu3bultqSkJFy/fh3BwcE6n4eVDCIiIrmV8eySyMhIrFmzBj/88APs7e2lcRZqtRrW1tZQq9UYOHAgRo8ejcqVK8PBwQHDhw9HcHCwzjNLACYZREREFU58fDwAoFWrVlrtCQkJiIiIAADMmTMHZmZmCAsLQ25uLkJDQ7FgwQK9zsMkg4iISGZl/d0lQohnbqNSqRAXF4e4uLjnDYtJBhERkdye59Hgj+9fHnHgJxERERkFKxlEREQyK+Nxn2WGSQYREZHcTDTLYJJBREQks7Ie+FlWOCaDiIiIjIKVDCIiIpkpYODsklKLpHQxySAiIpKZiQ7JYHcJERERGQcrGURERDIz1YdxMckgIiKSnWl2mLC7hIiIiIyClQwiIiKZsbuEiIiIjMI0O0vYXUJERERGwkoGERGRzNhdQkREREZhqt9dwiSDiIhIbiY6KINjMoiIiMgoWMkgIiKSmYkWMphkEBERyc1UB36yu4SIiIiMgpUMIiIimXF2CRERERmHiQ7KYHcJERERGQUrGURERDIz0UIGkwwiIiK5cXYJERERkR5YySAiIpKdYbNLymuHCZMMIiIimbG7hIiIiEgPTDKIiIjIKNhdQkREJDNT7S5hkkFERCQzU32sOLtLiIiIyChYySAiIpIZu0uIiIjIKEz1seLsLiEiIiKjYCWDiIhIbiZaymCSQUREJDPOLiEiIiLSAysZREREMuPsEiIiIjIKEx2Swe4SIiIi2SlKYdHD/v370aVLF3h4eEChUGDz5s1a64UQmDhxItzd3WFtbY2QkBBcvHhR78tikkFERFTBZGdno0GDBoiLiytx/cyZMxEbG4uFCxfi6NGjsLW1RWhoKHJycvQ6D7tLiIiIZFbWs0s6duyIjh07lrhOCIG5c+fi008/Rbdu3QAAK1asgKurKzZv3ox33nlH5/OwkkFERCSzooGfhiylJTk5GWlpaQgJCZHa1Go1mjRpgsOHD+t1LFYyjEQIAQB4kH1f5kiIjKcwN1vuEIiMpjD3AYD//zw3pszMzFLZ//HjKJVKKJVKvY6VlpYGAHB1ddVqd3V1ldbpikmGkdy//yi56Ne2obyBEBGRQe7fvw+1Wm2UY1tZWcHNzQ21fLwMPpadnR28vLSPM2nSJEyePNngYz8vJhlG4uHhgRs3bsDe3h6K8jqB2cRkZmbCy8sLN27cgIODg9zhEJUqvr/LnhAC9+/fh4eHh9HOoVKpkJycjLy8PIOPJYQo9vdG3yoGALi5uQEAbt26BXd3d6n91q1baNiwoV7HYpJhJGZmZvD09JQ7jArJwcGBH8Jksvj+LlvGqmD8m0qlgkqlMvp5dOXj4wM3Nzfs3r1bSioyMzNx9OhRDB06VK9jMckgIiKqYLKysnDp0iXpdXJyMk6dOoXKlSujWrVqGDVqFKZNm4ZatWrBx8cHEyZMgIeHB7p3767XeZhkEBERVTDHjx9H69atpdejR48GAISHh2PZsmUYN24csrOz8d577yE9PR2vvfYafv75Z70rLgpRFsNmicpAbm4uYmJiEB0d/Vz9kETlGd/f9CJikkFERERGwYdxERERkVEwySAiIiKjYJJBRERERsEkg15Yy5Ytg6Ojo/R68uTJej8o5nFXr16FQqHAqVOnDDoO0YsiIiJC72mJRLpikkGyi4iIgEKhKLb8ew53Sd5++21cuHChjKIk0t2/39NWVlbw9fXF1KlTUVBQIHdoRGWKz8mgcqFDhw5ISEjQanN2dn7qPtbW1rC2tjZmWETPreg9nZubi+3btyMyMhKWlpaIjo6WOzSiMsNKBpULSqUSbm5uWsu8efNQv3592NrawsvLC8OGDUNWVpa0z+PdJSVZsmQJ/P39oVKp4OfnhwULFmit/+9//4tGjRpBpVKhcePGOHnypDEujyqgove0t7c3hg4dipCQEGzZsgWzZ89+6vv62rVr6NKlCypVqgRbW1vUrVsX27dvBwDcu3cPffr0gbOzM6ytrVGrVi2t5PzGjRvo2bMnHB0dUblyZXTr1g1Xr16V1hcWFmL06NFwdHSEk5MTxo0bVybfMEoVF5MMKrfMzMwQGxuLM2fOYPny5fj1118xbtw4nfdfvXo1Jk6ciM8//xznzp3D9OnTMWHCBCxfvhzAo8fqdu7cGQEBAUhMTMTkyZMxduxYY10OVXDW1tbIy8t75vs6MjISubm52L9/P06fPo0ZM2bAzs4OADBhwgScPXsWP/30E86dO4f4+HhUqVIFAJCfn4/Q0FDY29vjwIEDOHjwIOzs7NChQwfpy7dmzZqFZcuW4dtvv8Vvv/2Gu3fvYtOmTWV/M6jiEEQyCw8PF+bm5sLW1lZa3nzzzWLbrV+/Xjg5OUmvExIShFqtll5PmjRJNGjQQHpds2ZNsWbNGq1jfPbZZyI4OFgIIcSiRYuEk5OTePjwobQ+Pj5eABAnT54snYujCik8PFx069ZNCCGERqMRO3fuFEqlUowdO7bYto+/r+vXry8mT55c4nG7dOki+vfvX+K6lStXijp16giNRiO15ebmCmtra7Fjxw4hhBDu7u5i5syZ0vr8/Hzh6ekpxUpU2jgmg8qF1q1bIz4+Xnpta2uLXbt2ISYmBufPn0dmZiYKCgqQk5ODBw8ewMbG5qnHy87OxuXLlzFw4EAMHjxYai8oKJC+VfHcuXMIDAzUehZ/cHBwKV8ZVVTbtm2DnZ0d8vPzodFo0Lt3b0yePPmZ7+sRI0Zg6NCh+OWXXxASEoKwsDAEBgYCAIYOHYqwsDCcOHEC7du3R/fu3dGsWTMAwO+//45Lly7B3t5eK46cnBxcvnwZGRkZSE1NRZMmTaR1FhYWaNy4MbtMyGjYXULlgq2tLXx9faUlNzcXnTt3RmBgIDZs2IDExETExcUBgFT6fZqiPu7Fixfj1KlT0vLnn3/iyJEjRr0WIuBR4nzq1ClcvHgRDx8+xPLly3Hnzp1nvq8HDRqEK1eu4N1338Xp06fRuHFjzJ8/HwDQsWNHXLt2DVFRUUhJSUHbtm2lLr6srCwEBQVpvd9PnTqFCxcuoHfv3vLcBKrwmGRQuZSYmAiNRoNZs2ahadOmqF27NlJSUnTe39XVFR4eHrhy5YpW8uLr6wsfHx8AgL+/P/744w/k5ORI+zEBodJSlDhXq1YNFhaPisa6vq+9vLwwZMgQbNy4EWPGjMHixYuldc7OzggPD8eqVaswd+5cfPPNNwCAl156CRcvXoSLi0ux97xarYZarYa7uzuOHj0qHaugoACJiYlGvhNUkTHJoHLJ19cX+fn5mD9/Pq5cuYKVK1di4cKFeh1jypQpiImJQWxsLC5cuIDTp08jISEBs2fPBgD07t0bCoUCgwcPxtmzZ7F9+3Z89dVXxrgcIgC6va9HjRqFHTt2IDk5GSdOnMCePXvg7+8PAJg4cSJ++OEHXLp0CWfOnMG2bdukdX369EGVKlXQrVs3HDhwAMnJydi7dy9GjBiBmzdvAgBGjhyJL774Aps3b8b58+cxbNgwpKenl+k9oIqFSQaVSw0aNMDs2bMxY8YM1KtXD6tXr0ZMTIxexxg0aBCWLFmChIQE1K9fHy1btsSyZcukSoadnR22bt2K06dPo1GjRvjkk08wY8YMY1wOEQDd3teFhYWIjIyEv78/OnTogNq1a0tTr62srBAdHY3AwEC0aNEC5ubmWLt2LQDAxsYG+/fvR7Vq1dCjRw/4+/tj4MCByMnJgYODAwBgzJgxePfddxEeHo7g4GDY29vjjTfeKNubQBUKv+qdiIiIjIKVDCIiIjIKJhlERERkFEwyiIiIyCiYZBAREZFRMMkgIiIio2CSQUREREbBJIOIiIiMgkkGkQmLiIhA9+7dpdetWrXCqFGjyjyOvXv3QqFQPPXpkgqFAps3b9b5mJMnT0bDhg0Niuvq1atQKBQ4deqUQcchopIxySAqYxEREVAoFFAoFLCysoKvry+mTp2KgoICo59748aN+Oyzz3TaVpfEgIjoafhV70Qy6NChAxISEpCbm4vt27cjMjISlpaWiI6OLrZtXl4erKysSuW8lStXLpXjEBHpgpUMIhkolUq4ubnB29sbQ4cORUhICLZs2QLg/7s4Pv/8c3h4eKBOnToAgBs3bqBnz55wdHRE5cqV0a1bN1y9elU6ZmFhIUaPHg1HR0c4OTlh3LhxePxbAx7vLsnNzcVHH30ELy8vKJVK+Pr6YunSpbh69Spat24NAKhUqRIUCgUiIiIAABqNBjExMfDx8YG1tTUaNGiA77//Xus827dvR+3atWFtbY3WrVtrxamrjz76CLVr14aNjQ1q1KiBCRMmID8/v9h2ixYtgpeXF2xsbNCzZ09kZGRorV+yZAn8/f2hUqng5+cnfQ8IERkfkwyicsDa2hp5eXnS6927dyMpKQk7d+7Etm3bkJ+fj9DQUNjb2+PAgQM4ePAg7Ozs0KFDB2m/WbNmYdmyZfj222/x22+/4e7du9i0adNTz9uvXz/85z//QWxsLM6dO4dFixbBzs4OXl5e2LBhAwAgKSkJqampmDdvHgAgJiYGK1aswMKFC3HmzBlERUWhb9++2LdvH4BHyVCPHj3QpUsXnDp1CoMGDcL48eP1vif29vZYtmwZzp49i3nz5mHx4sWYM2eO1jaXLl3Cd999h61bt+Lnn3/GyZMnMWzYMGn96tWrMXHiRHz++ec4d+4cpk+fjgkTJmD58uV6x0NEz0EQUZkKDw8X3bp1E0IIodFoxM6dO4VSqRRjx46V1ru6uorc3Fxpn5UrV4o6deoIjUYjteXm5gpra2uxY8cOIYQQ7u7uYubMmdL6/Px84enpKZ1LCCFatmwpRo4cKYQQIikpSQAQO3fuLDHOPXv2CADi3r17UltOTo6wsbERhw4d0tp24MCBolevXkIIIaKjo0VAQIDW+o8++qjYsR4HQGzatOmJ67/88ksRFBQkvZ40aZIwNzcXN2/elNp++uknYWZmJlJTU4UQQtSsWVOsWbNG6zifffaZCA4OFkIIkZycLACIkydPPvG8RPT8OCaDSAbbtm2DnZ0d8vPzodFo0Lt3b0yePFlaX79+fa1xGL///jsuXboEe3t7rePk5OTg8uXLyMjIQGpqKpo0aSKts7CwQOPGjYt1mRQ5deoUzM3N0bJlS53jvnTpEh48eIB27dpptefl5aFRo0YAgHPnzmnFAQDBwcE6n6PIunXrEBsbi8uXLyMrKwsFBQXSV5YXqVatGqpWrap1Ho1Gg6SkJNjb2+Py5csYOHAgBg8eLG1TUFAAtVqtdzxEpD8mGUQyaN26NeLj42FlZQUPDw9YWGj/Ktra2mq9zsrKQlBQEFavXl3sWM7Ozs8Vg7W1td77ZGVlAQB+/PFHrT/uwKNxJqXl8OHD6NOnD6ZMmYLQ0FCo1WqsXbsWs2bN0jvWxYsXF0t6zM3NSy1WInoyJhlEMrC1tYWvr6/O27/00ktYt24dXFxciv1rvoi7uzuOHj2KFi1aAHj0L/bExES89NJLJW5fv359aDQa7Nu3DyEhIcXWF1VSCgsLpbaAgAAolUpcv379iRUQf39/aRBrkSNHjjz7Iv/l0KFD8Pb2xieffCK1Xbt2rdh2169fR0pKCjw8PKTzmJmZoU6dOnB1dYWHhweuXLmCPn366HV+IiodHPhJ9ALo06cPqlSpgm7duuHAgQNITk7G3r17MWLECNy8eRMAMHLkSHzxxRfYvHkzzp8/j2HDhj31GRfVq1dHeHg4BgwYgM2bN0vH/O677wAA3t7eUCgU2LZtG+7cuYOsrCzY29tj7NixiIqKwvLly3H58mWcOHEC8+fPlwZTDhkyBBcvXsSHH36IpKQkrFmzBsuWLdPremvVqoXr169j7dq1uHz5MmJjY0scxKpSqRAeHo7ff/8dBw4cwIgRI9CzZ0+4ubkBAKZMmYKYmBjExsbiwoULOH36NBISEjB79my94iGi58Mkg+gFYGNjg/3796NatWro0aMH/P39MXDgQOTk5EiVjTFjxuDdd99FeHg4goODYW9vjzfeeOOpx42Pj8ebb76JYcOGwc/PD4MHD0Z2djYAoGrVqpgyZQrGjx8PV1dXfPDBBwCAzz77DBMmTEBMTAz8/f3RoUMH/Pjjj/Dx8QHwaJzEhg0bsHnzZjRo0AALFy7E9OnT9brerl27IioqCh988AEaNmyIQ4cOYcKECcW28/X1RY8ePfD666+jffv2CAwM1JqiOmjQICxZsgQJCQmoX78+WrZsiWXLlkmxEpFxKcSTRoURERERGYCVDCIiIjIKJhlERERkFEwyiIiIyCiYZBAREZFRMMkgIiIio2CSQUREREbBJIOIiIiMgkkGERERGQWTDCIiIjIKJhlERERkFEwyiIiIyCiYZBAREZFR/B/9F2GbU7x3vAAAAABJRU5ErkJggg==",
      "text/plain": [
       "<Figure size 640x480 with 2 Axes>"
      ]
     },
     "metadata": {},
     "output_type": "display_data"
    },
    {
     "name": "stdout",
     "output_type": "stream",
     "text": [
      "Validation Loss: 0.5064, Validation Accuracy: 0.7740, Validation F1: 0.7468, Validation ROC-AUC: 0.8531\n",
      "\n",
      "Test Metrics:\n",
      "Accuracy: 0.6966\n",
      "F1 Score: 0.6447\n",
      "ROC-AUC: 0.7160\n",
      "Confusion Matrix:\n",
      "[[75 13]\n",
      " [41 49]]\n"
     ]
    },
    {
     "data": {
      "image/png": "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",
      "text/plain": [
       "<Figure size 640x480 with 2 Axes>"
      ]
     },
     "metadata": {},
     "output_type": "display_data"
    },
    {
     "name": "stdout",
     "output_type": "stream",
     "text": [
      "Test Loss: 0.6190, Test Accuracy: 0.6966, Test F1: 0.6447, Test ROC-AUC: 0.7160\n"
     ]
    }
   ],
   "source": [
    "# Ensure output directory exists\n",
    "os.makedirs('./output/figures', exist_ok=True)\n",
    "\n",
    "# Initialize results DataFrame\n",
    "results_df = pd.DataFrame(columns=[\n",
    "    \"model\", \"split\", \"accuracy\", \"f1_score\", \"roc_auc\", \n",
    "    \"true_negatives\", \"true_positives\", \"false_positives\", \"false_negatives\", \"precision\", \"recall\", \n",
    "    \"true_negative_rate\", \"false_negative_rate\", \"false_positive_rate\"])\n",
    "\n",
    "# Evaluation Loop\n",
    "def evaluate(model, dataloader, dataset_name):\n",
    "    global results_df\n",
    "    model.eval()\n",
    "    total_loss, total_correct = 0, 0\n",
    "    all_preds, all_labels, all_probs = [], [], []\n",
    "\n",
    "    with torch.no_grad():\n",
    "        for batch in dataloader:\n",
    "            input_ids = batch[\"input_ids\"].to(\"cuda\")\n",
    "            attention_mask = batch[\"attention_mask\"].to(\"cuda\")\n",
    "            labels = batch[\"label\"].to(\"cuda\")\n",
    "\n",
    "            with autocast(\"cuda\"):\n",
    "                outputs = model(input_ids, attention_mask=attention_mask)\n",
    "                loss = criterion(outputs.logits, labels)\n",
    "\n",
    "            total_loss += loss.item()\n",
    "            total_correct += (outputs.logits.argmax(1) == labels).sum().item()\n",
    "            all_preds.extend(outputs.logits.argmax(1).cpu().numpy())\n",
    "            all_labels.extend(labels.cpu().numpy())\n",
    "            all_probs.extend(torch.softmax(outputs.logits, dim=1)[:, 1].cpu().numpy())\n",
    "\n",
    "    accuracy = total_correct / len(dataloader.dataset)\n",
    "    f1 = f1_score(all_labels, all_preds)\n",
    "    roc_auc = roc_auc_score(all_labels, all_probs)\n",
    "    conf_matrix = confusion_matrix(all_labels, all_preds)\n",
    "\n",
    "    print(f\"\\n{dataset_name.capitalize()} Metrics:\")\n",
    "    print(f\"Accuracy: {accuracy:.4f}\")\n",
    "    print(f\"F1 Score: {f1:.4f}\")\n",
    "    print(f\"ROC-AUC: {roc_auc:.4f}\")\n",
    "    print(f\"Confusion Matrix:\\n{conf_matrix}\")\n",
    "\n",
    "    # Save metrics\n",
    "    tn, fp, fn, tp = conf_matrix.ravel()\n",
    "    results_df.loc[len(results_df)] = {\n",
    "        \"model\": model_name, \n",
    "        \"split\": dataset_name, \n",
    "        \"accuracy\": accuracy,\n",
    "        \"f1_score\": f1, \n",
    "        \"roc_auc\": roc_auc,\n",
    "        \"true_negatives\": tn, \n",
    "        \"true_positives\": tp,\n",
    "        \"false_positives\": fp,\n",
    "        \"false_negatives\": fn, \n",
    "        \"precision\": tp / (tp + fp), \n",
    "        \"recall\": tp / (tp + fn), \n",
    "        \"true_negative_rate\": tn / (tn + fp), \n",
    "        \"false_negative_rate\": fn / (fn + tp), \n",
    "        \"false_positive_rate\": fp / (fp + tn)\n",
    "    }\n",
    "\n",
    "    # Save confusion matrix\n",
    "    disp = ConfusionMatrixDisplay(confusion_matrix=conf_matrix, display_labels=[\"Failed\", \"Passed\"])\n",
    "    disp.plot(cmap=plt.cm.Blues)\n",
    "    disp.ax_.set_title(f\"{model_name}, Data Split: {dataset_name.capitalize()}\")\n",
    "    plt.savefig(f'./output/figures/{model_name}_{dataset_name}_confusion_matrix.jpeg')\n",
    "    plt.show()\n",
    "\n",
    "    return total_loss / len(dataloader), accuracy, f1, roc_auc\n",
    "\n",
    "# Evaluate on Training Data\n",
    "train_loss, train_accuracy, train_f1, train_roc_auc = evaluate(model, train_loader, \"training\")\n",
    "print(f\"Training Loss: {train_loss:.4f}, Training Accuracy: {train_accuracy:.4f}, Training F1: {train_f1:.4f}, Training ROC-AUC: {train_roc_auc:.4f}\")\n",
    "\n",
    "# Evaluate on Validation Data\n",
    "val_loss, val_accuracy, val_f1, val_roc_auc = evaluate(model, val_loader, \"validation\")\n",
    "print(f\"Validation Loss: {val_loss:.4f}, Validation Accuracy: {val_accuracy:.4f}, Validation F1: {val_f1:.4f}, Validation ROC-AUC: {val_roc_auc:.4f}\")\n",
    "\n",
    "# Evaluate on Test Data\n",
    "test_loss, test_accuracy, test_f1, test_roc_auc = evaluate(model, test_loader, \"test\")\n",
    "print(f\"Test Loss: {test_loss:.4f}, Test Accuracy: {test_accuracy:.4f}, Test F1: {test_f1:.4f}, Test ROC-AUC: {test_roc_auc:.4f}\")\n",
    "\n",
    "# Save Results to CSV\n",
    "results_df.to_csv(\"./output/longformer_prompt_evaluation.csv\", index=False)\n"
   ]
  },
  {
   "cell_type": "markdown",
   "metadata": {},
   "source": [
    "## -------------------------------------"
   ]
  },
  {
   "cell_type": "markdown",
   "metadata": {},
   "source": [
    "# Longformer\n",
    "## Without text prompt"
   ]
  },
  {
   "cell_type": "markdown",
   "metadata": {},
   "source": [
    "### Imports and Initialization"
   ]
  },
  {
   "cell_type": "code",
   "execution_count": null,
   "metadata": {},
   "outputs": [
    {
     "data": {
      "application/vnd.jupyter.widget-view+json": {
       "model_id": "6f04a6ba0e454427b5fb17ee9701721b",
       "version_major": 2,
       "version_minor": 0
      },
      "text/plain": [
       "vocab.json:   0%|          | 0.00/899k [00:00<?, ?B/s]"
      ]
     },
     "metadata": {},
     "output_type": "display_data"
    },
    {
     "data": {
      "application/vnd.jupyter.widget-view+json": {
       "model_id": "1a0c794d438c4c94b618dbe77b2894ff",
       "version_major": 2,
       "version_minor": 0
      },
      "text/plain": [
       "merges.txt:   0%|          | 0.00/456k [00:00<?, ?B/s]"
      ]
     },
     "metadata": {},
     "output_type": "display_data"
    },
    {
     "data": {
      "application/vnd.jupyter.widget-view+json": {
       "model_id": "444a06e4a20e45f38b449b11e909cbda",
       "version_major": 2,
       "version_minor": 0
      },
      "text/plain": [
       "tokenizer.json:   0%|          | 0.00/1.36M [00:00<?, ?B/s]"
      ]
     },
     "metadata": {},
     "output_type": "display_data"
    },
    {
     "data": {
      "application/vnd.jupyter.widget-view+json": {
       "model_id": "d5f99747621042868e3607b4e3af8da8",
       "version_major": 2,
       "version_minor": 0
      },
      "text/plain": [
       "config.json:   0%|          | 0.00/694 [00:00<?, ?B/s]"
      ]
     },
     "metadata": {},
     "output_type": "display_data"
    },
    {
     "data": {
      "application/vnd.jupyter.widget-view+json": {
       "model_id": "bc4f844ea31d47caa4ee934f467dbd64",
       "version_major": 2,
       "version_minor": 0
      },
      "text/plain": [
       "pytorch_model.bin:   0%|          | 0.00/597M [00:00<?, ?B/s]"
      ]
     },
     "metadata": {},
     "output_type": "display_data"
    },
    {
     "name": "stderr",
     "output_type": "stream",
     "text": [
      "Some weights of LongformerForSequenceClassification were not initialized from the model checkpoint at allenai/longformer-base-4096 and are newly initialized: ['classifier.dense.bias', 'classifier.dense.weight', 'classifier.out_proj.bias', 'classifier.out_proj.weight']\n",
      "You should probably TRAIN this model on a down-stream task to be able to use it for predictions and inference.\n"
     ]
    }
   ],
   "source": [
    "import os\n",
    "import torch\n",
    "from torch.utils.data import DataLoader, Dataset\n",
    "from torch.amp import GradScaler, autocast\n",
    "from transformers import LongformerTokenizer, LongformerForSequenceClassification\n",
    "from sklearn.metrics import accuracy_score, f1_score, roc_auc_score, confusion_matrix, ConfusionMatrixDisplay\n",
    "import matplotlib.pyplot as plt\n",
    "import seaborn as sns\n",
    "import pandas as pd\n",
    "import numpy as np\n",
    "\n",
    "# Environment variable for memory allocation\n",
    "os.environ[\"PYTORCH_CUDA_ALLOC_CONF\"] = \"expandable_segments:True\"\n",
    "\n",
    "# Tokenizer and Model Initialization\n",
    "tokenizer = LongformerTokenizer.from_pretrained(\"allenai/longformer-base-4096\")\n",
    "model = LongformerForSequenceClassification.from_pretrained(\"allenai/longformer-base-4096\", num_labels=2)\n",
    "model.gradient_checkpointing_enable()\n",
    "model.config.attention_window = [256] * len(model.config.attention_window)\n",
    "model = torch.nn.DataParallel(model).to(\"cuda\")\n",
    "model_name = 'longformer_noprompt'\n"
   ]
  },
  {
   "cell_type": "markdown",
   "metadata": {},
   "source": [
    "### Dataset and DataLoader setup"
   ]
  },
  {
   "cell_type": "code",
   "execution_count": 2,
   "metadata": {},
   "outputs": [],
   "source": [
    "# Dataset with optional text prompt\n",
    "class ScriptDataset(Dataset):\n",
    "    def __init__(self, scripts, labels, tokenizer, max_length=3072, use_prompt=False):\n",
    "        self.scripts = scripts\n",
    "        self.labels = labels\n",
    "        self.tokenizer = tokenizer\n",
    "        self.max_length = max_length\n",
    "        self.use_prompt = use_prompt\n",
    "        self.prompt = (\n",
    "            \"Does the following manuscript pass the Bechdel test or not? \"\n",
    "            \"A movie passes the Bechdel test if it fulfills three requirements: \"\n",
    "            \"1) There are at least two named female characters, 2) They have a conversation, \"\n",
    "            \"3) About something other than a man. Manuscript: \"\n",
    "        )\n",
    "\n",
    "    def __len__(self):\n",
    "        return len(self.scripts)\n",
    "\n",
    "    def __getitem__(self, idx):\n",
    "        text = self.prompt + self.scripts[idx] if self.use_prompt else self.scripts[idx]\n",
    "        label = self.labels[idx]\n",
    "        inputs = self.tokenizer(\n",
    "            text,\n",
    "            max_length=self.max_length,\n",
    "            padding=\"max_length\",\n",
    "            truncation=True,\n",
    "            return_tensors=\"pt\"\n",
    "        )\n",
    "        return {\n",
    "            \"input_ids\": inputs[\"input_ids\"].squeeze(0),\n",
    "            \"attention_mask\": inputs[\"attention_mask\"].squeeze(0),\n",
    "            \"label\": torch.tensor(label, dtype=torch.long)\n",
    "        }\n",
    "\n",
    "# DataLoader Preparation\n",
    "def prepare_dataloader(data, tokenizer, max_length, batch_size, use_prompt=False):\n",
    "    dataset = ScriptDataset(\n",
    "        scripts=data[\"script\"].tolist(),\n",
    "        labels=data[\"passed_bechdel\"].tolist(),\n",
    "        tokenizer=tokenizer,\n",
    "        max_length=max_length,\n",
    "        use_prompt=use_prompt\n",
    "    )\n",
    "    return DataLoader(dataset, batch_size=batch_size, shuffle=True)\n",
    "\n",
    "# Load datasets\n",
    "train_data = pd.read_csv(\"../2_preprocessing/train_case_sensitive.csv\")\n",
    "val_data = pd.read_csv(\"../2_preprocessing/validation_case_sensitive.csv\")\n",
    "test_data = pd.read_csv(\"../2_preprocessing/test_case_sensitive.csv\")\n",
    "\n",
    "# Create DataLoaders\n",
    "train_loader = prepare_dataloader(train_data, tokenizer, max_length=3072, batch_size=1, use_prompt=False)\n",
    "val_loader = prepare_dataloader(val_data, tokenizer, max_length=3072, batch_size=1, use_prompt=False)\n",
    "test_loader = prepare_dataloader(test_data, tokenizer, max_length=3072, batch_size=1, use_prompt=False)"
   ]
  },
  {
   "cell_type": "markdown",
   "metadata": {},
   "source": [
    "### Training Loop"
   ]
  },
  {
   "cell_type": "code",
   "execution_count": 3,
   "metadata": {},
   "outputs": [
    {
     "name": "stdout",
     "output_type": "stream",
     "text": [
      "Epoch 1/3\n"
     ]
    },
    {
     "name": "stderr",
     "output_type": "stream",
     "text": [
      "Initializing global attention on CLS token...\n"
     ]
    },
    {
     "name": "stdout",
     "output_type": "stream",
     "text": [
      "Train Loss: 0.6563, Train Accuracy: 0.5973\n",
      "Epoch 2/3\n",
      "Train Loss: 0.5723, Train Accuracy: 0.7059\n",
      "Epoch 3/3\n",
      "Train Loss: 0.5204, Train Accuracy: 0.7348\n"
     ]
    }
   ],
   "source": [
    "# Optimizer, Loss, and Scaler\n",
    "optimizer = torch.optim.AdamW(model.parameters(), lr=1e-5, weight_decay=0.001)\n",
    "criterion = torch.nn.CrossEntropyLoss()\n",
    "scaler = GradScaler()\n",
    "gradient_accumulation_steps = 4\n",
    "\n",
    "# Training Loop\n",
    "def train(model, dataloader):\n",
    "    model.train()\n",
    "    total_loss, total_correct = 0, 0\n",
    "    optimizer.zero_grad()\n",
    "\n",
    "    for step, batch in enumerate(dataloader):\n",
    "        input_ids = batch[\"input_ids\"].to(\"cuda\")\n",
    "        attention_mask = batch[\"attention_mask\"].to(\"cuda\")\n",
    "        labels = batch[\"label\"].to(\"cuda\")\n",
    "\n",
    "        with autocast(\"cuda\"):\n",
    "            outputs = model(input_ids, attention_mask=attention_mask)\n",
    "            loss = criterion(outputs.logits, labels)\n",
    "            loss = loss / gradient_accumulation_steps\n",
    "\n",
    "        scaler.scale(loss).backward()\n",
    "\n",
    "        if (step + 1) % gradient_accumulation_steps == 0:\n",
    "            scaler.step(optimizer)\n",
    "            scaler.update()\n",
    "            optimizer.zero_grad()\n",
    "\n",
    "        total_loss += loss.item() * gradient_accumulation_steps\n",
    "        total_correct += (outputs.logits.argmax(1) == labels).sum().item()\n",
    "\n",
    "        if step % 50 == 0:\n",
    "            torch.cuda.empty_cache()\n",
    "\n",
    "    return total_loss / len(dataloader), total_correct / len(dataloader.dataset)\n",
    "\n",
    "# Training\n",
    "epochs = 3\n",
    "for epoch in range(epochs):\n",
    "    print(f\"Epoch {epoch + 1}/{epochs}\")\n",
    "    train_loss, train_accuracy = train(model, train_loader)\n",
    "    print(f\"Train Loss: {train_loss:.4f}, Train Accuracy: {train_accuracy:.4f}\")\n"
   ]
  },
  {
   "cell_type": "markdown",
   "metadata": {},
   "source": [
    "### Evaluation Loop"
   ]
  },
  {
   "cell_type": "code",
   "execution_count": null,
   "metadata": {},
   "outputs": [
    {
     "name": "stdout",
     "output_type": "stream",
     "text": [
      "\n",
      "Validation Metrics:\n",
      "Accuracy: 0.7740\n",
      "F1 Score: 0.7468\n",
      "ROC-AUC: 0.8531\n",
      "Confusion Matrix:\n",
      "[[78 10]\n",
      " [30 59]]\n"
     ]
    },
    {
     "data": {
      "image/png": "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",
      "text/plain": [
       "<Figure size 640x480 with 2 Axes>"
      ]
     },
     "metadata": {},
     "output_type": "display_data"
    },
    {
     "name": "stdout",
     "output_type": "stream",
     "text": [
      "Validation Loss: 0.5064, Validation Accuracy: 0.7740, Validation F1: 0.7468, Validation ROC-AUC: 0.8531\n",
      "\n",
      "Test Metrics:\n",
      "Accuracy: 0.6966\n",
      "F1 Score: 0.6447\n",
      "ROC-AUC: 0.7160\n",
      "Confusion Matrix:\n",
      "[[75 13]\n",
      " [41 49]]\n"
     ]
    },
    {
     "data": {
      "image/png": "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",
      "text/plain": [
       "<Figure size 640x480 with 2 Axes>"
      ]
     },
     "metadata": {},
     "output_type": "display_data"
    },
    {
     "name": "stdout",
     "output_type": "stream",
     "text": [
      "Test Loss: 0.6190, Test Accuracy: 0.6966, Test F1: 0.6447, Test ROC-AUC: 0.7160\n"
     ]
    }
   ],
   "source": [
    "# Ensure output directory exists\n",
    "os.makedirs('./output/figures', exist_ok=True)\n",
    "\n",
    "# Initialize results DataFrame\n",
    "results2_df = pd.DataFrame(columns=[\n",
    "    \"model\", \"split\", \"accuracy\", \"f1_score\", \"roc_auc\", \n",
    "    \"true_negatives\", \"true_positives\", \"false_positives\", \"false_negatives\", \"precision\", \"recall\", \n",
    "    \"true_negative_rate\", \"false_negative_rate\", \"false_positive_rate\"])\n",
    "\n",
    "# Evaluation Loop\n",
    "def evaluate(model, dataloader, dataset_name):\n",
    "    global results2_df\n",
    "    model.eval()\n",
    "    total_loss, total_correct = 0, 0\n",
    "    all_preds, all_labels, all_probs = [], [], []\n",
    "\n",
    "    with torch.no_grad():\n",
    "        for batch in dataloader:\n",
    "            input_ids = batch[\"input_ids\"].to(\"cuda\")\n",
    "            attention_mask = batch[\"attention_mask\"].to(\"cuda\")\n",
    "            labels = batch[\"label\"].to(\"cuda\")\n",
    "\n",
    "            with autocast(\"cuda\"):\n",
    "                outputs = model(input_ids, attention_mask=attention_mask)\n",
    "                loss = criterion(outputs.logits, labels)\n",
    "\n",
    "            total_loss += loss.item()\n",
    "            total_correct += (outputs.logits.argmax(1) == labels).sum().item()\n",
    "            all_preds.extend(outputs.logits.argmax(1).cpu().numpy())\n",
    "            all_labels.extend(labels.cpu().numpy())\n",
    "            all_probs.extend(torch.softmax(outputs.logits, dim=1)[:, 1].cpu().numpy())\n",
    "\n",
    "    accuracy = total_correct / len(dataloader.dataset)\n",
    "    f1 = f1_score(all_labels, all_preds)\n",
    "    roc_auc = roc_auc_score(all_labels, all_probs)\n",
    "    conf_matrix = confusion_matrix(all_labels, all_preds)\n",
    "\n",
    "    print(f\"\\n{dataset_name.capitalize()} Metrics:\")\n",
    "    print(f\"Accuracy: {accuracy:.4f}\")\n",
    "    print(f\"F1 Score: {f1:.4f}\")\n",
    "    print(f\"ROC-AUC: {roc_auc:.4f}\")\n",
    "    print(f\"Confusion Matrix:\\n{conf_matrix}\")\n",
    "\n",
    "    # Save metrics\n",
    "    tn, fp, fn, tp = conf_matrix.ravel()\n",
    "    results2_df.loc[len(results2_df)] = {\n",
    "        \"model\": model_name, \n",
    "        \"split\": dataset_name, \n",
    "        \"accuracy\": accuracy,\n",
    "        \"f1_score\": f1, \n",
    "        \"roc_auc\": roc_auc,\n",
    "        \"true_negatives\": tn, \n",
    "        \"true_positives\": tp,\n",
    "        \"false_positives\": fp,\n",
    "        \"false_negatives\": fn, \n",
    "        \"precision\": tp / (tp + fp), \n",
    "        \"recall\": tp / (tp + fn), \n",
    "        \"true_negative_rate\": tn / (tn + fp), \n",
    "        \"false_negative_rate\": fn / (fn + tp), \n",
    "        \"false_positive_rate\": fp / (fp + tn)\n",
    "    }\n",
    "\n",
    "    # Save confusion matrix\n",
    "    disp = ConfusionMatrixDisplay(confusion_matrix=conf_matrix, display_labels=[\"Failed\", \"Passed\"])\n",
    "    disp.plot(cmap=plt.cm.Blues)\n",
    "    disp.ax_.set_title(f\"{model_name}, Data Split: {dataset_name.capitalize()}\")\n",
    "    plt.savefig(f'./output/figures/{model_name}_{dataset_name}_confusion_matrix.jpeg')\n",
    "    plt.show()\n",
    "\n",
    "    return total_loss / len(dataloader), accuracy, f1, roc_auc\n",
    "\n",
    "# Evaluate on Training Data\n",
    "train_loss, train_accuracy, train_f1, train_roc_auc = evaluate(model, train_loader, \"training\")\n",
    "print(f\"Training Loss: {train_loss:.4f}, Training Accuracy: {train_accuracy:.4f}, Training F1: {train_f1:.4f}, Training ROC-AUC: {train_roc_auc:.4f}\")\n",
    "\n",
    "# Evaluate on Validation Data\n",
    "val_loss, val_accuracy, val_f1, val_roc_auc = evaluate(model, val_loader, \"validation\")\n",
    "print(f\"Validation Loss: {val_loss:.4f}, Validation Accuracy: {val_accuracy:.4f}, Validation F1: {val_f1:.4f}, Validation ROC-AUC: {val_roc_auc:.4f}\")\n",
    "\n",
    "# Evaluate on Test Data\n",
    "test_loss, test_accuracy, test_f1, test_roc_auc = evaluate(model, test_loader, \"test\")\n",
    "print(f\"Test Loss: {test_loss:.4f}, Test Accuracy: {test_accuracy:.4f}, Test F1: {test_f1:.4f}, Test ROC-AUC: {test_roc_auc:.4f}\")\n",
    "\n",
    "# Save Results to CSV\n",
    "results2_df.to_csv(\"./output/longformer_noprompt_evaluation.csv\", index=False)\n"
   ]
  }
 ],
 "metadata": {
  "kernelspec": {
   "display_name": "Python 3",
   "language": "python",
   "name": "python3"
  },
  "language_info": {
   "codemirror_mode": {
    "name": "ipython",
    "version": 3
   },
   "file_extension": ".py",
   "mimetype": "text/x-python",
   "name": "python",
   "nbconvert_exporter": "python",
   "pygments_lexer": "ipython3",
   "version": "3.12.3"
  }
 },
 "nbformat": 4,
 "nbformat_minor": 2
}
