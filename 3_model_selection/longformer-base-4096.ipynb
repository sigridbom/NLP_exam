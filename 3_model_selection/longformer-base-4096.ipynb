{
 "cells": [
  {
   "cell_type": "markdown",
   "metadata": {},
   "source": [
<<<<<<< HEAD
    "## Running the model with 2048 tokens, no text prompt"
   ]
  },
  {
   "cell_type": "code",
   "execution_count": null,
   "metadata": {},
<<<<<<< HEAD
   "outputs": [],
   "source": [
    "## Running the model with 3072 tokens and a text prompt explaining the Bechdel test\n",
    "# run time ≈ 80 min"
=======
   "outputs": [
    {
     "name": "stderr",
     "output_type": "stream",
     "text": [
      "Some weights of LongformerForSequenceClassification were not initialized from the model checkpoint at allenai/longformer-base-4096 and are newly initialized: ['classifier.dense.bias', 'classifier.dense.weight', 'classifier.out_proj.bias', 'classifier.out_proj.weight']\n",
      "You should probably TRAIN this model on a down-stream task to be able to use it for predictions and inference.\n",
      "/tmp/ipykernel_5705/3782884818.py:69: FutureWarning: `torch.cuda.amp.GradScaler(args...)` is deprecated. Please use `torch.amp.GradScaler('cuda', args...)` instead.\n",
      "  scaler = GradScaler()  # Mixed precision scaler\n"
     ]
    },
    {
     "name": "stdout",
     "output_type": "stream",
     "text": [
      "Epoch 1/3\n"
     ]
    },
    {
     "name": "stderr",
     "output_type": "stream",
     "text": [
      "/tmp/ipykernel_5705/3782884818.py:83: FutureWarning: `torch.cuda.amp.autocast(args...)` is deprecated. Please use `torch.amp.autocast('cuda', args...)` instead.\n",
      "  with autocast():  # Enable mixed precision\n",
      "Initializing global attention on CLS token...\n",
      "/tmp/ipykernel_5705/3782884818.py:116: FutureWarning: `torch.cuda.amp.autocast(args...)` is deprecated. Please use `torch.amp.autocast('cuda', args...)` instead.\n",
      "  with autocast():  # Mixed precision during evaluation\n"
     ]
    },
    {
     "name": "stdout",
     "output_type": "stream",
     "text": [
      "Train Loss: 0.7058, Train Accuracy: 0.4979\n",
      "Validation Loss: 0.6932, Validation Accuracy: 0.5028, Validation F1: 0.6692\n",
      "Epoch 2/3\n"
     ]
    },
    {
     "name": "stderr",
     "output_type": "stream",
     "text": [
      "/tmp/ipykernel_5705/3782884818.py:83: FutureWarning: `torch.cuda.amp.autocast(args...)` is deprecated. Please use `torch.amp.autocast('cuda', args...)` instead.\n",
      "  with autocast():  # Enable mixed precision\n",
      "/tmp/ipykernel_5705/3782884818.py:116: FutureWarning: `torch.cuda.amp.autocast(args...)` is deprecated. Please use `torch.amp.autocast('cuda', args...)` instead.\n",
      "  with autocast():  # Mixed precision during evaluation\n"
     ]
    },
    {
     "name": "stdout",
     "output_type": "stream",
     "text": [
      "Train Loss: 0.6989, Train Accuracy: 0.4993\n",
      "Validation Loss: 0.7021, Validation Accuracy: 0.5028, Validation F1: 0.6692\n",
      "Epoch 3/3\n"
     ]
    },
    {
     "name": "stderr",
     "output_type": "stream",
     "text": [
      "/tmp/ipykernel_5705/3782884818.py:83: FutureWarning: `torch.cuda.amp.autocast(args...)` is deprecated. Please use `torch.amp.autocast('cuda', args...)` instead.\n",
      "  with autocast():  # Enable mixed precision\n",
      "/tmp/ipykernel_5705/3782884818.py:116: FutureWarning: `torch.cuda.amp.autocast(args...)` is deprecated. Please use `torch.amp.autocast('cuda', args...)` instead.\n",
      "  with autocast():  # Mixed precision during evaluation\n"
     ]
    },
    {
     "name": "stdout",
     "output_type": "stream",
     "text": [
      "Train Loss: 0.6980, Train Accuracy: 0.5021\n",
      "Validation Loss: 0.6941, Validation Accuracy: 0.4972, Validation F1: 0.0000\n"
     ]
    },
    {
     "name": "stderr",
     "output_type": "stream",
     "text": [
      "/tmp/ipykernel_5705/3782884818.py:116: FutureWarning: `torch.cuda.amp.autocast(args...)` is deprecated. Please use `torch.amp.autocast('cuda', args...)` instead.\n",
      "  with autocast():  # Mixed precision during evaluation\n"
     ]
    },
    {
     "name": "stdout",
     "output_type": "stream",
     "text": [
      "Test Loss: 0.6943, Test Accuracy: 0.4944, Test F1: 0.0000\n"
     ]
    }
   ],
   "source": [
    "import os\n",
    "import torch\n",
    "from torch.utils.data import DataLoader, Dataset\n",
    "from torch.cuda.amp import GradScaler, autocast\n",
    "from transformers import LongformerTokenizer, LongformerForSequenceClassification\n",
    "from sklearn.metrics import accuracy_score, f1_score\n",
    "import pandas as pd\n",
    "\n",
    "# Environment variable to improve memory allocation\n",
    "os.environ[\"PYTORCH_CUDA_ALLOC_CONF\"] = \"expandable_segments:True\"\n",
    "\n",
    "# Tokenizer and Model Initialization\n",
    "tokenizer = LongformerTokenizer.from_pretrained(\"allenai/longformer-base-4096\")\n",
    "model = LongformerForSequenceClassification.from_pretrained(\"allenai/longformer-base-4096\", num_labels=2)\n",
    "model.gradient_checkpointing_enable()  # Enable gradient checkpointing\n",
    "model.config.attention_window = [256] * len(model.config.attention_window)  # Reduce attention window to address outofmemory issues\n",
    "model = model.to(\"cuda\")  # Make sure model runs on GPU\n",
    "\n",
    "# Custom Dataset Class\n",
    "class ScriptDataset(Dataset):\n",
    "    def __init__(self, scripts, labels, tokenizer, max_length=2048): #reduced to 2048 to address outofmemory issues\n",
    "        self.scripts = scripts\n",
    "        self.labels = labels\n",
    "        self.tokenizer = tokenizer\n",
    "        self.max_length = max_length\n",
    "\n",
    "    def __len__(self):\n",
    "        return len(self.scripts)\n",
    "\n",
    "    def __getitem__(self, idx):\n",
    "        text = self.scripts[idx]\n",
    "        label = self.labels[idx]\n",
    "        inputs = self.tokenizer(\n",
    "            text,\n",
    "            max_length=self.max_length,\n",
    "            padding=\"max_length\",\n",
    "            truncation=True,\n",
    "            return_tensors=\"pt\"\n",
    "        )\n",
    "        return {\n",
    "            \"input_ids\": inputs[\"input_ids\"].squeeze(0),\n",
    "            \"attention_mask\": inputs[\"attention_mask\"].squeeze(0),\n",
    "            \"label\": torch.tensor(label, dtype=torch.long)\n",
    "        }\n",
    "\n",
    "# DataLoader Preparation Function\n",
    "def prepare_dataloader(data, tokenizer, max_length, batch_size):\n",
    "    dataset = ScriptDataset(\n",
    "        scripts=data[\"script\"].tolist(),\n",
    "        labels=data[\"passed_bechdel\"].tolist(),\n",
    "        tokenizer=tokenizer,\n",
    "        max_length=max_length\n",
    "    )\n",
    "    return DataLoader(dataset, batch_size=batch_size, shuffle=True)\n",
    "\n",
    "# Load Datasets\n",
    "train_data = pd.read_csv(\"../2_preprocessing/train_case_sensitive.csv\")\n",
    "val_data = pd.read_csv(\"../2_preprocessing/validation_case_sensitive.csv\")\n",
    "test_data = pd.read_csv(\"../2_preprocessing/test_case_sensitive.csv\")\n",
    "\n",
    "# Create DataLoaders\n",
    "train_loader = prepare_dataloader(train_data, tokenizer, max_length=2048, batch_size=1)\n",
    "val_loader = prepare_dataloader(val_data, tokenizer, max_length=2048, batch_size=1)\n",
    "test_loader = prepare_dataloader(test_data, tokenizer, max_length=2048, batch_size=1)\n",
    "\n",
    "# Optimizer, Loss, and Scaler\n",
    "optimizer = torch.optim.AdamW(model.parameters(), lr=5e-5)\n",
    "criterion = torch.nn.CrossEntropyLoss()\n",
    "scaler = GradScaler()  # Mixed precision scaler\n",
    "gradient_accumulation_steps = 4  # Accumulate gradients over 4 steps\n",
    "\n",
    "# Training Loop\n",
    "def train(model, dataloader):\n",
    "    model.train()\n",
    "    total_loss, total_correct = 0, 0\n",
    "    optimizer.zero_grad()\n",
    "\n",
    "    for step, batch in enumerate(dataloader):\n",
    "        input_ids = batch[\"input_ids\"].to(\"cuda\")\n",
    "        attention_mask = batch[\"attention_mask\"].to(\"cuda\")\n",
    "        labels = batch[\"label\"].to(\"cuda\")\n",
    "\n",
    "        with autocast():  # Enable mixed precision\n",
    "            outputs = model(input_ids, attention_mask=attention_mask)\n",
    "            loss = criterion(outputs.logits, labels)\n",
    "            loss = loss / gradient_accumulation_steps  # Scale loss for accumulation\n",
    "\n",
    "        scaler.scale(loss).backward()\n",
    "\n",
    "        if (step + 1) % gradient_accumulation_steps == 0:\n",
    "            scaler.step(optimizer)\n",
    "            scaler.update()\n",
    "            optimizer.zero_grad()\n",
    "\n",
    "        total_loss += loss.item() * gradient_accumulation_steps\n",
    "        total_correct += (outputs.logits.argmax(1) == labels).sum().item()\n",
    "\n",
    "        # Periodically clear CUDA cache to manage memory\n",
    "        if step % 50 == 0:\n",
    "            torch.cuda.empty_cache()\n",
    "\n",
    "    return total_loss / len(dataloader), total_correct / len(dataloader.dataset)\n",
    "\n",
    "# Evaluation Loop\n",
    "def evaluate(model, dataloader):\n",
    "    model.eval()\n",
    "    total_loss, total_correct = 0, 0\n",
    "    all_preds, all_labels = [], []\n",
    "\n",
    "    with torch.no_grad():\n",
    "        for batch in dataloader:\n",
    "            input_ids = batch[\"input_ids\"].to(\"cuda\")\n",
    "            attention_mask = batch[\"attention_mask\"].to(\"cuda\")\n",
    "            labels = batch[\"label\"].to(\"cuda\")\n",
    "\n",
    "            with autocast():  # Mixed precision during evaluation\n",
    "                outputs = model(input_ids, attention_mask=attention_mask)\n",
    "                loss = criterion(outputs.logits, labels)\n",
    "\n",
    "            total_loss += loss.item()\n",
    "            total_correct += (outputs.logits.argmax(1) == labels).sum().item()\n",
    "            all_preds.extend(outputs.logits.argmax(1).cpu().numpy())\n",
    "            all_labels.extend(labels.cpu().numpy())\n",
    "\n",
    "    accuracy = total_correct / len(dataloader.dataset)\n",
    "    f1 = f1_score(all_labels, all_preds)\n",
    "    return total_loss / len(dataloader), accuracy, f1\n",
    "\n",
    "# Main Training Loop\n",
    "epochs = 3\n",
    "for epoch in range(epochs):\n",
    "    print(f\"Epoch {epoch + 1}/{epochs}\")\n",
    "    train_loss, train_accuracy = train(model, train_loader)\n",
    "    val_loss, val_accuracy, val_f1 = evaluate(model, val_loader)\n",
    "\n",
    "    print(f\"Train Loss: {train_loss:.4f}, Train Accuracy: {train_accuracy:.4f}\")\n",
    "    print(f\"Validation Loss: {val_loss:.4f}, Validation Accuracy: {val_accuracy:.4f}, Validation F1: {val_f1:.4f}\")\n",
    "\n",
    "# Evaluate on Test Data\n",
    "test_loss, test_accuracy, test_f1 = evaluate(model, test_loader)\n",
    "print(f\"Test Loss: {test_loss:.4f}, Test Accuracy: {test_accuracy:.4f}, Test F1: {test_f1:.4f}\")"
=======
    "# Longformer\n",
    "## With text prompt explaining Bechdel test"
>>>>>>> linus
   ]
  },
  {
   "cell_type": "markdown",
   "metadata": {},
   "source": [
<<<<<<< HEAD
    "## Running the model with 3072 tokens and a text prompt explaining the Bechdel test\n",
    "### run time ≈ 80 min"
>>>>>>> linus
=======
    "### Imports and Initialization"
>>>>>>> linus
   ]
  },
  {
   "cell_type": "code",
   "execution_count": 1,
   "metadata": {},
   "outputs": [
    {
     "name": "stderr",
     "output_type": "stream",
     "text": [
      "Some weights of LongformerForSequenceClassification were not initialized from the model checkpoint at allenai/longformer-base-4096 and are newly initialized: ['classifier.dense.bias', 'classifier.dense.weight', 'classifier.out_proj.bias', 'classifier.out_proj.weight']\n",
      "You should probably TRAIN this model on a down-stream task to be able to use it for predictions and inference.\n"
     ]
    }
   ],
   "source": [
    "import os\n",
    "import torch\n",
    "from torch.utils.data import DataLoader, Dataset\n",
    "from torch.amp import GradScaler, autocast\n",
    "from transformers import LongformerTokenizer, LongformerForSequenceClassification\n",
    "from sklearn.metrics import accuracy_score, f1_score, roc_auc_score, confusion_matrix, ConfusionMatrixDisplay\n",
    "import matplotlib.pyplot as plt\n",
    "import seaborn as sns\n",
    "import pandas as pd\n",
    "import numpy as np\n",
    "\n",
    "# Environment variable for memory allocation\n",
    "os.environ[\"PYTORCH_CUDA_ALLOC_CONF\"] = \"expandable_segments:True\"\n",
    "\n",
    "# Tokenizer and Model Initialization\n",
    "tokenizer = LongformerTokenizer.from_pretrained(\"allenai/longformer-base-4096\")\n",
    "model = LongformerForSequenceClassification.from_pretrained(\"allenai/longformer-base-4096\", num_labels=2)\n",
    "model.gradient_checkpointing_enable()\n",
    "model.config.attention_window = [256] * len(model.config.attention_window)\n",
    "model = torch.nn.DataParallel(model).to(\"cuda\")\n",
    "model_name = 'longformer_prompt'\n"
   ]
  },
  {
   "cell_type": "markdown",
   "metadata": {},
   "source": [
    "### Dataset and DataLoader setup"
   ]
  },
  {
   "cell_type": "code",
   "execution_count": 2,
   "metadata": {},
   "outputs": [],
   "source": [
    "# Dataset with optional text prompt\n",
    "class ScriptDataset(Dataset):\n",
    "    def __init__(self, scripts, labels, tokenizer, max_length=3072, use_prompt=True):\n",
    "        self.scripts = scripts\n",
    "        self.labels = labels\n",
    "        self.tokenizer = tokenizer\n",
    "        self.max_length = max_length\n",
    "        self.use_prompt = use_prompt\n",
    "        self.prompt = (\n",
    "            \"Does the following manuscript pass the Bechdel test or not? \"\n",
    "            \"A movie passes the Bechdel test if it fulfills three requirements: \"\n",
    "            \"1) There are at least two named female characters, 2) They have a conversation, \"\n",
    "            \"3) About something other than a man. Manuscript: \"\n",
    "        )\n",
    "\n",
    "    def __len__(self):\n",
    "        return len(self.scripts)\n",
    "\n",
    "    def __getitem__(self, idx):\n",
    "        text = self.prompt + self.scripts[idx] if self.use_prompt else self.scripts[idx]\n",
    "        label = self.labels[idx]\n",
    "        inputs = self.tokenizer(\n",
    "            text,\n",
    "            max_length=self.max_length,\n",
    "            padding=\"max_length\",\n",
    "            truncation=True,\n",
    "            return_tensors=\"pt\"\n",
    "        )\n",
    "        return {\n",
    "            \"input_ids\": inputs[\"input_ids\"].squeeze(0),\n",
    "            \"attention_mask\": inputs[\"attention_mask\"].squeeze(0),\n",
    "            \"label\": torch.tensor(label, dtype=torch.long)\n",
    "        }\n",
    "\n",
    "# DataLoader Preparation\n",
    "def prepare_dataloader(data, tokenizer, max_length, batch_size, use_prompt=True):\n",
    "    dataset = ScriptDataset(\n",
    "        scripts=data[\"script\"].tolist(),\n",
    "        labels=data[\"passed_bechdel\"].tolist(),\n",
    "        tokenizer=tokenizer,\n",
    "        max_length=max_length,\n",
    "        use_prompt=use_prompt\n",
    "    )\n",
    "    return DataLoader(dataset, batch_size=batch_size, shuffle=True)\n",
    "\n",
    "# Load datasets\n",
    "train_data = pd.read_csv(\"../2_preprocessing/train_case_sensitive.csv\")\n",
    "val_data = pd.read_csv(\"../2_preprocessing/validation_case_sensitive.csv\")\n",
    "test_data = pd.read_csv(\"../2_preprocessing/test_case_sensitive.csv\")\n",
    "\n",
    "# Create DataLoaders\n",
    "train_loader = prepare_dataloader(train_data, tokenizer, max_length=3072, batch_size=1, use_prompt=True)\n",
    "val_loader = prepare_dataloader(val_data, tokenizer, max_length=3072, batch_size=1, use_prompt=True)\n",
    "test_loader = prepare_dataloader(test_data, tokenizer, max_length=3072, batch_size=1, use_prompt=True)\n"
   ]
  },
  {
   "cell_type": "markdown",
   "metadata": {},
   "source": [
    "### Training Loop"
   ]
  },
  {
   "cell_type": "code",
   "execution_count": 3,
   "metadata": {},
   "outputs": [
    {
     "name": "stdout",
     "output_type": "stream",
     "text": [
      "Epoch 1/3\n"
     ]
    },
    {
     "name": "stderr",
     "output_type": "stream",
     "text": [
      "Initializing global attention on CLS token...\n"
     ]
    },
    {
     "name": "stdout",
     "output_type": "stream",
     "text": [
      "Train Loss: 0.6471, Train Accuracy: 0.6121\n",
      "Epoch 2/3\n",
      "Train Loss: 0.5738, Train Accuracy: 0.7073\n",
      "Epoch 3/3\n",
      "Train Loss: 0.5388, Train Accuracy: 0.7327\n"
     ]
    }
   ],
   "source": [
    "# Optimizer, Loss, and Scaler\n",
    "optimizer = torch.optim.AdamW(model.parameters(), lr=1e-5, weight_decay=0.001)\n",
    "criterion = torch.nn.CrossEntropyLoss()\n",
    "scaler = GradScaler()\n",
    "gradient_accumulation_steps = 4\n",
    "\n",
    "# Training Loop\n",
    "def train(model, dataloader):\n",
    "    model.train()\n",
    "    total_loss, total_correct = 0, 0\n",
    "    optimizer.zero_grad()\n",
    "\n",
    "    for step, batch in enumerate(dataloader):\n",
    "        input_ids = batch[\"input_ids\"].to(\"cuda\")\n",
    "        attention_mask = batch[\"attention_mask\"].to(\"cuda\")\n",
    "        labels = batch[\"label\"].to(\"cuda\")\n",
    "\n",
    "        with autocast(\"cuda\"):\n",
    "            outputs = model(input_ids, attention_mask=attention_mask)\n",
    "            loss = criterion(outputs.logits, labels)\n",
    "            loss = loss / gradient_accumulation_steps\n",
    "\n",
    "        scaler.scale(loss).backward()\n",
    "\n",
    "        if (step + 1) % gradient_accumulation_steps == 0:\n",
    "            scaler.step(optimizer)\n",
    "            scaler.update()\n",
    "            optimizer.zero_grad()\n",
    "\n",
    "        total_loss += loss.item() * gradient_accumulation_steps\n",
    "        total_correct += (outputs.logits.argmax(1) == labels).sum().item()\n",
    "\n",
    "        if step % 50 == 0:\n",
    "            torch.cuda.empty_cache()\n",
    "\n",
    "    return total_loss / len(dataloader), total_correct / len(dataloader.dataset)\n",
    "\n",
    "# Training\n",
    "epochs = 3\n",
    "for epoch in range(epochs):\n",
    "    print(f\"Epoch {epoch + 1}/{epochs}\")\n",
    "    train_loss, train_accuracy = train(model, train_loader)\n",
    "    print(f\"Train Loss: {train_loss:.4f}, Train Accuracy: {train_accuracy:.4f}\")\n"
   ]
  },
  {
   "cell_type": "markdown",
   "metadata": {},
   "source": [
    "### Evaluation Loop"
   ]
  },
  {
   "cell_type": "code",
   "execution_count": 4,
   "metadata": {},
   "outputs": [
    {
     "name": "stdout",
     "output_type": "stream",
     "text": [
      "\n",
      "Training Metrics:\n",
      "Accuracy: 0.7948\n",
      "F1 Score: 0.8114\n",
      "ROC-AUC: 0.8986\n",
      "Confusion Matrix:\n",
      "[[501 204]\n",
      " [ 87 626]]\n"
     ]
    },
    {
     "data": {
      "image/png": "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",
      "text/plain": [
       "<Figure size 640x480 with 2 Axes>"
      ]
     },
     "metadata": {},
     "output_type": "display_data"
    },
    {
     "name": "stdout",
     "output_type": "stream",
     "text": [
      "Training Loss: 0.4236, Training Accuracy: 0.7948, Training F1: 0.8114, Training ROC-AUC: 0.8986\n",
      "\n",
      "Validation Metrics:\n",
      "Accuracy: 0.7514\n",
      "F1 Score: 0.7732\n",
      "ROC-AUC: 0.8435\n",
      "Confusion Matrix:\n",
      "[[58 30]\n",
      " [14 75]]\n"
     ]
    },
    {
     "data": {
      "image/png": "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",
      "text/plain": [
       "<Figure size 640x480 with 2 Axes>"
      ]
     },
     "metadata": {},
     "output_type": "display_data"
    },
    {
     "name": "stdout",
     "output_type": "stream",
     "text": [
      "Validation Loss: 0.5053, Validation Accuracy: 0.7514, Validation F1: 0.7732, Validation ROC-AUC: 0.8435\n",
      "\n",
      "Test Metrics:\n",
      "Accuracy: 0.6629\n",
      "F1 Score: 0.6809\n",
      "ROC-AUC: 0.7453\n",
      "Confusion Matrix:\n",
      "[[54 34]\n",
      " [26 64]]\n"
     ]
    },
    {
     "data": {
      "image/png": "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",
      "text/plain": [
       "<Figure size 640x480 with 2 Axes>"
      ]
     },
     "metadata": {},
     "output_type": "display_data"
    },
    {
     "name": "stdout",
     "output_type": "stream",
     "text": [
      "Test Loss: 0.5999, Test Accuracy: 0.6629, Test F1: 0.6809, Test ROC-AUC: 0.7453\n"
     ]
    }
   ],
   "source": [
    "# Ensure output directory exists\n",
    "os.makedirs('./output/figures', exist_ok=True)\n",
    "\n",
    "# Initialize results DataFrame\n",
    "results_df = pd.DataFrame(columns=[\n",
    "    \"model\", \"split\", \"accuracy\", \"f1_score\", \"roc_auc\", \n",
    "    \"true_negatives\", \"true_positives\", \"false_positives\", \"false_negatives\", \"precision\", \"recall\", \n",
    "    \"true_negative_rate\", \"false_negative_rate\", \"false_positive_rate\"])\n",
    "\n",
    "# Evaluation Loop\n",
    "def evaluate(model, dataloader, dataset_name):\n",
    "    global results_df\n",
    "    model.eval()\n",
    "    total_loss, total_correct = 0, 0\n",
    "    all_preds, all_labels, all_probs = [], [], []\n",
    "\n",
    "    with torch.no_grad():\n",
    "        for batch in dataloader:\n",
    "            input_ids = batch[\"input_ids\"].to(\"cuda\")\n",
    "            attention_mask = batch[\"attention_mask\"].to(\"cuda\")\n",
    "            labels = batch[\"label\"].to(\"cuda\")\n",
    "\n",
    "            with autocast(\"cuda\"):\n",
    "                outputs = model(input_ids, attention_mask=attention_mask)\n",
    "                loss = criterion(outputs.logits, labels)\n",
    "\n",
    "            total_loss += loss.item()\n",
    "            total_correct += (outputs.logits.argmax(1) == labels).sum().item()\n",
    "            all_preds.extend(outputs.logits.argmax(1).cpu().numpy())\n",
    "            all_labels.extend(labels.cpu().numpy())\n",
    "            all_probs.extend(torch.softmax(outputs.logits, dim=1)[:, 1].cpu().numpy())\n",
    "\n",
    "    accuracy = total_correct / len(dataloader.dataset)\n",
    "    f1 = f1_score(all_labels, all_preds)\n",
    "    roc_auc = roc_auc_score(all_labels, all_probs)\n",
    "    conf_matrix = confusion_matrix(all_labels, all_preds)\n",
    "\n",
    "    print(f\"\\n{dataset_name.capitalize()} Metrics:\")\n",
    "    print(f\"Accuracy: {accuracy:.4f}\")\n",
    "    print(f\"F1 Score: {f1:.4f}\")\n",
    "    print(f\"ROC-AUC: {roc_auc:.4f}\")\n",
    "    print(f\"Confusion Matrix:\\n{conf_matrix}\")\n",
    "\n",
    "    # Save metrics\n",
    "    tn, fp, fn, tp = conf_matrix.ravel()\n",
    "    results_df.loc[len(results_df)] = {\n",
    "        \"model\": model_name, \n",
    "        \"split\": dataset_name, \n",
    "        \"accuracy\": accuracy,\n",
    "        \"f1_score\": f1, \n",
    "        \"roc_auc\": roc_auc,\n",
    "        \"true_negatives\": tn, \n",
    "        \"true_positives\": tp,\n",
    "        \"false_positives\": fp,\n",
    "        \"false_negatives\": fn, \n",
    "        \"precision\": tp / (tp + fp), \n",
    "        \"recall\": tp / (tp + fn), \n",
    "        \"true_negative_rate\": tn / (tn + fp), \n",
    "        \"false_negative_rate\": fn / (fn + tp), \n",
    "        \"false_positive_rate\": fp / (fp + tn)\n",
    "    }\n",
    "\n",
    "    # Save confusion matrix\n",
    "    disp = ConfusionMatrixDisplay(confusion_matrix=conf_matrix, display_labels=[\"Failed\", \"Passed\"])\n",
    "    disp.plot(cmap=plt.cm.Blues)\n",
    "    disp.ax_.set_title(f\"{model_name}, Data Split: {dataset_name.capitalize()}\")\n",
    "    plt.savefig(f'./output/figures/{model_name}_{dataset_name}_confusion_matrix.jpeg')\n",
    "    plt.show()\n",
    "\n",
    "    return total_loss / len(dataloader), accuracy, f1, roc_auc\n",
    "\n",
    "# Evaluate on Training Data\n",
    "train_loss, train_accuracy, train_f1, train_roc_auc = evaluate(model, train_loader, \"training\")\n",
    "print(f\"Training Loss: {train_loss:.4f}, Training Accuracy: {train_accuracy:.4f}, Training F1: {train_f1:.4f}, Training ROC-AUC: {train_roc_auc:.4f}\")\n",
    "\n",
    "# Evaluate on Validation Data\n",
    "val_loss, val_accuracy, val_f1, val_roc_auc = evaluate(model, val_loader, \"validation\")\n",
    "print(f\"Validation Loss: {val_loss:.4f}, Validation Accuracy: {val_accuracy:.4f}, Validation F1: {val_f1:.4f}, Validation ROC-AUC: {val_roc_auc:.4f}\")\n",
    "\n",
    "# Evaluate on Test Data\n",
    "test_loss, test_accuracy, test_f1, test_roc_auc = evaluate(model, test_loader, \"test\")\n",
    "print(f\"Test Loss: {test_loss:.4f}, Test Accuracy: {test_accuracy:.4f}, Test F1: {test_f1:.4f}, Test ROC-AUC: {test_roc_auc:.4f}\")\n",
    "\n",
    "# Save Results to CSV\n",
    "results_df.to_csv(\"./output/longformer_prompt_evaluation.csv\", index=False)\n"
   ]
  },
  {
   "cell_type": "markdown",
   "metadata": {},
   "source": [
    "## -------------------------------------"
   ]
  },
  {
   "cell_type": "code",
   "execution_count": null,
   "metadata": {},
   "outputs": [],
   "source": []
  },
  {
   "cell_type": "markdown",
   "metadata": {},
   "source": [
    "# Longformer\n",
    "## Without text prompt"
   ]
  },
  {
   "cell_type": "markdown",
   "metadata": {},
   "source": [
    "### Imports and Initialization"
   ]
  },
  {
   "cell_type": "code",
   "execution_count": 1,
   "metadata": {},
   "outputs": [
    {
     "data": {
      "application/vnd.jupyter.widget-view+json": {
       "model_id": "380198f3e00a4f5ebc057d9cc6c97f78",
       "version_major": 2,
       "version_minor": 0
      },
      "text/plain": [
       "vocab.json:   0%|          | 0.00/899k [00:00<?, ?B/s]"
      ]
     },
     "metadata": {},
     "output_type": "display_data"
    },
    {
     "data": {
      "application/vnd.jupyter.widget-view+json": {
       "model_id": "0a81894588ea43149437bff78df8a1ac",
       "version_major": 2,
       "version_minor": 0
      },
      "text/plain": [
       "merges.txt:   0%|          | 0.00/456k [00:00<?, ?B/s]"
      ]
     },
     "metadata": {},
     "output_type": "display_data"
    },
    {
     "data": {
      "application/vnd.jupyter.widget-view+json": {
       "model_id": "99fbb72adac94e269896128825bf6549",
       "version_major": 2,
       "version_minor": 0
      },
      "text/plain": [
       "tokenizer.json:   0%|          | 0.00/1.36M [00:00<?, ?B/s]"
      ]
     },
     "metadata": {},
     "output_type": "display_data"
    },
    {
     "data": {
      "application/vnd.jupyter.widget-view+json": {
       "model_id": "7108ed0f60624b11b44592063c32c7c3",
       "version_major": 2,
       "version_minor": 0
      },
      "text/plain": [
       "config.json:   0%|          | 0.00/694 [00:00<?, ?B/s]"
      ]
     },
     "metadata": {},
     "output_type": "display_data"
    },
    {
     "data": {
      "application/vnd.jupyter.widget-view+json": {
       "model_id": "fba6851936d44e29bbaf662aea5fdb24",
       "version_major": 2,
       "version_minor": 0
      },
      "text/plain": [
       "pytorch_model.bin:   0%|          | 0.00/597M [00:00<?, ?B/s]"
      ]
     },
     "metadata": {},
     "output_type": "display_data"
    },
    {
     "name": "stderr",
     "output_type": "stream",
     "text": [
      "Some weights of LongformerForSequenceClassification were not initialized from the model checkpoint at allenai/longformer-base-4096 and are newly initialized: ['classifier.dense.bias', 'classifier.dense.weight', 'classifier.out_proj.bias', 'classifier.out_proj.weight']\n",
      "You should probably TRAIN this model on a down-stream task to be able to use it for predictions and inference.\n"
     ]
    }
   ],
   "source": [
    "import os\n",
    "import torch\n",
    "from torch.utils.data import DataLoader, Dataset\n",
    "from torch.amp import GradScaler, autocast\n",
    "from transformers import LongformerTokenizer, LongformerForSequenceClassification\n",
    "from sklearn.metrics import accuracy_score, f1_score, roc_auc_score, confusion_matrix, ConfusionMatrixDisplay\n",
    "import matplotlib.pyplot as plt\n",
    "import seaborn as sns\n",
    "import pandas as pd\n",
    "import numpy as np\n",
    "\n",
    "# Environment variable for memory allocation\n",
    "os.environ[\"PYTORCH_CUDA_ALLOC_CONF\"] = \"expandable_segments:True\"\n",
    "\n",
    "# Tokenizer and Model Initialization\n",
    "tokenizer = LongformerTokenizer.from_pretrained(\"allenai/longformer-base-4096\")\n",
    "model = LongformerForSequenceClassification.from_pretrained(\"allenai/longformer-base-4096\", num_labels=2)\n",
    "model.gradient_checkpointing_enable()\n",
    "model.config.attention_window = [256] * len(model.config.attention_window)\n",
    "model = torch.nn.DataParallel(model).to(\"cuda\")\n",
    "model_name = 'longformer_noprompt'\n"
   ]
  },
  {
   "cell_type": "markdown",
   "metadata": {},
   "source": [
    "### Dataset and DataLoader setup"
   ]
  },
  {
   "cell_type": "code",
   "execution_count": 2,
   "metadata": {},
   "outputs": [],
   "source": [
    "# Dataset with optional text prompt\n",
    "class ScriptDataset(Dataset):\n",
    "    def __init__(self, scripts, labels, tokenizer, max_length=3072, use_prompt=False):\n",
    "        self.scripts = scripts\n",
    "        self.labels = labels\n",
    "        self.tokenizer = tokenizer\n",
    "        self.max_length = max_length\n",
    "        self.use_prompt = use_prompt\n",
    "        self.prompt = (\n",
    "            \"Does the following manuscript pass the Bechdel test or not? \"\n",
    "            \"A movie passes the Bechdel test if it fulfills three requirements: \"\n",
    "            \"1) There are at least two named female characters, 2) They have a conversation, \"\n",
    "            \"3) About something other than a man. Manuscript: \"\n",
    "        )\n",
    "\n",
    "    def __len__(self):\n",
    "        return len(self.scripts)\n",
    "\n",
    "    def __getitem__(self, idx):\n",
    "        text = self.prompt + self.scripts[idx] if self.use_prompt else self.scripts[idx]\n",
    "        label = self.labels[idx]\n",
    "        inputs = self.tokenizer(\n",
    "            text,\n",
    "            max_length=self.max_length,\n",
    "            padding=\"max_length\",\n",
    "            truncation=True,\n",
    "            return_tensors=\"pt\"\n",
    "        )\n",
    "        return {\n",
    "            \"input_ids\": inputs[\"input_ids\"].squeeze(0),\n",
    "            \"attention_mask\": inputs[\"attention_mask\"].squeeze(0),\n",
    "            \"label\": torch.tensor(label, dtype=torch.long)\n",
    "        }\n",
    "\n",
    "# DataLoader Preparation\n",
    "def prepare_dataloader(data, tokenizer, max_length, batch_size, use_prompt=False):\n",
    "    dataset = ScriptDataset(\n",
    "        scripts=data[\"script\"].tolist(),\n",
    "        labels=data[\"passed_bechdel\"].tolist(),\n",
    "        tokenizer=tokenizer,\n",
    "        max_length=max_length,\n",
    "        use_prompt=use_prompt\n",
    "    )\n",
    "    return DataLoader(dataset, batch_size=batch_size, shuffle=True)\n",
    "\n",
    "# Load datasets\n",
    "train_data = pd.read_csv(\"../2_preprocessing/train_case_sensitive.csv\")\n",
    "val_data = pd.read_csv(\"../2_preprocessing/validation_case_sensitive.csv\")\n",
    "test_data = pd.read_csv(\"../2_preprocessing/test_case_sensitive.csv\")\n",
    "\n",
    "# Create DataLoaders\n",
    "train_loader = prepare_dataloader(train_data, tokenizer, max_length=3072, batch_size=1, use_prompt=False)\n",
    "val_loader = prepare_dataloader(val_data, tokenizer, max_length=3072, batch_size=1, use_prompt=False)\n",
    "test_loader = prepare_dataloader(test_data, tokenizer, max_length=3072, batch_size=1, use_prompt=False)"
   ]
  },
  {
   "cell_type": "markdown",
   "metadata": {},
   "source": [
    "### Training Loop"
   ]
  },
  {
   "cell_type": "code",
   "execution_count": 3,
   "metadata": {},
   "outputs": [
    {
     "name": "stdout",
     "output_type": "stream",
     "text": [
      "Epoch 1/3\n"
     ]
    },
    {
     "name": "stderr",
     "output_type": "stream",
     "text": [
      "Initializing global attention on CLS token...\n"
     ]
    },
    {
     "name": "stdout",
     "output_type": "stream",
     "text": [
      "Train Loss: 0.6510, Train Accuracy: 0.5945\n",
      "Epoch 2/3\n",
      "Train Loss: 0.5587, Train Accuracy: 0.7165\n",
      "Epoch 3/3\n",
      "Train Loss: 0.5058, Train Accuracy: 0.7630\n"
     ]
    }
   ],
   "source": [
    "# Optimizer, Loss, and Scaler\n",
    "optimizer = torch.optim.AdamW(model.parameters(), lr=1e-5, weight_decay=0.001)\n",
    "criterion = torch.nn.CrossEntropyLoss()\n",
    "scaler = GradScaler()\n",
    "gradient_accumulation_steps = 4\n",
    "\n",
    "# Training Loop\n",
    "def train(model, dataloader):\n",
    "    model.train()\n",
    "    total_loss, total_correct = 0, 0\n",
    "    optimizer.zero_grad()\n",
    "\n",
    "    for step, batch in enumerate(dataloader):\n",
    "        input_ids = batch[\"input_ids\"].to(\"cuda\")\n",
    "        attention_mask = batch[\"attention_mask\"].to(\"cuda\")\n",
    "        labels = batch[\"label\"].to(\"cuda\")\n",
    "\n",
    "        with autocast(\"cuda\"):\n",
    "            outputs = model(input_ids, attention_mask=attention_mask)\n",
    "            loss = criterion(outputs.logits, labels)\n",
    "            loss = loss / gradient_accumulation_steps\n",
    "\n",
    "        scaler.scale(loss).backward()\n",
    "\n",
    "        if (step + 1) % gradient_accumulation_steps == 0:\n",
    "            scaler.step(optimizer)\n",
    "            scaler.update()\n",
    "            optimizer.zero_grad()\n",
    "\n",
    "        total_loss += loss.item() * gradient_accumulation_steps\n",
    "        total_correct += (outputs.logits.argmax(1) == labels).sum().item()\n",
    "\n",
    "        if step % 50 == 0:\n",
    "            torch.cuda.empty_cache()\n",
    "\n",
    "    return total_loss / len(dataloader), total_correct / len(dataloader.dataset)\n",
    "\n",
    "# Training\n",
    "epochs = 3\n",
    "for epoch in range(epochs):\n",
    "    print(f\"Epoch {epoch + 1}/{epochs}\")\n",
    "    train_loss, train_accuracy = train(model, train_loader)\n",
    "    print(f\"Train Loss: {train_loss:.4f}, Train Accuracy: {train_accuracy:.4f}\")\n"
   ]
  },
  {
   "cell_type": "markdown",
   "metadata": {},
   "source": [
    "### Evaluation Loop"
   ]
  },
  {
   "cell_type": "code",
   "execution_count": 4,
   "metadata": {},
   "outputs": [
    {
     "name": "stdout",
     "output_type": "stream",
     "text": [
      "\n",
      "Training Metrics:\n",
      "Accuracy: 0.8484\n",
      "F1 Score: 0.8290\n",
      "ROC-AUC: 0.9338\n",
      "Confusion Matrix:\n",
      "[[682  23]\n",
      " [192 521]]\n"
     ]
    },
    {
     "data": {
      "image/png": "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",
      "text/plain": [
       "<Figure size 640x480 with 2 Axes>"
      ]
     },
     "metadata": {},
     "output_type": "display_data"
    },
    {
     "name": "stdout",
     "output_type": "stream",
     "text": [
      "Training Loss: 0.3814, Training Accuracy: 0.8484, Training F1: 0.8290, Training ROC-AUC: 0.9338\n",
      "\n",
      "Validation Metrics:\n",
      "Accuracy: 0.7627\n",
      "F1 Score: 0.7273\n",
      "ROC-AUC: 0.8461\n",
      "Confusion Matrix:\n",
      "[[79  9]\n",
      " [33 56]]\n"
     ]
    },
    {
     "data": {
      "image/png": "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",
      "text/plain": [
       "<Figure size 640x480 with 2 Axes>"
      ]
     },
     "metadata": {},
     "output_type": "display_data"
    },
    {
     "name": "stdout",
     "output_type": "stream",
     "text": [
      "Validation Loss: 0.5087, Validation Accuracy: 0.7627, Validation F1: 0.7273, Validation ROC-AUC: 0.8461\n",
      "\n",
      "Test Metrics:\n",
      "Accuracy: 0.6910\n",
      "F1 Score: 0.6405\n",
      "ROC-AUC: 0.7448\n",
      "Confusion Matrix:\n",
      "[[74 14]\n",
      " [41 49]]\n"
     ]
    },
    {
     "data": {
      "image/png": "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",
      "text/plain": [
       "<Figure size 640x480 with 2 Axes>"
      ]
     },
     "metadata": {},
     "output_type": "display_data"
    },
    {
     "name": "stdout",
     "output_type": "stream",
     "text": [
      "Test Loss: 0.5900, Test Accuracy: 0.6910, Test F1: 0.6405, Test ROC-AUC: 0.7448\n"
     ]
    }
   ],
   "source": [
    "# Ensure output directory exists\n",
    "os.makedirs('./output/figures', exist_ok=True)\n",
    "\n",
    "# Initialize results DataFrame\n",
    "results2_df = pd.DataFrame(columns=[\n",
    "    \"model\", \"split\", \"accuracy\", \"f1_score\", \"roc_auc\", \n",
    "    \"true_negatives\", \"true_positives\", \"false_positives\", \"false_negatives\", \"precision\", \"recall\", \n",
    "    \"true_negative_rate\", \"false_negative_rate\", \"false_positive_rate\"])\n",
    "\n",
    "# Evaluation Loop\n",
    "def evaluate(model, dataloader, dataset_name):\n",
    "    global results2_df\n",
    "    model.eval()\n",
    "    total_loss, total_correct = 0, 0\n",
    "    all_preds, all_labels, all_probs = [], [], []\n",
    "\n",
    "    with torch.no_grad():\n",
    "        for batch in dataloader:\n",
    "            input_ids = batch[\"input_ids\"].to(\"cuda\")\n",
    "            attention_mask = batch[\"attention_mask\"].to(\"cuda\")\n",
    "            labels = batch[\"label\"].to(\"cuda\")\n",
    "\n",
    "            with autocast(\"cuda\"):\n",
    "                outputs = model(input_ids, attention_mask=attention_mask)\n",
    "                loss = criterion(outputs.logits, labels)\n",
    "\n",
    "            total_loss += loss.item()\n",
    "            total_correct += (outputs.logits.argmax(1) == labels).sum().item()\n",
    "            all_preds.extend(outputs.logits.argmax(1).cpu().numpy())\n",
    "            all_labels.extend(labels.cpu().numpy())\n",
    "            all_probs.extend(torch.softmax(outputs.logits, dim=1)[:, 1].cpu().numpy())\n",
    "\n",
    "    accuracy = total_correct / len(dataloader.dataset)\n",
    "    f1 = f1_score(all_labels, all_preds)\n",
    "    roc_auc = roc_auc_score(all_labels, all_probs)\n",
    "    conf_matrix = confusion_matrix(all_labels, all_preds)\n",
    "\n",
    "    print(f\"\\n{dataset_name.capitalize()} Metrics:\")\n",
    "    print(f\"Accuracy: {accuracy:.4f}\")\n",
    "    print(f\"F1 Score: {f1:.4f}\")\n",
    "    print(f\"ROC-AUC: {roc_auc:.4f}\")\n",
    "    print(f\"Confusion Matrix:\\n{conf_matrix}\")\n",
    "\n",
    "    # Save metrics\n",
    "    tn, fp, fn, tp = conf_matrix.ravel()\n",
    "    results2_df.loc[len(results2_df)] = {\n",
    "        \"model\": model_name, \n",
    "        \"split\": dataset_name, \n",
    "        \"accuracy\": accuracy,\n",
    "        \"f1_score\": f1, \n",
    "        \"roc_auc\": roc_auc,\n",
    "        \"true_negatives\": tn, \n",
    "        \"true_positives\": tp,\n",
    "        \"false_positives\": fp,\n",
    "        \"false_negatives\": fn, \n",
    "        \"precision\": tp / (tp + fp), \n",
    "        \"recall\": tp / (tp + fn), \n",
    "        \"true_negative_rate\": tn / (tn + fp), \n",
    "        \"false_negative_rate\": fn / (fn + tp), \n",
    "        \"false_positive_rate\": fp / (fp + tn)\n",
    "    }\n",
    "\n",
    "    # Save confusion matrix\n",
    "    disp = ConfusionMatrixDisplay(confusion_matrix=conf_matrix, display_labels=[\"Failed\", \"Passed\"])\n",
    "    disp.plot(cmap=plt.cm.Blues)\n",
    "    disp.ax_.set_title(f\"{model_name}, Data Split: {dataset_name.capitalize()}\")\n",
    "    plt.savefig(f'./output/figures/{model_name}_{dataset_name}_confusion_matrix.jpeg')\n",
    "    plt.show()\n",
    "\n",
    "    return total_loss / len(dataloader), accuracy, f1, roc_auc\n",
    "\n",
    "# Evaluate on Training Data\n",
    "train_loss, train_accuracy, train_f1, train_roc_auc = evaluate(model, train_loader, \"training\")\n",
    "print(f\"Training Loss: {train_loss:.4f}, Training Accuracy: {train_accuracy:.4f}, Training F1: {train_f1:.4f}, Training ROC-AUC: {train_roc_auc:.4f}\")\n",
    "\n",
    "# Evaluate on Validation Data\n",
    "val_loss, val_accuracy, val_f1, val_roc_auc = evaluate(model, val_loader, \"validation\")\n",
    "print(f\"Validation Loss: {val_loss:.4f}, Validation Accuracy: {val_accuracy:.4f}, Validation F1: {val_f1:.4f}, Validation ROC-AUC: {val_roc_auc:.4f}\")\n",
    "\n",
    "# Evaluate on Test Data\n",
    "test_loss, test_accuracy, test_f1, test_roc_auc = evaluate(model, test_loader, \"test\")\n",
    "print(f\"Test Loss: {test_loss:.4f}, Test Accuracy: {test_accuracy:.4f}, Test F1: {test_f1:.4f}, Test ROC-AUC: {test_roc_auc:.4f}\")\n",
    "\n",
    "# Save Results to CSV\n",
    "results2_df.to_csv(\"./output/longformer_noprompt_evaluation.csv\", index=False)\n"
   ]
  }
 ],
 "metadata": {
  "kernelspec": {
   "display_name": "Python 3",
   "language": "python",
   "name": "python3"
  },
  "language_info": {
   "codemirror_mode": {
    "name": "ipython",
    "version": 3
   },
   "file_extension": ".py",
   "mimetype": "text/x-python",
   "name": "python",
   "nbconvert_exporter": "python",
   "pygments_lexer": "ipython3",
   "version": "3.12.3"
  }
 },
 "nbformat": 4,
 "nbformat_minor": 2
}
