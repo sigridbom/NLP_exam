{
 "cells": [
  {
   "cell_type": "code",
   "execution_count": null,
   "metadata": {},
   "outputs": [],
   "source": [
    "!pip install kagglehub\n",
    "!pip install matplotlib\n",
    "!pip install pandas"
   ]
  },
  {
   "cell_type": "code",
   "execution_count": 2,
   "metadata": {},
   "outputs": [],
   "source": [
    "import pandas as pd\n",
    "from matplotlib import pyplot"
   ]
  },
  {
   "cell_type": "code",
   "execution_count": null,
   "metadata": {},
   "outputs": [
    {
     "data": {
      "text/html": [
       "<div>\n",
       "<style scoped>\n",
       "    .dataframe tbody tr th:only-of-type {\n",
       "        vertical-align: middle;\n",
       "    }\n",
       "\n",
       "    .dataframe tbody tr th {\n",
       "        vertical-align: top;\n",
       "    }\n",
       "\n",
       "    .dataframe thead th {\n",
       "        text-align: right;\n",
       "    }\n",
       "</style>\n",
       "<table border=\"1\" class=\"dataframe\">\n",
       "  <thead>\n",
       "    <tr style=\"text-align: right;\">\n",
       "      <th></th>\n",
       "      <th>Unnamed: 0</th>\n",
       "      <th>title</th>\n",
       "      <th>year</th>\n",
       "      <th>rating</th>\n",
       "      <th>dubious</th>\n",
       "      <th>imdbid</th>\n",
       "      <th>id</th>\n",
       "      <th>submitterid</th>\n",
       "      <th>date</th>\n",
       "      <th>visible</th>\n",
       "    </tr>\n",
       "  </thead>\n",
       "  <tbody>\n",
       "    <tr>\n",
       "      <th>0</th>\n",
       "      <td>0</td>\n",
       "      <td>Passage de Venus</td>\n",
       "      <td>1874.0</td>\n",
       "      <td>0.0</td>\n",
       "      <td>0.0</td>\n",
       "      <td>3155794.0</td>\n",
       "      <td>9602.0</td>\n",
       "      <td>18880.0</td>\n",
       "      <td>2021-04-02 20:58:09</td>\n",
       "      <td>1.0</td>\n",
       "    </tr>\n",
       "    <tr>\n",
       "      <th>1</th>\n",
       "      <td>1</td>\n",
       "      <td>La Rosace Magique</td>\n",
       "      <td>1877.0</td>\n",
       "      <td>0.0</td>\n",
       "      <td>0.0</td>\n",
       "      <td>14495706.0</td>\n",
       "      <td>9804.0</td>\n",
       "      <td>19145.0</td>\n",
       "      <td>2021-05-11 00:11:22</td>\n",
       "      <td>1.0</td>\n",
       "    </tr>\n",
       "    <tr>\n",
       "      <th>2</th>\n",
       "      <td>2</td>\n",
       "      <td>Sallie Gardner at a Gallop</td>\n",
       "      <td>1878.0</td>\n",
       "      <td>0.0</td>\n",
       "      <td>0.0</td>\n",
       "      <td>2221420.0</td>\n",
       "      <td>9603.0</td>\n",
       "      <td>18882.0</td>\n",
       "      <td>2021-04-03 02:25:27</td>\n",
       "      <td>1.0</td>\n",
       "    </tr>\n",
       "    <tr>\n",
       "      <th>3</th>\n",
       "      <td>3</td>\n",
       "      <td>Le singe musicien</td>\n",
       "      <td>1878.0</td>\n",
       "      <td>0.0</td>\n",
       "      <td>0.0</td>\n",
       "      <td>12592084.0</td>\n",
       "      <td>9806.0</td>\n",
       "      <td>19151.0</td>\n",
       "      <td>2021-05-11 23:38:54</td>\n",
       "      <td>1.0</td>\n",
       "    </tr>\n",
       "    <tr>\n",
       "      <th>4</th>\n",
       "      <td>4</td>\n",
       "      <td>Athlete Swinging a Pick</td>\n",
       "      <td>1881.0</td>\n",
       "      <td>0.0</td>\n",
       "      <td>0.0</td>\n",
       "      <td>7816420.0</td>\n",
       "      <td>9816.0</td>\n",
       "      <td>19162.0</td>\n",
       "      <td>2021-05-13 01:32:14</td>\n",
       "      <td>1.0</td>\n",
       "    </tr>\n",
       "  </tbody>\n",
       "</table>\n",
       "</div>"
      ],
      "text/plain": [
       "   Unnamed: 0                       title    year  rating  dubious  \\\n",
       "0           0            Passage de Venus  1874.0     0.0      0.0   \n",
       "1           1           La Rosace Magique  1877.0     0.0      0.0   \n",
       "2           2  Sallie Gardner at a Gallop  1878.0     0.0      0.0   \n",
       "3           3           Le singe musicien  1878.0     0.0      0.0   \n",
       "4           4     Athlete Swinging a Pick  1881.0     0.0      0.0   \n",
       "\n",
       "       imdbid      id  submitterid                 date  visible  \n",
       "0   3155794.0  9602.0      18880.0  2021-04-02 20:58:09      1.0  \n",
       "1  14495706.0  9804.0      19145.0  2021-05-11 00:11:22      1.0  \n",
       "2   2221420.0  9603.0      18882.0  2021-04-03 02:25:27      1.0  \n",
       "3  12592084.0  9806.0      19151.0  2021-05-11 23:38:54      1.0  \n",
       "4   7816420.0  9816.0      19162.0  2021-05-13 01:32:14      1.0  "
      ]
     },
     "execution_count": 5,
     "metadata": {},
     "output_type": "execute_result"
    }
   ],
   "source": [
    "#bechdel_labels = pd.read_csv(\"data/Bechdel_detailed.csv\")\n",
    "#bechdel_labels.head()"
   ]
  },
  {
   "cell_type": "code",
   "execution_count": null,
   "metadata": {},
   "outputs": [
    {
     "data": {
      "text/plain": [
       "9373"
      ]
     },
     "execution_count": 6,
     "metadata": {},
     "output_type": "execute_result"
    }
   ],
   "source": [
    "#len(bechdel_labels['rating'])\n",
    "# 9373 movies"
   ]
  },
  {
   "cell_type": "code",
   "execution_count": 3,
   "metadata": {},
   "outputs": [],
   "source": [
    "# trying getting the movies myself - updated version\n",
    "df = pd.read_json('http://bechdeltest.com/api/v1/getAllMovies')\n"
   ]
  },
  {
   "cell_type": "code",
   "execution_count": 9,
   "metadata": {},
   "outputs": [
    {
     "data": {
      "text/plain": [
       "10408"
      ]
     },
     "execution_count": 9,
     "metadata": {},
     "output_type": "execute_result"
    }
   ],
   "source": [
    "len(df)\n",
    "# now 10,408 movies"
   ]
  },
  {
   "cell_type": "code",
   "execution_count": 4,
   "metadata": {},
   "outputs": [
    {
     "data": {
      "text/plain": [
       "0                   Passage de Venus\n",
       "1                  La Rosace Magique\n",
       "2         Sallie Gardner at a Gallop\n",
       "3                  Le singe musicien\n",
       "4            Athlete Swinging a Pick\n",
       "                    ...             \n",
       "10403              I Saw The TV Glow\n",
       "10404    Dan Da Dan: First Encounter\n",
       "10405         Queen of Villains, The\n",
       "10406                 Substance, The\n",
       "10407                        Abigail\n",
       "Name: title, Length: 10408, dtype: object"
      ]
     },
     "execution_count": 4,
     "metadata": {},
     "output_type": "execute_result"
    }
   ],
   "source": [
    "df['title']"
   ]
  },
  {
   "cell_type": "code",
   "execution_count": 11,
   "metadata": {},
   "outputs": [
    {
     "data": {
      "text/plain": [
       "pandas.core.series.Series"
      ]
     },
     "execution_count": 11,
     "metadata": {},
     "output_type": "execute_result"
    }
   ],
   "source": [
    "type(df['rating'])"
   ]
  },
  {
   "cell_type": "code",
   "execution_count": 13,
   "metadata": {},
   "outputs": [
    {
     "name": "stdout",
     "output_type": "stream",
     "text": [
      "<class 'pandas.core.frame.DataFrame'>\n",
      "RangeIndex: 10408 entries, 0 to 10407\n",
      "Data columns (total 5 columns):\n",
      " #   Column  Non-Null Count  Dtype \n",
      "---  ------  --------------  ----- \n",
      " 0   id      10408 non-null  int64 \n",
      " 1   rating  10408 non-null  int64 \n",
      " 2   year    10408 non-null  int64 \n",
      " 3   imdbid  10408 non-null  object\n",
      " 4   title   10408 non-null  object\n",
      "dtypes: int64(3), object(2)\n",
      "memory usage: 406.7+ KB\n"
     ]
    }
   ],
   "source": [
    "df.info()"
   ]
  },
  {
   "cell_type": "code",
   "execution_count": 19,
   "metadata": {},
   "outputs": [
    {
     "data": {
      "text/plain": [
       "<Axes: xlabel='rating'>"
      ]
     },
     "execution_count": 19,
     "metadata": {},
     "output_type": "execute_result"
    },
    {
     "data": {
      "image/png": "[encoded data removed]",
      "text/plain": [
       "<Figure size 640x480 with 1 Axes>"
      ]
     },
     "metadata": {},
     "output_type": "display_data"
    }
   ],
   "source": [
    "df['rating'].value_counts().plot.bar()"
   ]
  },
  {
   "cell_type": "code",
   "execution_count": 5,
   "metadata": {},
   "outputs": [],
   "source": [
    "# Add a new column based on condition\n",
    "# pythonic version - understand lambda?? \n",
    "df['passed_bechdel'] = df['rating'].apply(lambda x: 1 if x == 3 else 0)\n",
    "\n",
    "# df['passed_bechdel'] = (df['column_to_check'] == 3).astype(int)\n",
    "\n"
   ]
  },
  {
   "cell_type": "code",
   "execution_count": 6,
   "metadata": {},
   "outputs": [
    {
     "data": {
      "text/html": [
       "<div>\n",
       "<style scoped>\n",
       "    .dataframe tbody tr th:only-of-type {\n",
       "        vertical-align: middle;\n",
       "    }\n",
       "\n",
       "    .dataframe tbody tr th {\n",
       "        vertical-align: top;\n",
       "    }\n",
       "\n",
       "    .dataframe thead th {\n",
       "        text-align: right;\n",
       "    }\n",
       "</style>\n",
       "<table border=\"1\" class=\"dataframe\">\n",
       "  <thead>\n",
       "    <tr style=\"text-align: right;\">\n",
       "      <th></th>\n",
       "      <th>title</th>\n",
       "      <th>imdbid</th>\n",
       "      <th>rating</th>\n",
       "      <th>year</th>\n",
       "      <th>id</th>\n",
       "      <th>passed_bechdel</th>\n",
       "    </tr>\n",
       "  </thead>\n",
       "  <tbody>\n",
       "    <tr>\n",
       "      <th>10403</th>\n",
       "      <td>I Saw The TV Glow</td>\n",
       "      <td>15574270</td>\n",
       "      <td>3</td>\n",
       "      <td>2024</td>\n",
       "      <td>11454</td>\n",
       "      <td>1</td>\n",
       "    </tr>\n",
       "    <tr>\n",
       "      <th>10404</th>\n",
       "      <td>Dan Da Dan: First Encounter</td>\n",
       "      <td>33343397</td>\n",
       "      <td>3</td>\n",
       "      <td>2024</td>\n",
       "      <td>11456</td>\n",
       "      <td>1</td>\n",
       "    </tr>\n",
       "    <tr>\n",
       "      <th>10405</th>\n",
       "      <td>Queen of Villains, The</td>\n",
       "      <td>21187072</td>\n",
       "      <td>3</td>\n",
       "      <td>2024</td>\n",
       "      <td>11458</td>\n",
       "      <td>1</td>\n",
       "    </tr>\n",
       "    <tr>\n",
       "      <th>10406</th>\n",
       "      <td>Substance, The</td>\n",
       "      <td>17526714</td>\n",
       "      <td>1</td>\n",
       "      <td>2024</td>\n",
       "      <td>11459</td>\n",
       "      <td>0</td>\n",
       "    </tr>\n",
       "    <tr>\n",
       "      <th>10407</th>\n",
       "      <td>Abigail</td>\n",
       "      <td>27489557</td>\n",
       "      <td>3</td>\n",
       "      <td>2024</td>\n",
       "      <td>11463</td>\n",
       "      <td>1</td>\n",
       "    </tr>\n",
       "  </tbody>\n",
       "</table>\n",
       "</div>"
      ],
      "text/plain": [
       "                             title    imdbid  rating  year     id  \\\n",
       "10403            I Saw The TV Glow  15574270       3  2024  11454   \n",
       "10404  Dan Da Dan: First Encounter  33343397       3  2024  11456   \n",
       "10405       Queen of Villains, The  21187072       3  2024  11458   \n",
       "10406               Substance, The  17526714       1  2024  11459   \n",
       "10407                      Abigail  27489557       3  2024  11463   \n",
       "\n",
       "       passed_bechdel  \n",
       "10403               1  \n",
       "10404               1  \n",
       "10405               1  \n",
       "10406               0  \n",
       "10407               1  "
      ]
     },
     "execution_count": 6,
     "metadata": {},
     "output_type": "execute_result"
    }
   ],
   "source": [
    "df.tail()"
   ]
  },
  {
   "cell_type": "code",
   "execution_count": 7,
   "metadata": {},
   "outputs": [
    {
     "data": {
      "text/plain": [
       "<Axes: xlabel='passed_bechdel'>"
      ]
     },
     "execution_count": 7,
     "metadata": {},
     "output_type": "execute_result"
    },
    {
     "data": {
      "image/png": "[encoded data removed]",
      "text/plain": [
       "<Figure size 640x480 with 1 Axes>"
      ]
     },
     "metadata": {},
     "output_type": "display_data"
    }
   ],
   "source": [
    "df['passed_bechdel'].value_counts().plot.bar()"
   ]
  },
  {
   "cell_type": "code",
   "execution_count": 8,
   "metadata": {},
   "outputs": [
    {
     "data": {
      "text/plain": [
       "passed_bechdel\n",
       "1    5950\n",
       "0    4458\n",
       "Name: count, dtype: int64"
      ]
     },
     "execution_count": 8,
     "metadata": {},
     "output_type": "execute_result"
    }
   ],
   "source": [
    "#df['rating'].value_counts\n",
    "df['passed_bechdel'].value_counts()"
   ]
  },
  {
   "cell_type": "code",
   "execution_count": 9,
   "metadata": {},
   "outputs": [
    {
     "data": {
      "text/plain": [
       "10408"
      ]
     },
     "execution_count": 9,
     "metadata": {},
     "output_type": "execute_result"
    }
   ],
   "source": [
    "len(df['passed_bechdel'])"
   ]
  },
  {
   "cell_type": "code",
   "execution_count": 10,
   "metadata": {},
   "outputs": [
    {
     "data": {
      "text/html": [
       "<div>\n",
       "<style scoped>\n",
       "    .dataframe tbody tr th:only-of-type {\n",
       "        vertical-align: middle;\n",
       "    }\n",
       "\n",
       "    .dataframe tbody tr th {\n",
       "        vertical-align: top;\n",
       "    }\n",
       "\n",
       "    .dataframe thead th {\n",
       "        text-align: right;\n",
       "    }\n",
       "</style>\n",
       "<table border=\"1\" class=\"dataframe\">\n",
       "  <thead>\n",
       "    <tr style=\"text-align: right;\">\n",
       "      <th></th>\n",
       "      <th>title</th>\n",
       "      <th>imdbid</th>\n",
       "      <th>rating</th>\n",
       "      <th>year</th>\n",
       "      <th>id</th>\n",
       "      <th>passed_bechdel</th>\n",
       "    </tr>\n",
       "  </thead>\n",
       "  <tbody>\n",
       "    <tr>\n",
       "      <th>0</th>\n",
       "      <td>Passage de Venus</td>\n",
       "      <td>3155794</td>\n",
       "      <td>0</td>\n",
       "      <td>1874</td>\n",
       "      <td>9602</td>\n",
       "      <td>0</td>\n",
       "    </tr>\n",
       "    <tr>\n",
       "      <th>1</th>\n",
       "      <td>La Rosace Magique</td>\n",
       "      <td>14495706</td>\n",
       "      <td>0</td>\n",
       "      <td>1877</td>\n",
       "      <td>9804</td>\n",
       "      <td>0</td>\n",
       "    </tr>\n",
       "    <tr>\n",
       "      <th>2</th>\n",
       "      <td>Sallie Gardner at a Gallop</td>\n",
       "      <td>2221420</td>\n",
       "      <td>0</td>\n",
       "      <td>1878</td>\n",
       "      <td>9603</td>\n",
       "      <td>0</td>\n",
       "    </tr>\n",
       "    <tr>\n",
       "      <th>3</th>\n",
       "      <td>Le singe musicien</td>\n",
       "      <td>12592084</td>\n",
       "      <td>0</td>\n",
       "      <td>1878</td>\n",
       "      <td>9806</td>\n",
       "      <td>0</td>\n",
       "    </tr>\n",
       "    <tr>\n",
       "      <th>4</th>\n",
       "      <td>Athlete Swinging a Pick</td>\n",
       "      <td>7816420</td>\n",
       "      <td>0</td>\n",
       "      <td>1881</td>\n",
       "      <td>9816</td>\n",
       "      <td>0</td>\n",
       "    </tr>\n",
       "  </tbody>\n",
       "</table>\n",
       "</div>"
      ],
      "text/plain": [
       "                        title    imdbid  rating  year    id  passed_bechdel\n",
       "0            Passage de Venus   3155794       0  1874  9602               0\n",
       "1           La Rosace Magique  14495706       0  1877  9804               0\n",
       "2  Sallie Gardner at a Gallop   2221420       0  1878  9603               0\n",
       "3           Le singe musicien  12592084       0  1878  9806               0\n",
       "4     Athlete Swinging a Pick   7816420       0  1881  9816               0"
      ]
     },
     "execution_count": 10,
     "metadata": {},
     "output_type": "execute_result"
    }
   ],
   "source": [
    "df.head()"
   ]
  },
  {
   "cell_type": "code",
   "execution_count": 11,
   "metadata": {},
   "outputs": [],
   "source": [
    "# I would like to make a list of movie names, which I would like to download the script from \n",
    "movie_titles = df['title']\n",
    "imdb_id = df['imdbid']"
   ]
  },
  {
   "cell_type": "code",
   "execution_count": 12,
   "metadata": {},
   "outputs": [
    {
     "data": {
      "text/plain": [
       "0      3155794\n",
       "1     14495706\n",
       "2      2221420\n",
       "3     12592084\n",
       "4      7816420\n",
       "5      5459794\n",
       "6      8588366\n",
       "7      2075247\n",
       "8      8133192\n",
       "9      7411790\n",
       "10     7541160\n",
       "11     7754902\n",
       "12     8361552\n",
       "13     0392728\n",
       "14     1758563\n",
       "15     0343112\n",
       "16     3274100\n",
       "17     2116853\n",
       "18     0466876\n",
       "19     2116898\n",
       "20     0361921\n",
       "21     0416046\n",
       "22     1202028\n",
       "23     0416047\n",
       "24     5285442\n",
       "25     2116968\n",
       "26     0241373\n",
       "27     0241715\n",
       "28     0241763\n",
       "29     0241393\n",
       "30     0241392\n",
       "31     0241394\n",
       "32     0241735\n",
       "33     3201916\n",
       "34     3508566\n",
       "35     5447082\n",
       "36     0000003\n",
       "37     0000004\n",
       "38     0000002\n",
       "39     0241446\n",
       "40     0234520\n",
       "41     0242148\n",
       "42     0241266\n",
       "43     0000005\n",
       "44     0229217\n",
       "45     8419312\n",
       "46     0000015\n",
       "47     0229235\n",
       "48     0309396\n",
       "49     0309402\n",
       "Name: imdbid, dtype: object"
      ]
     },
     "execution_count": 12,
     "metadata": {},
     "output_type": "execute_result"
    }
   ],
   "source": [
    "imdb_id[0:50]"
   ]
  },
  {
   "cell_type": "code",
   "execution_count": 13,
   "metadata": {},
   "outputs": [
    {
     "data": {
      "text/plain": [
       "0                                      Passage de Venus\n",
       "1                                     La Rosace Magique\n",
       "2                            Sallie Gardner at a Gallop\n",
       "3                                     Le singe musicien\n",
       "4                               Athlete Swinging a Pick\n",
       "5                                       Buffalo Running\n",
       "6                                   L&#39;homme machine\n",
       "7                         Man Walking Around the Corner\n",
       "8                                       Cockatoo Flying\n",
       "9                       Child Carrying Flowers to Woman\n",
       "10               Jumping Over a Man&#39;s Back-Leapfrog\n",
       "11                             Man Riding Jumping Horse\n",
       "12                               Baboon Climbing a Pole\n",
       "13                                Roundhay Garden Scene\n",
       "14                                     Accordion Player\n",
       "15                        Traffic Crossing Leeds Bridge\n",
       "16         Pferd und Reiter Springen uber ein Hindernis\n",
       "17                                Brighton Street Scene\n",
       "18    Leisurely Pedestrians, Open Topped Buses and H...\n",
       "19                                     Hyde Park Corner\n",
       "20                                  Monkeyshines, No. 1\n",
       "21                                  Monkeyshines, No. 2\n",
       "22                        London&#39;s Trafalgar Square\n",
       "23                                  Monkeyshines, No. 3\n",
       "24                                            Mosquinha\n",
       "25                  Traffic in King&#39;s Road, Chelsea\n",
       "26                                     Dickson Greeting\n",
       "27                                           Men Boxing\n",
       "28                                       Newark Athlete\n",
       "29                  Duncan and Another, Blacksmith Shop\n",
       "30                                       Duncan Smoking\n",
       "31                 Duncan or Devonald with Muslin Cloud\n",
       "32                           Monkey and Another, Boxing\n",
       "33                                         Je vous aime\n",
       "34                                             La vague\n",
       "35                                          Two Fencers\n",
       "36                                       Pauvre Pierrot\n",
       "37                                          Un bon bock\n",
       "38                               Le clown et ses chiens\n",
       "39                                              Fencing\n",
       "40                                  Le prince de Galles\n",
       "41                                            Wrestling\n",
       "42                                               Boxing\n",
       "43                                     Blacksmith Scene\n",
       "44                            Annabelle Butterfly Dance\n",
       "45             Edison Kinetoscope Records: Annie Oakley\n",
       "46                              Autour d&#39;une cabine\n",
       "47                                      Barbershop, The\n",
       "48                                      Bucking Broncho\n",
       "49                                        Buffalo Dance\n",
       "Name: title, dtype: object"
      ]
     },
     "execution_count": 13,
     "metadata": {},
     "output_type": "execute_result"
    }
   ],
   "source": [
    "movie_titles[0:50]"
   ]
  },
  {
   "cell_type": "code",
   "execution_count": null,
   "metadata": {},
   "outputs": [],
   "source": [
    "# how do I match these movie titles or IDs to the correct movie script?"
   ]
  },
  {
   "cell_type": "markdown",
   "metadata": {},
   "source": [
    "# testing movie script corpus"
   ]
  },
  {
   "cell_type": "code",
   "execution_count": null,
   "metadata": {},
   "outputs": [],
   "source": []
  },
  {
   "cell_type": "code",
   "execution_count": null,
   "metadata": {},
   "outputs": [],
   "source": []
  }
 ],
 "metadata": {
  "kernelspec": {
   "display_name": "Python 3",
   "language": "python",
   "name": "python3"
  },
  "language_info": {
   "codemirror_mode": {
    "name": "ipython",
    "version": 3
   },
   "file_extension": ".py",
   "mimetype": "text/x-python",
   "name": "python",
   "nbconvert_exporter": "python",
   "pygments_lexer": "ipython3",
   "version": "3.12.3"
  }
 },
 "nbformat": 4,
 "nbformat_minor": 2
}
